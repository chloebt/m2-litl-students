{
  "nbformat": 4,
  "nbformat_minor": 0,
  "metadata": {
    "colab": {
      "name": "TP5_masterLiTL_2122_WSOL.ipynb",
      "provenance": [],
      "collapsed_sections": []
    },
    "kernelspec": {
      "name": "python3",
      "display_name": "Python 3"
    },
    "language_info": {
      "name": "python"
    },
    "accelerator": "GPU"
  },
  "cells": [
    {
      "cell_type": "markdown",
      "metadata": {
        "id": "DGmy-dtuOtiw"
      },
      "source": [
        "# TP5: RNNs\n",
        "\n",
        "In this practical session, we will explore the modifications needed to use a RNN for text classification. We will compare a FFNN with an LSTM, using either BoW or continuous representations. We will also see how to use mini-batches for both classification algorithms.\n",
        "\n",
        "The first part of the code is based on previous sessions:\n",
        "* Part 1: using BoW representations with FFNN or LSTM\n",
        "* Part 2: using continuous representations with FFNN or LSTM\n",
        "* Part 3: using mini-batches requires padding with LSTMs\n",
        "* Part 4: trying other architectures\n",
        "* Part 5: sequence tagging"
      ]
    },
    {
      "cell_type": "code",
      "metadata": {
        "colab": {
          "base_uri": "https://localhost:8080/"
        },
        "id": "pydK_h3QLZfO",
        "outputId": "a17e2b0a-04b0-4701-df1b-d3e967adeb9a"
      },
      "source": [
        "import torch\n",
        "import torch.nn as nn\n",
        "\n",
        "## 1- Define the device to be used\n",
        "\n",
        "# CUDA for PyTorch\n",
        "use_cuda = torch.cuda.is_available()\n",
        "device = torch.device(\"cuda\" if use_cuda else \"cpu\")\n",
        "print(device)"
      ],
      "execution_count": null,
      "outputs": [
        {
          "output_type": "stream",
          "name": "stdout",
          "text": [
            "cuda\n"
          ]
        }
      ]
    },
    {
      "cell_type": "markdown",
      "metadata": {
        "id": "wdSyhJqpVczO"
      },
      "source": [
        "# PART1: BoW Representation\n",
        "\n",
        "## 1.1 Read and load the data\n",
        "\n",
        "The code below is exactly the same as in TP2, building BoW representations."
      ]
    },
    {
      "cell_type": "code",
      "metadata": {
        "colab": {
          "base_uri": "https://localhost:8080/"
        },
        "id": "SoVJ18s_oxkn",
        "outputId": "ec71a4a6-a929-4344-fd24-99fe424d6213"
      },
      "source": [
        "import pandas as pd\n",
        "import numpy as np\n",
        "import re\n",
        "import sklearn\n",
        "\n",
        "from sklearn.feature_extraction.text import CountVectorizer\n",
        "\n",
        "train_path = \"allocine_train.tsv\"\n",
        "dev_path = \"allocine_dev.tsv\"\n",
        "test_path = \"allocine_test.tsv\"\n",
        "\n",
        "# This will be the size of the vectors reprensenting the input\n",
        "MAX_FEATURES = 5000 \n",
        "\n",
        "# Load train, dev and test set\n",
        "train_df = pd.read_csv(train_path, header=0, delimiter=\"\\t\", quoting=3)\n",
        "dev_df = pd.read_csv(dev_path, header=0, delimiter=\"\\t\", quoting=3)\n",
        "test_df = pd.read_csv(test_path, header=0, delimiter=\"\\t\", quoting=3)\n",
        "print(\"Creating features from bag of words...\")\n",
        "vectorizer = CountVectorizer(analyzer = \"word\", max_features = MAX_FEATURES) \n",
        "train_data_features = vectorizer.fit_transform(train_df[\"review\"])\n",
        "x_train = train_data_features.toarray()\n",
        "y_train = np.asarray(train_df[\"sentiment\"])\n",
        "print( \"TRAIN:\", x_train.shape )\n",
        "count_train = x_train.shape[0]\n",
        "# -- DEV\n",
        "dev_data_features = vectorizer.transform(dev_df[\"review\"])\n",
        "x_dev = dev_data_features.toarray()\n",
        "y_dev = np.asarray(dev_df[\"sentiment\"])\n",
        "print( \"DEV:\", x_dev.shape )\n",
        "# -- TEST\n",
        "test_data_features = vectorizer.transform(test_df[\"review\"])\n",
        "x_test = test_data_features.toarray()\n",
        "y_test = np.asarray(test_df[\"sentiment\"])\n",
        "print( \"TEST:\", x_test.shape )"
      ],
      "execution_count": null,
      "outputs": [
        {
          "output_type": "stream",
          "name": "stdout",
          "text": [
            "Creating features from bag of words...\n",
            "TRAIN: (5027, 5000)\n",
            "DEV: (549, 5000)\n",
            "TEST: (544, 5000)\n"
          ]
        }
      ]
    },
    {
      "cell_type": "markdown",
      "source": [
        "## 1.2 Building models\n",
        "\n",
        "### 1.2.1 Using a FFNN\n",
        "\n",
        "The code below defines a FFNN, taking as input a BoW representation (no embedding layer)."
      ],
      "metadata": {
        "id": "Q5cYtN3Q6t-b"
      }
    },
    {
      "cell_type": "code",
      "metadata": {
        "id": "PuV1OjAdMHOX"
      },
      "source": [
        "class FeedforwardNeuralNetModel(nn.Module):\n",
        "    def __init__(self, input_dim, hidden_dim, output_dim):\n",
        "        super(FeedforwardNeuralNetModel, self).__init__()\n",
        "        # Linear function ==> W1\n",
        "        self.fc1 = nn.Linear(input_dim, hidden_dim)\n",
        "\n",
        "        # Non-linearity ==> g\n",
        "        self.sigmoid = nn.Sigmoid()\n",
        "\n",
        "        # Linear function (readout) ==> W2\n",
        "        self.fc2 = nn.Linear(hidden_dim, output_dim)  \n",
        "\n",
        "    def forward(self, x):\n",
        "        '''\n",
        "        y = g(x.W1+b).W2\n",
        "        '''\n",
        "        # Linear function  # LINEAR ==> x.W1+b\n",
        "        out = self.fc1(x)\n",
        "\n",
        "        # Non-linearity  # NON-LINEAR ==> h1 = g(x.W1+b)\n",
        "        out = self.sigmoid(out) \n",
        "\n",
        "        # Linear function (readout)  # LINEAR ==> y = h1.W2\n",
        "        out = self.fc2(out)\n",
        "        return out"
      ],
      "execution_count": null,
      "outputs": []
    },
    {
      "cell_type": "markdown",
      "source": [
        "### 1.2.1 Using a LSTM\n",
        "\n",
        "The code below defines an LSTM model, taking also a Bow representation.\n",
        "\n",
        "As you can see, we have now:\n",
        "* an LSTM layer that will transform our input into a vector representation with the size hidden_dim\n",
        "* in the forward pass, we need to reshape the data using:\n",
        "```\n",
        "x = x.view(len(x), 1, -1)\n",
        "```\n",
        "\n",
        "We need to reshape our input data before passing it to the LSTM layer, because it takes a 3D tensor with (Sequence lenght, Batch size, Input size). This is done with the 'view' method, the pytorch 'reshape' function for tensors. (there's also a format with batch size first, more easy to understand)"
      ],
      "metadata": {
        "id": "nGipZB6P67x-"
      }
    },
    {
      "cell_type": "code",
      "source": [
        "class LSTMModel(nn.Module):\n",
        "    def __init__(self, input_dim, hidden_dim, output_dim):\n",
        "        super(LSTMModel, self).__init__()\n",
        "\n",
        "        self.lstm = nn.LSTM( input_size=input_dim, \n",
        "                            hidden_size=hidden_dim, \n",
        "                            bidirectional=False)\n",
        "\n",
        "        # Linear function (readout) ==> W2\n",
        "        self.fc2 = nn.Linear(hidden_dim, output_dim)  \n",
        "\n",
        "    def forward(self, x):\n",
        "        # The view function is meant to reshape the tensor, keeping the \n",
        "        # same number of elements\n",
        "        # e.g. try a = torch.range(1, 16) and a = a.view(4, 4)\n",
        "        # When you don t know how many elements you want for one dimension,\n",
        "        # you can use -1\n",
        "        # Here, an LSTM wants as input a 3D tensor with:\n",
        "        # Sequence lenght, Batch size, Input size\n",
        "        x = x.view(len(x), 1, -1)\n",
        "        out, (ht, ct) = self.lstm( x )\n",
        "        y = self.fc2(ht[-1])\n",
        "        return y\n",
        "        "
      ],
      "metadata": {
        "id": "553lGX8njqKi"
      },
      "execution_count": null,
      "outputs": []
    },
    {
      "cell_type": "markdown",
      "source": [
        "The training and evaluation functions are given below. "
      ],
      "metadata": {
        "id": "4DvcPpqTkCuQ"
      }
    },
    {
      "cell_type": "code",
      "metadata": {
        "id": "ANibLgnhL9jU"
      },
      "source": [
        "from sklearn.metrics import classification_report, accuracy_score\n",
        "\n",
        "def train( model, train_loader, optimizer, num_epochs=5, trace=False ):\n",
        "    for epoch in range(num_epochs):\n",
        "        train_loss, total_acc, total_count = 0, 0, 0\n",
        "        for input, label in train_loader:\n",
        "            input = input.to(device)\n",
        "            label = label.to(device)\n",
        "            # Step1. Clearing the accumulated gradients\n",
        "            optimizer.zero_grad()\n",
        "            # Step 2. Forward pass to get output/logits\n",
        "            outputs = model( input )\n",
        "            if trace:\n",
        "              print(input) # <---- call with trace=True to 'see' the input\n",
        "              trace=False\n",
        "            # Step 3. Compute the loss, gradients, and update the parameters by\n",
        "            # calling optimizer.step()\n",
        "            # - Calculate Loss: softmax --> cross entropy loss\n",
        "            loss = criterion(outputs, label)\n",
        "            # - Getting gradients w.r.t. parameters\n",
        "            loss.backward()\n",
        "            # - Updating parameters\n",
        "            optimizer.step()\n",
        "            # Accumulating the loss over time\n",
        "            train_loss += loss.item()\n",
        "            total_acc += (outputs.argmax(1) == label).sum().item()\n",
        "            total_count += label.size(0)\n",
        "        # Compute accuracy on train set at each epoch\n",
        "        print('Epoch: {}. Loss: {}. ACC {} '.format(epoch, train_loss/count_train, total_acc/count_train))\n",
        "        total_acc, total_count = 0, 0\n",
        "        train_loss = 0\n",
        "\n",
        "def evaluate( model, dev_loader ):\n",
        "    predictions = []\n",
        "    gold = []\n",
        "    with torch.no_grad():\n",
        "        for input, label in dev_loader:\n",
        "            input = input.to(device)\n",
        "            label = label.to(device)\n",
        "            probs = model(input)\n",
        "            predictions.append( torch.argmax(probs, dim=1).cpu().numpy()[0] )\n",
        "            gold.append(int(label))\n",
        "    print(classification_report(gold, predictions))\n",
        "    return gold, predictions"
      ],
      "execution_count": null,
      "outputs": []
    },
    {
      "cell_type": "markdown",
      "source": [
        "## 1.3 Run an experiment\n",
        "\n",
        "### 1.3.1 Test with a FFNN\n",
        "\n",
        "The code below will launch an experiment with a simple Feed Forward Neural Network.\n",
        "\n",
        "We load the data with a batch size of 1."
      ],
      "metadata": {
        "id": "zKA97IBlpkQ0"
      }
    },
    {
      "cell_type": "code",
      "source": [
        "from torch.utils.data import TensorDataset, DataLoader\n",
        "\n",
        "# create Tensor dataset\n",
        "train_data = TensorDataset(torch.from_numpy(x_train).to(torch.float), torch.from_numpy(y_train))\n",
        "batch_size = 1 #no batch, or batch = 1\n",
        "train_loader = DataLoader(train_data, shuffle=True, batch_size=batch_size )\n",
        "# Load dev data\n",
        "dev_data = TensorDataset(torch.from_numpy(x_dev).to(torch.float), torch.from_numpy(y_dev))\n",
        "dev_loader = DataLoader(dev_data, shuffle=True )"
      ],
      "metadata": {
        "id": "VN3e9f7CnDBe"
      },
      "execution_count": null,
      "outputs": []
    },
    {
      "cell_type": "code",
      "metadata": {
        "id": "fcGyjXbUoxx9"
      },
      "source": [
        "# Set the value of the hyper-parameters\n",
        "VOCAB_SIZE = MAX_FEATURES # here BoW representation\n",
        "input_dim = VOCAB_SIZE \n",
        "hidden_dim = 4\n",
        "output_dim = 2\n",
        "learning_rate = 0.1\n",
        "num_epochs = 5\n",
        "criterion = nn.CrossEntropyLoss()"
      ],
      "execution_count": null,
      "outputs": []
    },
    {
      "cell_type": "code",
      "source": [
        "# Initialize the model\n",
        "model_ffnn = FeedforwardNeuralNetModel(input_dim, hidden_dim, output_dim)\n",
        "optimizer = torch.optim.SGD(model_ffnn.parameters(), lr=learning_rate)\n",
        "model_ffnn = model_ffnn.to(device)\n",
        "# Train the model\n",
        "train( model_ffnn, train_loader, optimizer, num_epochs=5 )\n",
        "# Evaluate on dev\n",
        "gold, pred = evaluate( model_ffnn, dev_loader )"
      ],
      "metadata": {
        "colab": {
          "base_uri": "https://localhost:8080/"
        },
        "id": "CouamGG9jpA6",
        "outputId": "8752301c-e68a-4780-db5d-1fd00174db2d"
      },
      "execution_count": null,
      "outputs": [
        {
          "output_type": "stream",
          "name": "stdout",
          "text": [
            "Epoch: 0. Loss: 0.5310822658194294. ACC 0.7296598368808435 \n",
            "Epoch: 1. Loss: 0.37149986686023917. ACC 0.8388701014521583 \n",
            "Epoch: 2. Loss: 0.3019296306244524. ACC 0.8736821165705192 \n",
            "Epoch: 3. Loss: 0.27243544037951795. ACC 0.8874079968171872 \n",
            "Epoch: 4. Loss: 0.24965128841610157. ACC 0.8985478416550626 \n",
            "              precision    recall  f1-score   support\n",
            "\n",
            "           0       0.92      0.66      0.77       230\n",
            "           1       0.80      0.96      0.87       319\n",
            "\n",
            "    accuracy                           0.83       549\n",
            "   macro avg       0.86      0.81      0.82       549\n",
            "weighted avg       0.85      0.83      0.83       549\n",
            "\n"
          ]
        }
      ]
    },
    {
      "cell_type": "markdown",
      "source": [
        "### 1.3.2 Test with LSTM \n",
        "\n",
        "The code below will launch the experiment with the LSTM model."
      ],
      "metadata": {
        "id": "b-w_NPoObyMY"
      }
    },
    {
      "cell_type": "code",
      "metadata": {
        "id": "K7mmAyoPMziY",
        "colab": {
          "base_uri": "https://localhost:8080/"
        },
        "outputId": "bcf96c80-7518-46e4-99c5-9ca12842e6dd"
      },
      "source": [
        "# Initialization of the model\n",
        "model_lstm = LSTMModel(input_dim, hidden_dim, output_dim)\n",
        "optimizer = torch.optim.SGD(model_lstm.parameters(), lr=learning_rate)\n",
        "model = model_lstm.to(device)\n",
        "\n",
        "# Train the model\n",
        "train( model_lstm, train_loader, optimizer, num_epochs=5 )\n",
        "\n",
        "# Evaluate on dev\n",
        "gold, pred = evaluate( model_lstm, dev_loader )"
      ],
      "execution_count": null,
      "outputs": [
        {
          "output_type": "stream",
          "name": "stdout",
          "text": [
            "Epoch: 0. Loss: 0.6430493564603756. ACC 0.608712950069624 \n",
            "Epoch: 1. Loss: 0.46818868185741624. ACC 0.7911279092898349 \n",
            "Epoch: 2. Loss: 0.3996108074701977. ACC 0.8273324050129301 \n",
            "Epoch: 3. Loss: 0.33248901107294404. ACC 0.8633379749353491 \n",
            "Epoch: 4. Loss: 0.30688487456454533. ACC 0.8798488163914859 \n",
            "              precision    recall  f1-score   support\n",
            "\n",
            "           0       0.78      0.82      0.80       230\n",
            "           1       0.87      0.83      0.85       319\n",
            "\n",
            "    accuracy                           0.83       549\n",
            "   macro avg       0.82      0.83      0.82       549\n",
            "weighted avg       0.83      0.83      0.83       549\n",
            "\n"
          ]
        }
      ]
    },
    {
      "cell_type": "markdown",
      "source": [
        "As an exercize, you can vary some hyper-parameters and compute the final scores of both models on the test dataset."
      ],
      "metadata": {
        "id": "iK6YvaCX8nNY"
      }
    },
    {
      "cell_type": "markdown",
      "source": [
        "# PART2: continuous representation\n",
        "\n",
        "Now we will go back to the continuous representation, i.e. randomly initialized real-valued vectors. \n",
        "\n",
        "## 2.1 Load the data\n",
        "\n",
        "The code below is the same as in TP4: we tokenize the data, extract the vocabulary, and build pipelines to process the data. We also define the function 'collate_batch' that is used to process batches of data. For now, we keep batch_size=1. "
      ],
      "metadata": {
        "id": "vH5PWlKbb2H_"
      }
    },
    {
      "cell_type": "code",
      "source": [
        "from torchtext.data.utils import get_tokenizer\n",
        "from torchtext.vocab import build_vocab_from_iterator\n",
        "\n",
        "# splits the string sentence by space.\n",
        "tokenizer = get_tokenizer( None ) \n",
        "train_iter = []\n",
        "for i in train_df.index:\n",
        "    train_iter.append( tuple( [train_df[\"sentiment\"][i], train_df[\"review\"][i]] ) )\n",
        "dev_iter = []\n",
        "for i in dev_df.index:\n",
        "    dev_iter.append( tuple( [dev_df[\"sentiment\"][i], dev_df[\"review\"][i]] ) )\n",
        "\n",
        "def yield_tokens(data_iter):\n",
        "    for _, text in data_iter:\n",
        "        yield tokenizer(text)\n",
        "\n",
        "vocab = build_vocab_from_iterator(yield_tokens(train_iter), specials=[\"<unk>\"])\n",
        "vocab.set_default_index(vocab[\"<unk>\"])\n",
        "\n",
        "text_pipeline = lambda x: vocab(tokenizer(x))\n",
        "label_pipeline = lambda x: int(x) #simple mapping to self\n",
        "\n",
        "def collate_batch(batch):\n",
        "    label_list, text_list, offsets = [], [], [0]\n",
        "    for (_label, _text) in batch:\n",
        "         label_list.append(label_pipeline(_label))\n",
        "         processed_text = torch.tensor(text_pipeline(_text), dtype=torch.int64)\n",
        "         text_list.append(processed_text)\n",
        "         offsets.append(processed_text.size(0))\n",
        "    label = torch.tensor(label_list, dtype=torch.int64)\n",
        "    offsets = torch.tensor(offsets[:-1]).cumsum(dim=0)\n",
        "    text_list = torch.cat(text_list)\n",
        "    return label.to(device), text_list.to(device), offsets.to(device)\n"
      ],
      "metadata": {
        "id": "U2dZLp8FrSNT"
      },
      "execution_count": null,
      "outputs": []
    },
    {
      "cell_type": "markdown",
      "source": [
        "## 2.2 Define the models\n",
        "\n",
        "The code below defines a FFNN with an embedding layer that transforms our input words to vectors of size 'embed_dim' and performs an operation on these vectors to build a representaton for each document (default=mean).\n",
        "\n",
        "Remember that we need the 'offsets' here to retrieve the batches (each document is concatenated to the others in a batch, the offsets are used to retrieve the separate documents)."
      ],
      "metadata": {
        "id": "7PRplEud9XHm"
      }
    },
    {
      "cell_type": "code",
      "source": [
        "class FeedforwardNeuralNetModel2(nn.Module):\n",
        "    def __init__(self, vocab_size, embed_dim, hidden_dim, output_dim):\n",
        "        super(FeedforwardNeuralNetModel2, self).__init__()\n",
        "\n",
        "        self.embedding = nn.EmbeddingBag(vocab_size, embed_dim, sparse=True)\n",
        "        # Linear function ==> W1\n",
        "        self.fc1 = nn.Linear(embed_dim, hidden_dim)\n",
        "\n",
        "        # Non-linearity ==> g\n",
        "        self.sigmoid = nn.Sigmoid()\n",
        "\n",
        "        # Linear function (readout) ==> W2\n",
        "        self.fc2 = nn.Linear(hidden_dim, output_dim)  \n",
        "\n",
        "    def forward(self, text, offsets):\n",
        "        embedded = self.embedding(text, offsets)\n",
        "        # Linear function  # LINEAR ==> x.W1+b\n",
        "        out = self.fc1(embedded)\n",
        "\n",
        "        # Non-linearity  # NON-LINEAR ==> h1 = g(x.W1+b)\n",
        "        out = self.sigmoid(out) \n",
        "\n",
        "        # Linear function (readout)  # LINEAR ==> y = h1.W2\n",
        "        out = self.fc2(out)\n",
        "        return out"
      ],
      "metadata": {
        "id": "CVWapsW2sQ2J"
      },
      "execution_count": null,
      "outputs": []
    },
    {
      "cell_type": "markdown",
      "source": [
        "The code below defines an architecture using an LSTM which is fed with continuous representations. The embedding layer transforms our words into continuous vectors that are the inputs of our LSTM (that is thus a replacement of the 'embedding bag'). "
      ],
      "metadata": {
        "id": "j_4UxQJX92so"
      }
    },
    {
      "cell_type": "code",
      "source": [
        "class LSTMModel2(nn.Module):\n",
        "    def __init__(self, vocab_size, embedding_dim, hidden_dim, output_dim):\n",
        "        super(LSTMModel2, self).__init__()\n",
        "\n",
        "        self.embedding = nn.Embedding(vocab_size, embedding_dim)\n",
        "\n",
        "        self.lstm = nn.LSTM( input_size=embedding_dim, \n",
        "                            hidden_size=hidden_dim, \n",
        "                            bidirectional=False)\n",
        "\n",
        "        self.fc2 = nn.Linear(hidden_dim, output_dim)  \n",
        "\n",
        "    def forward(self, text):\n",
        "        embeds = self.embedding(text)\n",
        "        x = embeds.view(len(text), 1, -1)\n",
        "        out, (ht, ct) = self.lstm( x )\n",
        "        y = self.fc2(ht[-1])\n",
        "        return y"
      ],
      "metadata": {
        "id": "wxTCWm7CtpvM"
      },
      "execution_count": null,
      "outputs": []
    },
    {
      "cell_type": "markdown",
      "source": [
        "### Train and evaluation\n",
        "\n",
        "To use the offsets, we need to modify the train and evaluation procedures."
      ],
      "metadata": {
        "id": "UsXmIGqApbxj"
      }
    },
    {
      "cell_type": "code",
      "source": [
        "def train_woffset( model, train_loader, optimizer, num_epochs=5 ):\n",
        "    for epoch in range(num_epochs):\n",
        "        train_loss, total_acc, total_count = 0, 0, 0\n",
        "        for label, input, offsets in train_loader:\n",
        "            input = input.to(device)\n",
        "            label = label.to(device)\n",
        "            # Step1. Clearing the accumulated gradients\n",
        "            optimizer.zero_grad()\n",
        "            # Step 2. Forward pass to get output/logits\n",
        "            outputs = model( input, offsets )\n",
        "            # Step 3. Compute the loss, gradients, and update the parameters by\n",
        "            # calling optimizer.step()\n",
        "            # - Calculate Loss: softmax --> cross entropy loss\n",
        "            loss = criterion(outputs, label)\n",
        "            # - Getting gradients w.r.t. parameters\n",
        "            loss.backward()\n",
        "            # - Updating parameters\n",
        "            optimizer.step()\n",
        "            # Accumulating the loss over time\n",
        "            train_loss += loss.item()\n",
        "            total_acc += (outputs.argmax(1) == label).sum().item()\n",
        "            total_count += label.size(0)\n",
        "        # Compute accuracy on train set at each epoch\n",
        "        print('Epoch: {}. Loss: {}. ACC {} '.format(epoch, train_loss/count_train, total_acc/count_train))\n",
        "        total_acc, total_count = 0, 0\n",
        "        train_loss = 0\n",
        "\n",
        "def evaluate_woffset( model, dev_loader ):\n",
        "    predictions = []\n",
        "    gold = []\n",
        "    with torch.no_grad():\n",
        "        for label, input, offsets in dev_loader:\n",
        "            input = input.to(device)\n",
        "            label = label.to(device)\n",
        "            probs = model(input, offsets)\n",
        "            predictions.append( torch.argmax(probs, dim=1).cpu().numpy()[0] )\n",
        "            gold.append(int(label))\n",
        "    print(classification_report(gold, predictions))\n",
        "    return gold, predictions"
      ],
      "metadata": {
        "id": "US_0JmN5phqs"
      },
      "execution_count": null,
      "outputs": []
    },
    {
      "cell_type": "markdown",
      "source": [
        "## 2.3 Run an experiments\n",
        "\n",
        "### Test with a FFNN\n",
        "\n",
        "The code below uses the FFNN with continuous representations."
      ],
      "metadata": {
        "id": "NC2VtTmv-Q_c"
      }
    },
    {
      "cell_type": "code",
      "source": [
        "# Load data\n",
        "batch_size = 1\n",
        "train_loader = DataLoader(train_iter, batch_size=batch_size, shuffle=True, collate_fn=collate_batch)\n",
        "dev_loader = DataLoader(dev_iter, batch_size=batch_size, shuffle=True, collate_fn=collate_batch)"
      ],
      "metadata": {
        "id": "TBB9S0NBqNLS"
      },
      "execution_count": null,
      "outputs": []
    },
    {
      "cell_type": "code",
      "source": [
        "# Set the values of the hyperparameters\n",
        "vocab_size = len(vocab)\n",
        "emb_dim = 300\n",
        "hidden_dim = 4\n",
        "output_dim = 2\n",
        "learning_rate = 0.1\n",
        "num_epochs = 5\n",
        "criterion = nn.CrossEntropyLoss()"
      ],
      "metadata": {
        "id": "Jod8FnWPs_Vi"
      },
      "execution_count": null,
      "outputs": []
    },
    {
      "cell_type": "code",
      "source": [
        "# Initialize the model\n",
        "model_ffnn2 = FeedforwardNeuralNetModel2(vocab_size, emb_dim, hidden_dim, output_dim)\n",
        "optimizer = torch.optim.SGD(model_ffnn2.parameters(), lr=learning_rate)\n",
        "model_ffnn2 = model_ffnn2.to(device)\n",
        "# Train the model\n",
        "train_woffset( model_ffnn2, train_loader, optimizer, num_epochs=5 )\n",
        "# Evaluate on dev\n",
        "gold, pred = evaluate_woffset( model_ffnn2, dev_loader )"
      ],
      "metadata": {
        "colab": {
          "base_uri": "https://localhost:8080/"
        },
        "id": "1Xug7ygbpAhS",
        "outputId": "3e69a73e-5156-4434-ed44-c115f9631ba7"
      },
      "execution_count": null,
      "outputs": [
        {
          "output_type": "stream",
          "name": "stdout",
          "text": [
            "Epoch: 0. Loss: 0.6306894561511125. ACC 0.640740003978516 \n",
            "Epoch: 1. Loss: 0.5420340834192335. ACC 0.7286652078774617 \n",
            "Epoch: 2. Loss: 0.48133364035050424. ACC 0.7744181420330217 \n",
            "Epoch: 3. Loss: 0.4296542482924371. ACC 0.8062462701412373 \n",
            "Epoch: 4. Loss: 0.3794683358215508. ACC 0.834095882235926 \n",
            "              precision    recall  f1-score   support\n",
            "\n",
            "           0       0.55      0.92      0.69       230\n",
            "           1       0.89      0.46      0.61       319\n",
            "\n",
            "    accuracy                           0.66       549\n",
            "   macro avg       0.72      0.69      0.65       549\n",
            "weighted avg       0.75      0.66      0.64       549\n",
            "\n"
          ]
        }
      ]
    },
    {
      "cell_type": "markdown",
      "source": [
        "### Test with LSTM\n",
        "\n",
        "The code below will laucnh an experiment with the LSTM archtecture and a continuous representation. \n",
        "\n",
        "We don't need offsets with LSTM, since we do not embed directly each sequence using EmbeddingBag. Below is thus a version of collate_batch that does not return the offsets. In this case, we can use the train / evaluation functions defined before.\n",
        "\n",
        "\n",
        "Note: be careful, the collate_batch function below return (input, label) while the previous one returns (label, input, offsets), thus in one train function we have *for input, label in train* while in the other we have *for label, input in train* (should be modified in further versions)"
      ],
      "metadata": {
        "id": "x1H86MYF-lph"
      }
    },
    {
      "cell_type": "code",
      "source": [
        "def collate_batch2(batch):\n",
        "    label_list, text_list, offsets = [], [], [0]\n",
        "    for (_label, _text) in batch:\n",
        "         label_list.append(label_pipeline(_label))\n",
        "         processed_text = torch.tensor(text_pipeline(_text), dtype=torch.int64)\n",
        "         text_list.append(processed_text)\n",
        "         offsets.append(processed_text.size(0))\n",
        "    label = torch.tensor(label_list, dtype=torch.int64)\n",
        "    offsets = torch.tensor(offsets[:-1]).cumsum(dim=0)\n",
        "    text_list = torch.cat(text_list)\n",
        "    return text_list.to(device), label.to(device)"
      ],
      "metadata": {
        "id": "DL53tkChstGx"
      },
      "execution_count": null,
      "outputs": []
    },
    {
      "cell_type": "code",
      "source": [
        "# Load data\n",
        "batch_size = 1\n",
        "train_loader = DataLoader(train_iter, batch_size=batch_size, shuffle=True, collate_fn=collate_batch2)\n",
        "dev_loader = DataLoader(dev_iter, batch_size=batch_size, shuffle=True, collate_fn=collate_batch2)"
      ],
      "metadata": {
        "id": "lQ-GND1UsOc1"
      },
      "execution_count": null,
      "outputs": []
    },
    {
      "cell_type": "code",
      "source": [
        "# Set the values for the hyperparameters\n",
        "vocab_size = len(vocab)\n",
        "emb_dim = 300\n",
        "hidden_dim = 32\n",
        "output_dim = 2\n",
        "learning_rate = 0.1\n",
        "num_epochs = 5\n",
        "criterion = nn.CrossEntropyLoss()"
      ],
      "metadata": {
        "id": "Ll4Q4w3ouyEZ"
      },
      "execution_count": null,
      "outputs": []
    },
    {
      "cell_type": "code",
      "source": [
        "# Initialize the model\n",
        "model_lstm2 = LSTMModel2(vocab_size, emb_dim, hidden_dim, output_dim)\n",
        "optimizer = torch.optim.SGD(model_lstm2.parameters(), lr=learning_rate)\n",
        "model_lstm2 = model_lstm2.to(device)\n",
        "\n",
        "# Train the model\n",
        "train( model_lstm2, train_loader, optimizer, num_epochs=5 )\n",
        "# Evaluate on dev\n",
        "gold, pred = evaluate( model_lstm2, dev_loader )"
      ],
      "metadata": {
        "colab": {
          "base_uri": "https://localhost:8080/"
        },
        "id": "ROOOLRLasTtt",
        "outputId": "fdcec70f-c2f8-48fc-d1d9-e8522ddc9fe2"
      },
      "execution_count": null,
      "outputs": [
        {
          "output_type": "stream",
          "name": "stdout",
          "text": [
            "Epoch: 0. Loss: 0.7284443742470189. ACC 0.5235727073801472 \n",
            "Epoch: 1. Loss: 0.6443618801109321. ACC 0.6423314103839268 \n",
            "Epoch: 2. Loss: 0.47914504288998055. ACC 0.7750149194350507 \n",
            "Epoch: 3. Loss: 0.34037422375024856. ACC 0.8531927591008553 \n",
            "Epoch: 4. Loss: 0.23443479436368525. ACC 0.9049134672767057 \n",
            "              precision    recall  f1-score   support\n",
            "\n",
            "           0       0.51      0.79      0.62       230\n",
            "           1       0.74      0.45      0.56       319\n",
            "\n",
            "    accuracy                           0.59       549\n",
            "   macro avg       0.62      0.62      0.59       549\n",
            "weighted avg       0.64      0.59      0.58       549\n",
            "\n"
          ]
        }
      ]
    },
    {
      "cell_type": "markdown",
      "source": [
        "As an exercize, cary the hyper-parameters values and evaluate the models on the test set. "
      ],
      "metadata": {
        "id": "4WKeIN7Q-zG0"
      }
    },
    {
      "cell_type": "markdown",
      "source": [
        "# PART3: using mini-batches\n",
        "\n",
        "## With FFNN\n",
        "We have the code required to use mini-batches with FFNN. The function 'collate_batch' defined earlier makes a concatenation of the input data, and the offsets are used to retrieve the separate documents to be embeddded. \n",
        "\n",
        "▶▶ **Load the data with a batch of size 2 and run a FFNN.**"
      ],
      "metadata": {
        "id": "qRBQjE9Yz4tK"
      }
    },
    {
      "cell_type": "code",
      "source": [
        "# Load data\n",
        "batch_size = 2\n",
        "train_loader = DataLoader(train_iter, batch_size=batch_size, shuffle=True, collate_fn=collate_batch)\n",
        "dev_loader = DataLoader(dev_iter, shuffle=True, collate_fn=collate_batch)"
      ],
      "metadata": {
        "id": "naR8bdAb_MXY"
      },
      "execution_count": null,
      "outputs": []
    },
    {
      "cell_type": "code",
      "source": [
        "# Hyper-parameters\n",
        "vocab_size = len(vocab)\n",
        "emb_dim = 300\n",
        "hidden_dim = 32\n",
        "output_dim = 2\n",
        "learning_rate = 0.1\n",
        "num_epochs = 5\n",
        "criterion = nn.CrossEntropyLoss()"
      ],
      "metadata": {
        "id": "Q-Ll7nT4ulx3"
      },
      "execution_count": null,
      "outputs": []
    },
    {
      "cell_type": "code",
      "source": [
        "# Initialize the model\n",
        "model_ffnn2 = FeedforwardNeuralNetModel2(vocab_size, emb_dim, hidden_dim, output_dim)\n",
        "optimizer = torch.optim.SGD(model_ffnn2.parameters(), lr=learning_rate)\n",
        "model_ffnn2 = model_ffnn2.to(device)\n",
        "# Train the model\n",
        "train_woffset( model_ffnn2, train_loader, optimizer, num_epochs=5 )\n",
        "# Evaluate on dev\n",
        "gold, pred = evaluate_woffset( model_ffnn2, dev_loader )"
      ],
      "metadata": {
        "colab": {
          "base_uri": "https://localhost:8080/"
        },
        "id": "Ev3AikiQusA6",
        "outputId": "8a32bd87-4d0e-4f81-a7a0-ff1c8deb37a7"
      },
      "execution_count": null,
      "outputs": [
        {
          "output_type": "stream",
          "name": "stdout",
          "text": [
            "Epoch: 0. Loss: 0.3468856945180362. ACC 0.5742987865526159 \n",
            "Epoch: 1. Loss: 0.3009054099506214. ACC 0.6773423513029639 \n",
            "Epoch: 2. Loss: 0.27664648630964395. ACC 0.7141436244280883 \n",
            "Epoch: 3. Loss: 0.2542631309158968. ACC 0.7551223393674159 \n",
            "Epoch: 4. Loss: 0.23757548741548876. ACC 0.7724288840262582 \n",
            "              precision    recall  f1-score   support\n",
            "\n",
            "           0       0.69      0.67      0.68       230\n",
            "           1       0.77      0.79      0.78       319\n",
            "\n",
            "    accuracy                           0.74       549\n",
            "   macro avg       0.73      0.73      0.73       549\n",
            "weighted avg       0.73      0.74      0.74       549\n",
            "\n"
          ]
        }
      ]
    },
    {
      "cell_type": "markdown",
      "source": [
        "## With LSTM\n",
        "\n",
        "When using LSTMs, we need a bit more work: the problem is that all the documents in a batch need to have the same length, because the size of the input defines the size of the network (each xi is associated with a state si). \n",
        "\n",
        "The solution is called **padding**: we add zeros at the end of the sequences that are shorter than the max length. \n",
        "\n",
        "The easiest solution to do so is to pad the sequences using *torch.nn.utils.rnn.pad_sequence* as done below within the *collate_batch_pad* function. This function returns a tensor of padded sequences, that can be directly used as input of our model.\n",
        "\n",
        "https://pytorch.org/docs/stable/generated/torch.nn.utils.rnn.pad_sequence.html"
      ],
      "metadata": {
        "id": "PMW11fIi_RPq"
      }
    },
    {
      "cell_type": "code",
      "source": [
        "from torchtext.data.utils import get_tokenizer\n",
        "from torchtext.vocab import build_vocab_from_iterator\n",
        "from torch.nn.utils.rnn import pad_sequence\n",
        "\n",
        "def collate_batch_pad(batch):\n",
        "    label_list, text_list, offsets = [], [], [0]\n",
        "    for (_label, _text) in batch:\n",
        "         label_list.append(label_pipeline(_label))\n",
        "         processed_text = torch.tensor(text_pipeline(_text), dtype=torch.int64)\n",
        "         text_list.append(processed_text)\n",
        "         offsets.append(processed_text.size(0))\n",
        "    label = torch.tensor(label_list, dtype=torch.int64)\n",
        "    offsets = torch.tensor(offsets[:-1]).cumsum(dim=0)\n",
        "    #text_list = torch.cat(text_list) # Instead of concatenating, we use padding\n",
        "    text_list = pad_sequence(text_list, padding_value=0) # <-------\n",
        "    return text_list.to(device), label.to(device)\n",
        "\n"
      ],
      "metadata": {
        "id": "3U9zTPil09aj"
      },
      "execution_count": null,
      "outputs": []
    },
    {
      "cell_type": "markdown",
      "source": [
        "We slightly modify our model, just to take into account a custom batch size. See in the forward pass:\n",
        "* the *view* method now has, as a 2nd argument, the batch size (while it was previously set to 1)"
      ],
      "metadata": {
        "id": "Jz6ONIX1AmDn"
      }
    },
    {
      "cell_type": "code",
      "source": [
        "class LSTMModel3(nn.Module):\n",
        "    def __init__(self, vocab_size, embedding_dim, hidden_dim, output_dim, batch_size):\n",
        "        super(LSTMModel3, self).__init__()\n",
        "        self.trace = True\n",
        "        self.batch_size = batch_size # <------\n",
        "        self.embedding = nn.Embedding(vocab_size, embedding_dim)\n",
        "        self.lstm = nn.LSTM( input_size=embedding_dim, \n",
        "                            hidden_size=hidden_dim, \n",
        "                            bidirectional=False)\n",
        "\n",
        "        self.fc2 = nn.Linear(hidden_dim, output_dim)  \n",
        "\n",
        "    def forward(self, text):\n",
        "        embeds = self.embedding(text)\n",
        "        if self.trace:\n",
        "          print( len(text), self.batch_size, embeds.shape)\n",
        "          self.trace = False\n",
        "        x = embeds.view(len(text), self.batch_size, -1) # <------\n",
        "        out, (ht, ct) = self.lstm( x )\n",
        "        y = self.fc2(ht[-1])\n",
        "        return y"
      ],
      "metadata": {
        "id": "tk2xBsPQz6ed"
      },
      "execution_count": null,
      "outputs": []
    },
    {
      "cell_type": "markdown",
      "source": [
        "You can now run an experiment with a batch size of 2.\n",
        "\n",
        "Note that we have another modification here in the Dataloader:\n",
        "* drop_last=True: drop the last incomplete batch \n",
        "\n",
        "▶▶ **Uncomment the 'print' in the forward function above and in the train loop to see what the data looks like (stop training when a few tensors are printed).**"
      ],
      "metadata": {
        "id": "EaODIVCQA05f"
      }
    },
    {
      "cell_type": "code",
      "source": [
        "# Load data\n",
        "batch_size = 2\n",
        "train_loader = DataLoader(train_iter, batch_size=batch_size, shuffle=True, \n",
        "                          collate_fn=collate_batch_pad, drop_last=True)\n",
        "dev_loader = DataLoader(dev_iter, shuffle=True, batch_size=2, \n",
        "                        collate_fn=collate_batch_pad, drop_last=True)"
      ],
      "metadata": {
        "id": "Dr42-G6ZvkU4"
      },
      "execution_count": null,
      "outputs": []
    },
    {
      "cell_type": "code",
      "source": [
        "# Hyper-parameters\n",
        "vocab_size = len(vocab)\n",
        "emb_dim = 300\n",
        "hidden_dim = 32\n",
        "output_dim = 2\n",
        "learning_rate = 0.1\n",
        "num_epochs = 5\n",
        "criterion = nn.CrossEntropyLoss()"
      ],
      "metadata": {
        "id": "J1vCbZ_3vsNr"
      },
      "execution_count": null,
      "outputs": []
    },
    {
      "cell_type": "code",
      "source": [
        "# Initialize the model\n",
        "model_lstm3 = LSTMModel3( vocab_size, emb_dim, hidden_dim, output_dim, batch_size )\n",
        "optimizer = torch.optim.SGD(model_lstm3.parameters(), lr=learning_rate)\n",
        "model_lstm3 = model_lstm3.to(device)\n",
        "# Train the model\n",
        "train( model_lstm3, train_loader, optimizer, num_epochs=5, trace=True )"
      ],
      "metadata": {
        "colab": {
          "base_uri": "https://localhost:8080/"
        },
        "id": "dA8gDgLtz8w-",
        "outputId": "c9242c48-8dbf-4fed-8fee-dffc76b6ce19"
      },
      "execution_count": null,
      "outputs": [
        {
          "output_type": "stream",
          "name": "stdout",
          "text": [
            "117 2 torch.Size([117, 2, 300])\n",
            "tensor([[   75,    38],\n",
            "        [  494,  5570],\n",
            "        [  353,   148],\n",
            "        [    6, 35020],\n",
            "        [  222,    11],\n",
            "        [ 2201,  4411],\n",
            "        [   67,    24],\n",
            "        [ 1418,    73],\n",
            "        [   30,    11],\n",
            "        [11610, 14046],\n",
            "        [    2,     1],\n",
            "        [  706,   148],\n",
            "        [  393,   879],\n",
            "        [  239,  2993],\n",
            "        [   27,    18],\n",
            "        [ 4715,    89],\n",
            "        [    5,    12],\n",
            "        [   13,   221],\n",
            "        [ 3193,   279],\n",
            "        [  277,  1028],\n",
            "        [  155,    36],\n",
            "        [  119,     9],\n",
            "        [ 2808,  5032],\n",
            "        [  110,     1],\n",
            "        [  224, 38690],\n",
            "        [ 6414,    31],\n",
            "        [   14,    13],\n",
            "        [   56, 31497],\n",
            "        [   47,  4475],\n",
            "        [   25,     2],\n",
            "        [   72,     9],\n",
            "        [ 3637,   339],\n",
            "        [  488,   584],\n",
            "        [   50,    19],\n",
            "        [   43, 14088],\n",
            "        [17359, 36187],\n",
            "        [  302,   200],\n",
            "        [   14,     6],\n",
            "        [  538, 16678],\n",
            "        [   12,   422],\n",
            "        [   55,    38],\n",
            "        [39521,   533],\n",
            "        [    5,     8],\n",
            "        [    3,    16],\n",
            "        [ 1572,   428],\n",
            "        [   15, 13757],\n",
            "        [   55,  6516],\n",
            "        [12333,     5],\n",
            "        [  932,   108],\n",
            "        [    2,  1235],\n",
            "        [  556,    70],\n",
            "        [15718,     1],\n",
            "        [  214,     3],\n",
            "        [  386,   946],\n",
            "        [ 1633,   623],\n",
            "        [  919,  1531],\n",
            "        [  108,  5185],\n",
            "        [ 1460, 10828],\n",
            "        [42852,   872],\n",
            "        [   94,  8908],\n",
            "        [   15,     9],\n",
            "        [   42,    46],\n",
            "        [ 6607,  1178],\n",
            "        [   38, 37902],\n",
            "        [  506,    25],\n",
            "        [   13,     9],\n",
            "        [  242,   637],\n",
            "        [   19,  1282],\n",
            "        [    6, 15974],\n",
            "        [  170,     9],\n",
            "        [   23, 23052],\n",
            "        [ 2134,   621],\n",
            "        [21045,  1725],\n",
            "        [    5,     9],\n",
            "        [  127,  1118],\n",
            "        [  488,  2239],\n",
            "        [    6,  2624],\n",
            "        [  199,    39],\n",
            "        [  437,     4],\n",
            "        [    1,  1128],\n",
            "        [    3, 15961],\n",
            "        [  102,   257],\n",
            "        [    0,     9],\n",
            "        [    0,   307],\n",
            "        [    0,     5],\n",
            "        [    0,  1558],\n",
            "        [    0,  5101],\n",
            "        [    0,    56],\n",
            "        [    0, 31320],\n",
            "        [    0,     2],\n",
            "        [    0,    12],\n",
            "        [    0, 35769],\n",
            "        [    0,  2456],\n",
            "        [    0,     3],\n",
            "        [    0,   296],\n",
            "        [    0,     2],\n",
            "        [    0,     4],\n",
            "        [    0,   415],\n",
            "        [    0,  1455],\n",
            "        [    0,     3],\n",
            "        [    0,  1518],\n",
            "        [    0,   706],\n",
            "        [    0,  3311],\n",
            "        [    0,  3641],\n",
            "        [    0,   312],\n",
            "        [    0,   235],\n",
            "        [    0,   343],\n",
            "        [    0,   220],\n",
            "        [    0,  7039],\n",
            "        [    0,    24],\n",
            "        [    0,    21],\n",
            "        [    0,    14],\n",
            "        [    0, 42756],\n",
            "        [    0,    12],\n",
            "        [    0,  7528],\n",
            "        [    0,    91],\n",
            "        [    0,  9220]], device='cuda:0')\n",
            "Epoch: 0. Loss: 0.35200886938499365. ACC 0.5082554207280684 \n",
            "Epoch: 1. Loss: 0.33409497911943836. ACC 0.5744977123532922 \n",
            "Epoch: 2. Loss: 0.30171432656015346. ACC 0.6403421523771633 \n",
            "Epoch: 3. Loss: 0.26175014541495717. ACC 0.7240899144619057 \n",
            "Epoch: 4. Loss: 0.23671862463645973. ACC 0.7565148199721504 \n"
          ]
        }
      ]
    },
    {
      "cell_type": "markdown",
      "source": [
        "We also modify the evaluation function to take batches as input."
      ],
      "metadata": {
        "id": "M5uK8jLoFyxp"
      }
    },
    {
      "cell_type": "code",
      "source": [
        "def evaluate_batch( model, dev_loader ):\n",
        "    predictions = []\n",
        "    gold = []\n",
        "    with torch.no_grad():\n",
        "        for input, label in dev_loader:\n",
        "            input = input.to(device)\n",
        "            label = label.to(device)\n",
        "            probs = model(input)\n",
        "            # print( probs)\n",
        "            # print( torch.argmax(probs, dim=1).cpu().numpy())\n",
        "            # predictions.append( torch.argmax(probs, dim=1).cpu().numpy()[0] )\n",
        "            predictions.extend( torch.argmax(probs, dim=1).cpu().numpy() ) # <-----\n",
        "            # gold.append( int(label) )\n",
        "            gold.extend([int(l) for l in label])  # <-----\n",
        "    print(classification_report(gold, predictions))\n",
        "    return gold, predictions\n",
        "\n",
        "\n",
        "# Evaluate on dev\n",
        "gold, pred = evaluate_batch( model_lstm3, dev_loader )"
      ],
      "metadata": {
        "colab": {
          "base_uri": "https://localhost:8080/"
        },
        "id": "LgfhrZ7L08RY",
        "outputId": "5e8de964-b5ee-4eb6-a79d-279debfe866d"
      },
      "execution_count": null,
      "outputs": [
        {
          "output_type": "stream",
          "name": "stdout",
          "text": [
            "              precision    recall  f1-score   support\n",
            "\n",
            "           0       0.49      0.57      0.53       229\n",
            "           1       0.65      0.57      0.61       319\n",
            "\n",
            "    accuracy                           0.57       548\n",
            "   macro avg       0.57      0.57      0.57       548\n",
            "weighted avg       0.58      0.57      0.57       548\n",
            "\n"
          ]
        }
      ]
    },
    {
      "cell_type": "markdown",
      "source": [
        "# PART4: trying other architectures\n",
        "\n",
        "* Try to implement a GRU instead of an LSTM\n",
        "* Try to implement a bi-GRU\n",
        "\n",
        "As an additional exercize:\n",
        "* Try with multiple GRU layers\n",
        "* Try to add an hidden layer over the RNN\n",
        "\n",
        "https://pytorch.org/docs/stable/generated/torch.nn.GRU.html"
      ],
      "metadata": {
        "id": "SaLSbelaE-Yl"
      }
    },
    {
      "cell_type": "markdown",
      "source": [
        "## 4.1 Using a GRU\n",
        "\n",
        "▶▶ **Modify the code to use a GRU instead of an LSTM**"
      ],
      "metadata": {
        "id": "Luq11i8ThV6W"
      }
    },
    {
      "cell_type": "code",
      "source": [
        "class GRUModel(nn.Module):\n",
        "    def __init__(self, vocab_size, embedding_dim, hidden_dim, output_dim, batch_size):\n",
        "        super(GRUModel, self).__init__()\n",
        "        self.trace = True\n",
        "        self.batch_size = batch_size\n",
        "\n",
        "        self.embedding = nn.Embedding(vocab_size, embedding_dim)\n",
        "\n",
        "        self.gru = nn.GRU( input_size=embedding_dim, \n",
        "                            hidden_size=hidden_dim, \n",
        "                            bidirectional=False)\n",
        "\n",
        "        self.fc2 = nn.Linear(hidden_dim, output_dim)  \n",
        "\n",
        "    def forward(self, text):\n",
        "        embeds = self.embedding(text)\n",
        "        #print( len(text), self.batch_size, embeds.shape)\n",
        "        x = embeds.view(len(text), self.batch_size, -1)\n",
        "        output, hn = self.gru(x )\n",
        "        # torch.Size([1, 2, 32]) : Direction, Batch, Hidden\n",
        "        if self.trace:\n",
        "          print( \"Size hidden:\", hn.shape ) \n",
        "          print(output)\n",
        "          print(hn)\n",
        "          self.trace = False\n",
        "        y = self.fc2(hn[-1]) # also works with output[-1]\n",
        "        return y"
      ],
      "metadata": {
        "id": "dGJI32ljE-rI"
      },
      "execution_count": null,
      "outputs": []
    },
    {
      "cell_type": "code",
      "source": [
        "batch_size=2\n",
        "\n",
        "dataloader = DataLoader(train_iter, batch_size=batch_size, shuffle=False, \n",
        "                        collate_fn=collate_batch_pad, drop_last=True)"
      ],
      "metadata": {
        "id": "NIBwzJdYFaJX"
      },
      "execution_count": null,
      "outputs": []
    },
    {
      "cell_type": "code",
      "source": [
        "# Hyper-parameters\n",
        "vocab_size = len(vocab)\n",
        "emb_dim = 300\n",
        "hidden_dim = 32\n",
        "output_dim = 2\n",
        "\n",
        "learning_rate = 0.1\n",
        "num_epochs = 5\n",
        "\n",
        "criterion = nn.CrossEntropyLoss()"
      ],
      "metadata": {
        "id": "psUh9r5n0MM3"
      },
      "execution_count": null,
      "outputs": []
    },
    {
      "cell_type": "code",
      "source": [
        "model_gru = GRUModel(vocab_size, emb_dim, hidden_dim, output_dim, batch_size)\n",
        "optimizer = torch.optim.SGD(model_gru.parameters(), lr=learning_rate)\n",
        "model_gru = model_gru.to(device)"
      ],
      "metadata": {
        "id": "EjXEj1cm0RnM"
      },
      "execution_count": null,
      "outputs": []
    },
    {
      "cell_type": "code",
      "source": [
        "# Start training\n",
        "for epoch in range(num_epochs):\n",
        "    train_loss, total_acc, total_count = 0, 0, 0\n",
        "    for text, label in dataloader:\n",
        "        text = text.to(device)\n",
        "        label = label.to(device)\n",
        "\n",
        "        # Clear gradients w.r.t. parameters\n",
        "        optimizer.zero_grad()\n",
        "\n",
        "        # Forward pass to get output/logits\n",
        "        outputs = model_gru( text )\n",
        "        #print(text)\n",
        "\n",
        "        # Calculate Loss: softmax --> cross entropy loss\n",
        "        loss = criterion(outputs, label)\n",
        "\n",
        "        # Getting gradients w.r.t. parameters\n",
        "        loss.backward()\n",
        "\n",
        "        # Updating parameters\n",
        "        optimizer.step()\n",
        "\n",
        "        # Accumulating the loss over time\n",
        "        train_loss += loss.item()\n",
        "        total_acc += (outputs.argmax(1) == label).sum().item()\n",
        "        total_count += label.size(0)\n",
        "\n",
        "    # Compute accuracy on train set at each epoch\n",
        "    print('Epoch: {}. Loss: {}. ACC {} '.format(epoch, train_loss/count_train, total_acc/count_train))\n",
        "        \n",
        "    total_acc, total_count = 0, 0\n",
        "    train_loss = 0"
      ],
      "metadata": {
        "colab": {
          "base_uri": "https://localhost:8080/"
        },
        "id": "hvblSz53FdCM",
        "outputId": "95a4af50-db76-424b-a08a-deba68f21ee3"
      },
      "execution_count": null,
      "outputs": [
        {
          "output_type": "stream",
          "name": "stdout",
          "text": [
            "Size hidden: torch.Size([1, 2, 32])\n",
            "tensor([[[ 0.1615,  0.8341, -0.7468,  ...,  0.7488, -0.0866, -0.1064],\n",
            "         [ 0.6783,  0.6302,  0.0275,  ..., -0.0937, -0.0087,  0.3304]],\n",
            "\n",
            "        [[ 0.5184, -0.1531, -0.5589,  ...,  0.5302, -0.0622, -0.2290],\n",
            "         [ 0.9804,  0.0503,  0.2100,  ...,  0.2923,  0.0185,  0.9392]],\n",
            "\n",
            "        [[ 0.2943, -0.4340,  0.2850,  ..., -0.6904,  0.8126, -0.2570],\n",
            "         [ 0.8964, -0.6794,  0.6822,  ..., -0.7964,  0.6370,  0.9269]],\n",
            "\n",
            "        ...,\n",
            "\n",
            "        [[-0.6320, -0.7462, -0.2241,  ...,  0.4700,  0.2788, -0.8508],\n",
            "         [-0.5338,  0.3627,  0.1238,  ..., -0.1997, -0.3427, -0.2695]],\n",
            "\n",
            "        [[-0.3589, -0.8011, -0.1488,  ..., -0.3319,  0.1688,  0.1347],\n",
            "         [-0.5337,  0.3627,  0.1290,  ..., -0.2001, -0.3424, -0.2693]],\n",
            "\n",
            "        [[ 0.5499, -0.8073, -0.6430,  ...,  0.1543,  0.4349, -0.1805],\n",
            "         [-0.5336,  0.3627,  0.1342,  ..., -0.2005, -0.3420, -0.2690]]],\n",
            "       device='cuda:0', grad_fn=<CudnnRnnBackward0>)\n",
            "tensor([[[ 0.5499, -0.8073, -0.6430,  0.0030,  0.0427, -0.4503, -0.3951,\n",
            "           0.2595, -0.3339, -0.2136, -0.5185,  0.3921,  0.3169, -0.3452,\n",
            "           0.2163, -0.1009,  0.5994, -0.5319,  0.2019, -0.3462, -0.2732,\n",
            "           0.2482, -0.3226,  0.5337, -0.7791, -0.0158, -0.3860, -0.9244,\n",
            "          -0.7476,  0.1543,  0.4349, -0.1805],\n",
            "         [-0.5336,  0.3627,  0.1342, -0.9314,  0.9984,  0.6642,  0.8803,\n",
            "           0.6014,  0.3956,  0.9827, -0.7979, -0.7602,  0.9956,  0.7954,\n",
            "          -0.1310,  0.9503, -0.9940, -0.6972,  0.9967, -0.9935,  0.9808,\n",
            "          -0.9218, -0.9855, -0.8124,  0.9780, -0.5287,  0.9729, -0.8672,\n",
            "          -0.9806, -0.2005, -0.3420, -0.2690]]], device='cuda:0',\n",
            "       grad_fn=<CudnnRnnBackward0>)\n",
            "Epoch: 0. Loss: 0.40776689737584637. ACC 0.5195941913666202 \n",
            "Epoch: 1. Loss: 0.34708828408188075. ACC 0.6580465486373582 \n",
            "Epoch: 2. Loss: 0.29692405457390253. ACC 0.7278695046747563 \n",
            "Epoch: 3. Loss: 0.26579713178522457. ACC 0.7646707777998807 \n",
            "Epoch: 4. Loss: 0.2272716749174328. ACC 0.815794708573702 \n"
          ]
        }
      ]
    },
    {
      "cell_type": "markdown",
      "source": [
        "### 4.2 bi-GRU\n",
        "\n",
        "▶▶ **Modify the code to implement a bi-directional GRU. Hint: what is the size of the output of a bi-RNN?**"
      ],
      "metadata": {
        "id": "IyQiRBv_3_Y5"
      }
    },
    {
      "cell_type": "code",
      "source": [
        "class BiGRUModel(nn.Module):\n",
        "    def __init__(self, vocab_size, embedding_dim, hidden_dim, output_dim, batch_size):\n",
        "        super(BiGRUModel, self).__init__()\n",
        "        self.trace = True\n",
        "        self.batch_size = batch_size\n",
        "\n",
        "        self.embedding = nn.Embedding(vocab_size, embedding_dim)\n",
        "\n",
        "        self.gru = nn.GRU( input_size=embedding_dim, \n",
        "                            hidden_size=hidden_dim, \n",
        "                            bidirectional=True)\n",
        "\n",
        "        self.fc2 = nn.Linear(hidden_dim*2, output_dim)  \n",
        "\n",
        "    def forward(self, text):\n",
        "        embeds = self.embedding(text)\n",
        "        #print( len(text), self.batch_size, embeds.shape)\n",
        "        x = embeds.view(len(text), self.batch_size, -1)\n",
        "        output, hn = self.gru(x )\n",
        "        # torch.Size([2, 2, 32]) : Direction, Batch, Hidden\n",
        "        if self.trace:\n",
        "          print( \"Size hidden:\", hn.shape ) \n",
        "          self.trace = False\n",
        "        hidden = torch.cat((hn[-2], hn[-1]), dim = 1) #same as torch.cat((hn[-2,:,:], hn[-1,:,:]), dim = 1)\n",
        "        y = self.fc2(hidden)\n",
        "        return y"
      ],
      "metadata": {
        "id": "n6AqVPfA4A2f"
      },
      "execution_count": null,
      "outputs": []
    },
    {
      "cell_type": "code",
      "source": [
        "batch_size=2\n",
        "\n",
        "dataloader = DataLoader(train_iter, batch_size=batch_size, shuffle=False, \n",
        "                        collate_fn=collate_batch_pad, drop_last=True)"
      ],
      "metadata": {
        "id": "MnP_uLrv4GZh"
      },
      "execution_count": null,
      "outputs": []
    },
    {
      "cell_type": "code",
      "source": [
        "# Hyper-parameters\n",
        "vocab_size = len(vocab)\n",
        "emb_dim = 300\n",
        "hidden_dim = 32\n",
        "output_dim = 2\n",
        "\n",
        "learning_rate = 0.1\n",
        "num_epochs = 5\n",
        "\n",
        "criterion = nn.CrossEntropyLoss()"
      ],
      "metadata": {
        "id": "rqOmLUQm4IgQ"
      },
      "execution_count": null,
      "outputs": []
    },
    {
      "cell_type": "code",
      "source": [
        "model_bigru = BiGRUModel(vocab_size, emb_dim, hidden_dim, output_dim, batch_size)\n",
        "optimizer = torch.optim.SGD(model_bigru.parameters(), lr=learning_rate)\n",
        "model_bigru = model_bigru.to(device)"
      ],
      "metadata": {
        "id": "rzHXdyVo4KkB"
      },
      "execution_count": null,
      "outputs": []
    },
    {
      "cell_type": "code",
      "source": [
        "# Start training\n",
        "for epoch in range(num_epochs):\n",
        "    train_loss, total_acc, total_count = 0, 0, 0\n",
        "    for text, label in dataloader:\n",
        "        text = text.to(device)\n",
        "        label = label.to(device)\n",
        "\n",
        "        # Clear gradients w.r.t. parameters\n",
        "        optimizer.zero_grad()\n",
        "\n",
        "        # Forward pass to get output/logits\n",
        "        outputs = model_bigru( text )\n",
        "        #print(text)\n",
        "\n",
        "        # Calculate Loss: softmax --> cross entropy loss\n",
        "        loss = criterion(outputs, label)\n",
        "\n",
        "        # Getting gradients w.r.t. parameters\n",
        "        loss.backward()\n",
        "\n",
        "        # Updating parameters\n",
        "        optimizer.step()\n",
        "\n",
        "        # Accumulating the loss over time\n",
        "        train_loss += loss.item()\n",
        "        total_acc += (outputs.argmax(1) == label).sum().item()\n",
        "        total_count += label.size(0)\n",
        "\n",
        "    # Compute accuracy on train set at each epoch\n",
        "    print('Epoch: {}. Loss: {}. ACC {} '.format(epoch, train_loss/count_train, total_acc/count_train))\n",
        "        \n",
        "    total_acc, total_count = 0, 0\n",
        "    train_loss = 0"
      ],
      "metadata": {
        "colab": {
          "base_uri": "https://localhost:8080/"
        },
        "id": "cxg_n6fw4N3I",
        "outputId": "8966d119-6960-4c63-b15d-1d94ebe5e0ed"
      },
      "execution_count": null,
      "outputs": [
        {
          "output_type": "stream",
          "name": "stdout",
          "text": [
            "Size hidden: torch.Size([2, 2, 32])\n",
            "Epoch: 0. Loss: 0.48151217399055773. ACC 0.5615675353093296 \n",
            "Epoch: 1. Loss: 0.3769297524081061. ACC 0.7153371792321465 \n",
            "Epoch: 2. Loss: 0.2969348414990126. ACC 0.7957032027053909 \n",
            "Epoch: 3. Loss: 0.25072085124944943. ACC 0.8263377760095484 \n",
            "Epoch: 4. Loss: 0.22065889640894767. ACC 0.8525959816988263 \n"
          ]
        }
      ]
    },
    {
      "cell_type": "markdown",
      "source": [
        "# PART5: Sequence tagging\n",
        "\n",
        "## POS Tagging\n",
        "\n",
        "From: https://pytorch.org/tutorials/beginner/nlp/sequence_models_tutorial.html "
      ],
      "metadata": {
        "id": "rTsfKWeP7Jdl"
      }
    },
    {
      "cell_type": "code",
      "source": [
        "def prepare_sequence(seq, to_ix):\n",
        "    idxs = [to_ix[w] for w in seq]\n",
        "    return torch.tensor(idxs, dtype=torch.long)\n",
        "\n",
        "\n",
        "training_data = [\n",
        "    # Tags are: DET - determiner; NN - noun; V - verb\n",
        "    # For example, the word \"The\" is a determiner\n",
        "    (\"The dog ate the apple\".split(), [\"DET\", \"NN\", \"V\", \"DET\", \"NN\"]),\n",
        "    (\"Everybody read that book\".split(), [\"NN\", \"V\", \"DET\", \"NN\"])\n",
        "]\n",
        "word_to_ix = {}\n",
        "# For each words-list (sentence) and tags-list in each tuple of training_data\n",
        "for sent, tags in training_data:\n",
        "    for word in sent:\n",
        "        if word not in word_to_ix:  # word has not been assigned an index yet\n",
        "            word_to_ix[word] = len(word_to_ix)  # Assign each word with a unique index\n",
        "print(word_to_ix)\n",
        "tag_to_ix = {\"DET\": 0, \"NN\": 1, \"V\": 2}  # Assign each tag with a unique index\n",
        "ix_to_tag = {v: k for k, v in tag_to_ix.items()}\n",
        "\n",
        "# These will usually be more like 32 or 64 dimensional.\n",
        "# We will keep them small, so we can see how the weights change as we train.\n",
        "EMBEDDING_DIM = 6\n",
        "HIDDEN_DIM = 6"
      ],
      "metadata": {
        "colab": {
          "base_uri": "https://localhost:8080/"
        },
        "id": "6A5Z-EsT7w_V",
        "outputId": "d48f6755-37ad-43b1-e503-17193fe016db"
      },
      "execution_count": null,
      "outputs": [
        {
          "output_type": "stream",
          "name": "stdout",
          "text": [
            "{'The': 0, 'dog': 1, 'ate': 2, 'the': 3, 'apple': 4, 'Everybody': 5, 'read': 6, 'that': 7, 'book': 8}\n"
          ]
        }
      ]
    },
    {
      "cell_type": "code",
      "source": [
        "import torch\n",
        "import torch.nn as nn\n",
        "import torch.nn.functional as F\n",
        "\n",
        "class LSTMTagger(nn.Module):\n",
        "\n",
        "    def __init__(self, embedding_dim, hidden_dim, vocab_size, tagset_size):\n",
        "        super(LSTMTagger, self).__init__()\n",
        "        self.hidden_dim = hidden_dim\n",
        "\n",
        "        self.word_embeddings = nn.Embedding(vocab_size, embedding_dim)\n",
        "\n",
        "        # The LSTM takes word embeddings as inputs, and outputs hidden states\n",
        "        # with dimensionality hidden_dim.\n",
        "        self.lstm = nn.LSTM(embedding_dim, hidden_dim)\n",
        "\n",
        "        # The linear layer that maps from hidden state space to tag space\n",
        "        self.hidden2tag = nn.Linear(hidden_dim, tagset_size)\n",
        "\n",
        "    def forward(self, sentence):\n",
        "        embeds = self.word_embeddings(sentence)\n",
        "        #print('embeds.shape', embeds.shape)\n",
        "        #print(embeds.view(len(sentence), 1, -1).shape)\n",
        "        lstm_out, _ = self.lstm(embeds.view(len(sentence), 1, -1))\n",
        "        tag_space = self.hidden2tag(lstm_out.view(len(sentence), -1)) # the whole output, vs output[-1] for classif\n",
        "        tag_scores = F.log_softmax(tag_space, dim=1) # required with nn.NLLLoss()\n",
        "        return tag_scores"
      ],
      "metadata": {
        "id": "7O_41eHi71SO"
      },
      "execution_count": null,
      "outputs": []
    },
    {
      "cell_type": "code",
      "source": [
        "model = LSTMTagger(EMBEDDING_DIM, HIDDEN_DIM, len(word_to_ix), len(tag_to_ix))\n",
        "loss_function = nn.NLLLoss() # does not include the softmax\n",
        "optimizer = torch.optim.SGD(model.parameters(), lr=0.1)\n",
        "\n",
        "# See what the scores are before training\n",
        "# Note that element i,j of the output is the score for tag j for word i.\n",
        "# Here we don't need to train, so the code is wrapped in torch.no_grad()\n",
        "with torch.no_grad():\n",
        "    inputs = prepare_sequence(training_data[0][0], word_to_ix)\n",
        "    tag_scores = model(inputs)\n",
        "    print(tag_scores)\n",
        "\n",
        "for epoch in range(300):  # again, normally you would NOT do 300 epochs, it is toy data\n",
        "    for sentence, tags in training_data:\n",
        "        # Step 1. Remember that Pytorch accumulates gradients.\n",
        "        # We need to clear them out before each instance\n",
        "        model.zero_grad()\n",
        "\n",
        "        # Step 2. Get our inputs ready for the network, that is, turn them into\n",
        "        # Tensors of word indices.\n",
        "        sentence_in = prepare_sequence(sentence, word_to_ix)\n",
        "        targets = prepare_sequence(tags, tag_to_ix)\n",
        "\n",
        "        # Step 3. Run our forward pass.\n",
        "        tag_scores = model(sentence_in)\n",
        "\n",
        "        # Step 4. Compute the loss, gradients, and update the parameters by\n",
        "        #  calling optimizer.step()\n",
        "        loss = loss_function(tag_scores, targets)\n",
        "        loss.backward()\n",
        "        optimizer.step()\n",
        "\n"
      ],
      "metadata": {
        "colab": {
          "base_uri": "https://localhost:8080/"
        },
        "id": "jiSYatB48Brn",
        "outputId": "c44a5114-956d-47ba-e915-41371019670a"
      },
      "execution_count": null,
      "outputs": [
        {
          "output_type": "stream",
          "name": "stdout",
          "text": [
            "tensor([[-1.0898, -1.1479, -1.0601],\n",
            "        [-1.0689, -1.1584, -1.0711],\n",
            "        [-1.0881, -1.1474, -1.0622],\n",
            "        [-0.9834, -1.2213, -1.1053],\n",
            "        [-1.0311, -1.1524, -1.1163]])\n"
          ]
        }
      ]
    },
    {
      "cell_type": "code",
      "source": [
        "# See what the scores are after training\n",
        "with torch.no_grad():\n",
        "    inputs = prepare_sequence(training_data[0][0], word_to_ix)\n",
        "    tag_scores = model(inputs)\n",
        "    predictions = torch.argmax(tag_scores, dim=1).cpu().numpy()\n",
        "    print(tag_scores)\n",
        "    print(predictions)\n",
        "    print(training_data[0][0])\n",
        "    print( [ix_to_tag[p] for p in predictions])\n",
        "\n",
        "    # The sentence is \"the dog ate the apple\".  i,j corresponds to score for tag j\n",
        "    # for word i. The predicted tag is the maximum scoring tag.\n",
        "    # Here, we can see the predicted sequence below is 0 1 2 0 1\n",
        "    # since 0 is index of the maximum value of row 1,\n",
        "    # 1 is the index of maximum value of row 2, etc.\n",
        "    # Which is DET NOUN VERB DET NOUN, the correct sequence!\n",
        "    #print(tag_scores)"
      ],
      "metadata": {
        "colab": {
          "base_uri": "https://localhost:8080/"
        },
        "id": "Q_xgiu1MBAnB",
        "outputId": "1a59d967-84e4-409b-f64d-83032d1edd21"
      },
      "execution_count": null,
      "outputs": [
        {
          "output_type": "stream",
          "name": "stdout",
          "text": [
            "tensor([[-0.0478, -3.9278, -3.6124],\n",
            "        [-4.8812, -0.0367, -3.5609],\n",
            "        [-3.0751, -3.6607, -0.0746],\n",
            "        [-0.0194, -4.9590, -4.4048],\n",
            "        [-5.0646, -0.0124, -5.1142]])\n",
            "[0 1 2 0 1]\n",
            "['The', 'dog', 'ate', 'the', 'apple']\n",
            "['DET', 'NN', 'V', 'DET', 'NN']\n"
          ]
        }
      ]
    }
  ]
}