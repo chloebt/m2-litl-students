{
  "nbformat": 4,
  "nbformat_minor": 0,
  "metadata": {
    "colab": {
      "name": "TP2_masterLiTL_2122_WSOL.ipynb",
      "provenance": [],
      "collapsed_sections": []
    },
    "kernelspec": {
      "name": "python3",
      "display_name": "Python 3"
    },
    "language_info": {
      "name": "python"
    },
    "accelerator": "GPU"
  },
  "cells": [
    {
      "cell_type": "markdown",
      "metadata": {
        "id": "XCHhtzOXQ2po"
      },
      "source": [
        "# TP 2: Linear Algebra and Feedforward neural network\n",
        "Master LiTL - 2021-2022\n",
        "\n",
        "## Requirements\n",
        "In this section, we will go through some code to learn how to manipulate matrices and tensors, and we will take a look at some PyTorch code that allows to define, train and evaluate a simple neural network. \n",
        "The modules used are the the same as in the previous session, *Numpy* and *Scikit*, with the addition of *PyTorch*. They are all already available within colab. \n",
        "\n",
        "## Part 1: Linear Algebra\n",
        "\n",
        "In this section, we will go through some python code to deal with matrices and also tensors, the data structures used in PyTorch.\n",
        "\n",
        "Sources:    \n",
        "* Linear Algebra explained in the context of deep learning: https://towardsdatascience.com/linear-algebra-explained-in-the-context-of-deep-learning-8fcb8fca1494\n",
        "* PyTorch tutorial: https://pytorch.org/tutorials/beginner/blitz/tensor_tutorial.html#sphx-glr-beginner-blitz-tensor-tutorial-py\n",
        "* PyTorch doc on tensors: https://pytorch.org/docs/stable/torch.html\n"
      ]
    },
    {
      "cell_type": "markdown",
      "metadata": {
        "id": "G3Hk9fJuBVxk"
      },
      "source": [
        "## 1.1 Numpy arrays\n",
        "\n",
        "NumPy’s main object is the homogeneous multidimensional array. It is a table of elements (usually numbers), all of the same type\n"
      ]
    },
    {
      "cell_type": "code",
      "metadata": {
        "colab": {
          "base_uri": "https://localhost:8080/"
        },
        "id": "W2IvCK4gPUAv",
        "outputId": "f43e6941-5359-415a-9f4d-e7431cd629ee"
      },
      "source": [
        "import numpy as np\n",
        "\n",
        "x = np.array([1,2])\n",
        "print(\"Our input vector with 2 elements:\\n\", x)\n",
        "print( \"x shape:\", x.shape)\n",
        "print( \"x data type\", x.dtype)\n",
        "# Give a list of elements\n",
        "# a = np.array(1,2,3,4)    # WRONG\n",
        "# a = np.array([1,2,3,4])  # RIGHT\n",
        "\n",
        "# Generate a random matrix (with e generator, for reproducible results)\n",
        "rng = np.random.default_rng(seed=42)\n",
        "W = rng.random((3, 2))\n",
        "print(\"\\n Our weight matrix, of shape 3x2:\\n\", W)\n",
        "print( \"W shape:\", W.shape)\n",
        "print( \"W data type\", W.dtype)\n",
        "\n",
        "# Bias, a scalar\n",
        "b = 1\n",
        "\n",
        "# Now, try to multiply\n",
        "h = W.dot(x) + b\n",
        "print(\"\\n Our h layer:\\n\", h)\n",
        "print( \"h shape:\", h.shape)\n",
        "print( \"h data type\", h.dtype)"
      ],
      "execution_count": null,
      "outputs": [
        {
          "output_type": "stream",
          "name": "stdout",
          "text": [
            "Our input vector with 2 elements:\n",
            " [1 2]\n",
            "x shape: (2,)\n",
            "x data type int64\n",
            "\n",
            " Our weight matrix, of shape 3x2:\n",
            " [[0.77395605 0.43887844]\n",
            " [0.85859792 0.69736803]\n",
            " [0.09417735 0.97562235]]\n",
            "W shape: (3, 2)\n",
            "W data type float64\n",
            "\n",
            " Our h layer:\n",
            " [2.65171293 3.25333398 3.04542205]\n",
            "h shape: (3,)\n",
            "h data type float64\n"
          ]
        }
      ]
    },
    {
      "cell_type": "code",
      "metadata": {
        "id": "hKzJk0aaPUv4",
        "colab": {
          "base_uri": "https://localhost:8080/"
        },
        "outputId": "69fdbeaa-51f8-4cd1-e45b-274453e64fab"
      },
      "source": [
        "# Useful transformations\n",
        "h = h.reshape((3,1))\n",
        "print(\"\\n h reshape:\\n\", h)\n",
        "print( \"h shape:\", h.shape)\n",
        "\n",
        "h1 = np.transpose(h)\n",
        "print(\"\\n h transpose:\\n\", h1)\n",
        "print( \"h shape:\", h1.shape)\n",
        "\n",
        "h2 = h.T\n",
        "print(\"\\n h transpose:\\n\", h2)\n",
        "print( \"h shape:\", h2.shape)\n",
        "\n",
        "Wt = W.T\n",
        "print(\"\\nW:\\n\", W)\n",
        "print(\"\\nW.T:\\n\", Wt)"
      ],
      "execution_count": null,
      "outputs": [
        {
          "output_type": "stream",
          "name": "stdout",
          "text": [
            "\n",
            " h reshape:\n",
            " [[2.65171293]\n",
            " [3.25333398]\n",
            " [3.04542205]]\n",
            "h shape: (3, 1)\n",
            "\n",
            " h transpose:\n",
            " [[2.65171293 3.25333398 3.04542205]]\n",
            "h shape: (1, 3)\n",
            "\n",
            " h transpose:\n",
            " [[2.65171293 3.25333398 3.04542205]]\n",
            "h shape: (1, 3)\n",
            "\n",
            "W:\n",
            " [[0.77395605 0.43887844]\n",
            " [0.85859792 0.69736803]\n",
            " [0.09417735 0.97562235]]\n",
            "\n",
            "W.T:\n",
            " [[0.77395605 0.85859792 0.09417735]\n",
            " [0.43887844 0.69736803 0.97562235]]\n"
          ]
        }
      ]
    },
    {
      "cell_type": "code",
      "metadata": {
        "id": "KpIkzqN6PaJR",
        "colab": {
          "base_uri": "https://localhost:8080/"
        },
        "outputId": "d803848c-c49b-4acd-e170-d4cdcbec040e"
      },
      "source": [
        "## numpy code to create identity matrix\n",
        "import numpy as np\n",
        "a = np.eye(4)\n",
        "print(a)"
      ],
      "execution_count": null,
      "outputs": [
        {
          "output_type": "stream",
          "name": "stdout",
          "text": [
            "[[1. 0. 0. 0.]\n",
            " [0. 1. 0. 0.]\n",
            " [0. 0. 1. 0.]\n",
            " [0. 0. 0. 1.]]\n"
          ]
        }
      ]
    },
    {
      "cell_type": "markdown",
      "metadata": {
        "id": "Il-lX6VCA7gk"
      },
      "source": [
        "## 1.2 Tensors\n",
        "\n",
        "For neural networks implementation in PyTorch, we use tensors: \n",
        "* a specialized data structure that are very similar to arrays and matrices\n",
        "* used to encode the inputs and outputs of a model, as well as the model’s parameters\n",
        "* similar to NumPy’s ndarrays, except that tensors can run on GPUs or other specialized hardware to accelerate computing"
      ]
    },
    {
      "cell_type": "markdown",
      "metadata": {
        "id": "hPqpGGZPCRT-"
      },
      "source": [
        "### 1.2.1 Tensor initialization"
      ]
    },
    {
      "cell_type": "code",
      "metadata": {
        "colab": {
          "base_uri": "https://localhost:8080/"
        },
        "id": "HaEdsMG6BAh0",
        "outputId": "651f23a4-cc0b-4218-ae96-807add9dac7e"
      },
      "source": [
        "import torch\n",
        "import numpy as np\n",
        "\n",
        "# Tensor initialization\n",
        "\n",
        "## from data. The data type is automatically inferred.\n",
        "data = [[1, 2], [3, 4]]\n",
        "x_data = torch.tensor(data)\n",
        "print( \"x_data\", x_data)\n",
        "print( \"data type x_data=\", x_data.dtype)\n",
        "\n",
        "## from a numpy array\n",
        "np_array = np.array(data)\n",
        "x_np = torch.from_numpy(np_array)\n",
        "print(\"\\nx_np\", x_np)\n",
        "print( \"data type, np_array=\", np_array.dtype, \"x_data=\", x_np.dtype)\n",
        "\n",
        "## from another tensor\n",
        "x_ones = torch.ones_like(x_data) # retains the properties of x_data\n",
        "print(f\"\\nOnes Tensor: \\n {x_ones} \\n\")\n",
        "\n",
        "x_rand = torch.rand_like(x_data, dtype=torch.float) # overrides the datatype of x_data\n",
        "print(f\"Random Tensor: \\n {x_rand} \\n\")\n",
        "\n",
        "## with random values\n",
        "shape = (2, 3,) # shape is a tuple of tensor dimensions\n",
        "rand_tensor = torch.rand(shape)\n",
        "ones_tensor = torch.ones(shape)\n",
        "zeros_tensor = torch.zeros(shape)\n",
        "\n",
        "print(f\"Random Tensor: \\n {rand_tensor} \\n\")\n",
        "print(f\"Ones Tensor: \\n {ones_tensor} \\n\")\n",
        "print(f\"Zeros Tensor: \\n {zeros_tensor}\")"
      ],
      "execution_count": null,
      "outputs": [
        {
          "output_type": "stream",
          "name": "stdout",
          "text": [
            "x_data tensor([[1, 2],\n",
            "        [3, 4]])\n",
            "data type x_data= torch.int64\n",
            "\n",
            "x_np tensor([[1, 2],\n",
            "        [3, 4]])\n",
            "data type, np_array= int64 x_data= torch.int64\n",
            "\n",
            "Ones Tensor: \n",
            " tensor([[1, 1],\n",
            "        [1, 1]]) \n",
            "\n",
            "Random Tensor: \n",
            " tensor([[0.0313, 0.8400],\n",
            "        [0.7177, 0.9185]]) \n",
            "\n",
            "Random Tensor: \n",
            " tensor([[0.0546, 0.0047, 0.5284],\n",
            "        [0.1540, 0.3733, 0.2583]]) \n",
            "\n",
            "Ones Tensor: \n",
            " tensor([[1., 1., 1.],\n",
            "        [1., 1., 1.]]) \n",
            "\n",
            "Zeros Tensor: \n",
            " tensor([[0., 0., 0.],\n",
            "        [0., 0., 0.]])\n"
          ]
        }
      ]
    },
    {
      "cell_type": "markdown",
      "metadata": {
        "id": "oFDVEZcBCWF_"
      },
      "source": [
        "### 1.2.2 Tensor attributes"
      ]
    },
    {
      "cell_type": "code",
      "metadata": {
        "colab": {
          "base_uri": "https://localhost:8080/"
        },
        "id": "kS4TtR9DCJcq",
        "outputId": "75f04526-ba03-4440-d036-1db1af4f1d64"
      },
      "source": [
        "# Tensor attributes\n",
        "tensor = torch.rand(3, 4)\n",
        "\n",
        "print(f\"Shape of tensor: {tensor.shape}\")\n",
        "print(f\"Datatype of tensor: {tensor.dtype}\")\n",
        "print(f\"Device tensor is stored on: {tensor.device}\")"
      ],
      "execution_count": null,
      "outputs": [
        {
          "output_type": "stream",
          "name": "stdout",
          "text": [
            "Shape of tensor: torch.Size([3, 4])\n",
            "Datatype of tensor: torch.float32\n",
            "Device tensor is stored on: cpu\n"
          ]
        }
      ]
    },
    {
      "cell_type": "markdown",
      "metadata": {
        "id": "tu8RM6O7CaKO"
      },
      "source": [
        "### 1.2.3 Move to GPU"
      ]
    },
    {
      "cell_type": "code",
      "metadata": {
        "colab": {
          "base_uri": "https://localhost:8080/"
        },
        "id": "nT7n30VpCOzF",
        "outputId": "cbc5329b-3108-47f6-fe75-6694adef0d4d"
      },
      "source": [
        "# We move our tensor to the GPU if available\n",
        "if torch.cuda.is_available():\n",
        "  tensor = tensor.to('cuda')\n",
        "  print(f\"Device tensor is stored on: {tensor.device}\")\n",
        "else:\n",
        "  print(\"no gpu\")\n",
        "\n",
        "print(tensor)"
      ],
      "execution_count": null,
      "outputs": [
        {
          "output_type": "stream",
          "name": "stdout",
          "text": [
            "no gpu\n",
            "tensor([[0.0742, 0.3130, 0.0134, 0.2691],\n",
            "        [0.8818, 0.9389, 0.1006, 0.9912],\n",
            "        [0.1168, 0.3271, 0.7650, 0.9646]])\n"
          ]
        }
      ]
    },
    {
      "cell_type": "markdown",
      "metadata": {
        "id": "VdqHVRkHCcgq"
      },
      "source": [
        "**If you’re using Colab, allocate a GPU by going to Edit > Notebook Settings.**\n",
        "\n",
        "▶▶ **move to GPU, and re run last cells.**"
      ]
    },
    {
      "cell_type": "code",
      "metadata": {
        "colab": {
          "base_uri": "https://localhost:8080/",
          "height": 235
        },
        "id": "nyZPKBvOGsyf",
        "outputId": "21d0edfe-5f73-4208-893f-6e201d086951"
      },
      "source": [
        "# We move our tensor to the GPU if available\n",
        "if torch.cuda.is_available():\n",
        "  tensor = tensor.to('cuda')\n",
        "  print(f\"Device tensor is stored on: {tensor.device}\")\n",
        "else:\n",
        "  print(\"no gpu\")\n",
        "\n",
        "print(tensor)"
      ],
      "execution_count": null,
      "outputs": [
        {
          "output_type": "error",
          "ename": "NameError",
          "evalue": "ignored",
          "traceback": [
            "\u001b[0;31m---------------------------------------------------------------------------\u001b[0m",
            "\u001b[0;31mNameError\u001b[0m                                 Traceback (most recent call last)",
            "\u001b[0;32m<ipython-input-11-54dae8e8ec87>\u001b[0m in \u001b[0;36m<module>\u001b[0;34m()\u001b[0m\n\u001b[1;32m      1\u001b[0m \u001b[0;31m# We move our tensor to the GPU if available\u001b[0m\u001b[0;34m\u001b[0m\u001b[0;34m\u001b[0m\u001b[0;34m\u001b[0m\u001b[0m\n\u001b[1;32m      2\u001b[0m \u001b[0;32mif\u001b[0m \u001b[0mtorch\u001b[0m\u001b[0;34m.\u001b[0m\u001b[0mcuda\u001b[0m\u001b[0;34m.\u001b[0m\u001b[0mis_available\u001b[0m\u001b[0;34m(\u001b[0m\u001b[0;34m)\u001b[0m\u001b[0;34m:\u001b[0m\u001b[0;34m\u001b[0m\u001b[0;34m\u001b[0m\u001b[0m\n\u001b[0;32m----> 3\u001b[0;31m   \u001b[0mtensor\u001b[0m \u001b[0;34m=\u001b[0m \u001b[0mtensor\u001b[0m\u001b[0;34m.\u001b[0m\u001b[0mto\u001b[0m\u001b[0;34m(\u001b[0m\u001b[0;34m'cuda'\u001b[0m\u001b[0;34m)\u001b[0m\u001b[0;34m\u001b[0m\u001b[0;34m\u001b[0m\u001b[0m\n\u001b[0m\u001b[1;32m      4\u001b[0m   \u001b[0mprint\u001b[0m\u001b[0;34m(\u001b[0m\u001b[0;34mf\"Device tensor is stored on: {tensor.device}\"\u001b[0m\u001b[0;34m)\u001b[0m\u001b[0;34m\u001b[0m\u001b[0;34m\u001b[0m\u001b[0m\n\u001b[1;32m      5\u001b[0m \u001b[0;32melse\u001b[0m\u001b[0;34m:\u001b[0m\u001b[0;34m\u001b[0m\u001b[0;34m\u001b[0m\u001b[0m\n",
            "\u001b[0;31mNameError\u001b[0m: name 'tensor' is not defined"
          ]
        }
      ]
    },
    {
      "cell_type": "markdown",
      "metadata": {
        "id": "8um7SDWGCp8o"
      },
      "source": [
        "### 1.2.4 Tensor operations\n",
        "\n",
        "Doc: https://pytorch.org/docs/stable/torch.html\n",
        "\n",
        "▶▶ **Look at slicing operations.**"
      ]
    },
    {
      "cell_type": "code",
      "metadata": {
        "colab": {
          "base_uri": "https://localhost:8080/"
        },
        "id": "7yLviqmYC3sZ",
        "outputId": "20e2f106-b664-4bfe-9f4d-858433a652ae"
      },
      "source": [
        "# Tensor operations: similar to numpy arrays\n",
        "\n",
        "tensor = torch.ones(4, 4)\n",
        "print(tensor)\n",
        "\n",
        "# ---------------------------------------------------------\n",
        "# TODO: What do you expect?\n",
        "# ---------------------------------------------------------\n",
        "## Slicing\n",
        "print(\"\\nSlicing\")\n",
        "tensor[:,1] = 0 \n",
        "print(tensor)\n",
        "\n",
        "# ---------------------------------------------------------\n",
        "# TODO: Change the first column with the value in l\n",
        "# ---------------------------------------------------------\n",
        "l =[1.,2.,3.,4.] \n",
        "l = torch.tensor( l )\n",
        "tensor[:, 0] = l\n",
        "print(tensor)\n",
        "\n",
        "\n",
        "## Concatenation\n",
        "print(\"\\nConcatenate\")\n",
        "t1 = torch.cat([tensor, tensor, tensor], dim=1)\n",
        "print(t1)\n",
        "\n",
        "## Multiplication: element_wise\n",
        "print(\"\\nMultiply\")\n",
        "# This computes the element-wise product\n",
        "t2 = tensor.mul(tensor)\n",
        "print(f\"tensor.mul(tensor) \\n {t2} \\n\")\n",
        "# Alternative syntax:\n",
        "t3 = tensor * tensor\n",
        "print(f\"tensor * tensor \\n {t3}\")\n",
        "\n",
        "## Matrix multiplication\n",
        "t4 = tensor.matmul(tensor.T)\n",
        "print(f\"tensor.matmul(tensor.T) \\n {t4} \\n\")\n",
        "# Alternative syntax:\n",
        "t5 = tensor @ tensor.T\n",
        "print(f\"tensor @ tensor.T \\n {t5}\")"
      ],
      "execution_count": null,
      "outputs": [
        {
          "output_type": "stream",
          "name": "stdout",
          "text": [
            "tensor([[1., 1., 1., 1.],\n",
            "        [1., 1., 1., 1.],\n",
            "        [1., 1., 1., 1.],\n",
            "        [1., 1., 1., 1.]])\n",
            "\n",
            "Slicing\n",
            "tensor([[1., 0., 1., 1.],\n",
            "        [1., 0., 1., 1.],\n",
            "        [1., 0., 1., 1.],\n",
            "        [1., 0., 1., 1.]])\n",
            "tensor([[1., 0., 1., 1.],\n",
            "        [2., 0., 1., 1.],\n",
            "        [3., 0., 1., 1.],\n",
            "        [4., 0., 1., 1.]])\n",
            "\n",
            "Concatenate\n",
            "tensor([[1., 0., 1., 1., 1., 0., 1., 1., 1., 0., 1., 1.],\n",
            "        [2., 0., 1., 1., 2., 0., 1., 1., 2., 0., 1., 1.],\n",
            "        [3., 0., 1., 1., 3., 0., 1., 1., 3., 0., 1., 1.],\n",
            "        [4., 0., 1., 1., 4., 0., 1., 1., 4., 0., 1., 1.]])\n",
            "\n",
            "Multiply\n",
            "tensor.mul(tensor) \n",
            " tensor([[ 1.,  0.,  1.,  1.],\n",
            "        [ 4.,  0.,  1.,  1.],\n",
            "        [ 9.,  0.,  1.,  1.],\n",
            "        [16.,  0.,  1.,  1.]]) \n",
            "\n",
            "tensor * tensor \n",
            " tensor([[ 1.,  0.,  1.,  1.],\n",
            "        [ 4.,  0.,  1.,  1.],\n",
            "        [ 9.,  0.,  1.,  1.],\n",
            "        [16.,  0.,  1.,  1.]])\n",
            "tensor.matmul(tensor.T) \n",
            " tensor([[ 3.,  4.,  5.,  6.],\n",
            "        [ 4.,  6.,  8., 10.],\n",
            "        [ 5.,  8., 11., 14.],\n",
            "        [ 6., 10., 14., 18.]]) \n",
            "\n",
            "tensor @ tensor.T \n",
            " tensor([[ 3.,  4.,  5.,  6.],\n",
            "        [ 4.,  6.,  8., 10.],\n",
            "        [ 5.,  8., 11., 14.],\n",
            "        [ 6., 10., 14., 18.]])\n"
          ]
        }
      ]
    },
    {
      "cell_type": "markdown",
      "metadata": {
        "id": "5ulTT2k_Hs97"
      },
      "source": [
        "The tensor is stored on CPU by default.\n",
        "\n",
        "▶▶ **Initialize the tensor using *device='cuda'*: where are stored t1, ..., t5?**"
      ]
    },
    {
      "cell_type": "code",
      "metadata": {
        "colab": {
          "base_uri": "https://localhost:8080/"
        },
        "id": "atwxGd1_IdxI",
        "outputId": "97d6d20a-074d-45e0-e6cb-e1197a1b2ea0"
      },
      "source": [
        "# Tensor operations: similar to numpy arrays\n",
        "\n",
        "tensor = torch.ones(4, 4, device='cuda')\n",
        "print(tensor)\n",
        "\n",
        "# ---------------------------------------------------------\n",
        "# TODO: What do you expect?\n",
        "# ---------------------------------------------------------\n",
        "## Slicing\n",
        "print(\"\\nSlicing\")\n",
        "tensor[:,1] = 0 \n",
        "print(tensor)\n",
        "\n",
        "# ---------------------------------------------------------\n",
        "# TODO: Change the first column with the value in l\n",
        "# ---------------------------------------------------------\n",
        "l =[1.,2.,3.,4.] \n",
        "l = torch.tensor( l )\n",
        "tensor[:, 0] = l\n",
        "print(tensor)\n",
        "\n",
        "\n",
        "## Concatenation\n",
        "print(\"\\nConcatenate\")\n",
        "t1 = torch.cat([tensor, tensor, tensor], dim=1)\n",
        "print(t1)\n",
        "\n",
        "## Multiplication: element_wise\n",
        "print(\"\\nMultiply\")\n",
        "# This computes the element-wise product\n",
        "t2 = tensor.mul(tensor)\n",
        "print(f\"tensor.mul(tensor) \\n {t2} \\n\")\n",
        "# Alternative syntax:\n",
        "t3 = tensor * tensor\n",
        "print(f\"tensor * tensor \\n {t3}\")\n",
        "\n",
        "## Matrix multiplication\n",
        "t4 = tensor.matmul(tensor.T)\n",
        "print(f\"tensor.matmul(tensor.T) \\n {t4} \\n\")\n",
        "# Alternative syntax:\n",
        "t5 = tensor @ tensor.T\n",
        "print(f\"tensor @ tensor.T \\n {t5}\")"
      ],
      "execution_count": null,
      "outputs": [
        {
          "output_type": "stream",
          "name": "stdout",
          "text": [
            "tensor([[1., 1., 1., 1.],\n",
            "        [1., 1., 1., 1.],\n",
            "        [1., 1., 1., 1.],\n",
            "        [1., 1., 1., 1.]], device='cuda:0')\n",
            "\n",
            "Slicing\n",
            "tensor([[1., 0., 1., 1.],\n",
            "        [1., 0., 1., 1.],\n",
            "        [1., 0., 1., 1.],\n",
            "        [1., 0., 1., 1.]], device='cuda:0')\n",
            "tensor([[1., 0., 1., 1.],\n",
            "        [2., 0., 1., 1.],\n",
            "        [3., 0., 1., 1.],\n",
            "        [4., 0., 1., 1.]], device='cuda:0')\n",
            "\n",
            "Concatenate\n",
            "tensor([[1., 0., 1., 1., 1., 0., 1., 1., 1., 0., 1., 1.],\n",
            "        [2., 0., 1., 1., 2., 0., 1., 1., 2., 0., 1., 1.],\n",
            "        [3., 0., 1., 1., 3., 0., 1., 1., 3., 0., 1., 1.],\n",
            "        [4., 0., 1., 1., 4., 0., 1., 1., 4., 0., 1., 1.]], device='cuda:0')\n",
            "\n",
            "Multiply\n",
            "tensor.mul(tensor) \n",
            " tensor([[ 1.,  0.,  1.,  1.],\n",
            "        [ 4.,  0.,  1.,  1.],\n",
            "        [ 9.,  0.,  1.,  1.],\n",
            "        [16.,  0.,  1.,  1.]], device='cuda:0') \n",
            "\n",
            "tensor * tensor \n",
            " tensor([[ 1.,  0.,  1.,  1.],\n",
            "        [ 4.,  0.,  1.,  1.],\n",
            "        [ 9.,  0.,  1.,  1.],\n",
            "        [16.,  0.,  1.,  1.]], device='cuda:0')\n",
            "tensor.matmul(tensor.T) \n",
            " tensor([[ 3.,  4.,  5.,  6.],\n",
            "        [ 4.,  6.,  8., 10.],\n",
            "        [ 5.,  8., 11., 14.],\n",
            "        [ 6., 10., 14., 18.]], device='cuda:0') \n",
            "\n",
            "tensor @ tensor.T \n",
            " tensor([[ 3.,  4.,  5.,  6.],\n",
            "        [ 4.,  6.,  8., 10.],\n",
            "        [ 5.,  8., 11., 14.],\n",
            "        [ 6., 10., 14., 18.]], device='cuda:0')\n"
          ]
        }
      ]
    },
    {
      "cell_type": "markdown",
      "metadata": {
        "id": "UxW1jtX-GOfd"
      },
      "source": [
        "### 1.2.5 Exercise\n",
        "\n",
        "▶▶ **Compute the tensor h, using the same data for x and W as at the beginning of this TP.**\n",
        "\n",
        "```\n",
        "x = np.array([1,2])\n",
        "rng = np.random.default_rng(seed=42)\n",
        "W = rng.random((3, 2))\n",
        "```"
      ]
    },
    {
      "cell_type": "code",
      "metadata": {
        "colab": {
          "base_uri": "https://localhost:8080/"
        },
        "id": "lwIanFgWD_YJ",
        "outputId": "646a5d64-5331-4554-9e25-8f9e59cc303c"
      },
      "source": [
        "# --------------------------------------------------------\n",
        "# TODO: Write the code to compute h = W.x+b\n",
        "# --------------------------------------------------------\n",
        "\n",
        "# h = x.W + b\n",
        "x = torch.tensor([1,2])\n",
        "x = x.to( torch.float64) # be careful: using just 'float' here gives float32\n",
        "## OR\n",
        "#x = torch.tensor([1,2], dtype=float)\n",
        "print(\"Our input vector with 2 elements:\\n\", x)\n",
        "print( \"x shape:\", x.shape)\n",
        "print( \"x type:\", x.dtype )\n",
        "\n",
        "# Generate a random matrix (with e generator, for reproducible results)\n",
        "rng = np.random.default_rng(seed=42)\n",
        "W = rng.random((3, 2))\n",
        "W_t = torch.from_numpy(W)\n",
        "print(\"\\n Our weight matrix, of shape 3x2:\\n\", W)\n",
        "print( \"W shape:\", W_t.shape)\n",
        "print( \"W type:\", W.dtype)\n",
        "\n",
        "# Bias, a scalar\n",
        "b = 1.0\n",
        "\n",
        "# Now, try to multiply\n",
        "h_t = W_t.matmul(x) + b\n",
        "print(\"\\n Our h layer:\\n\", h_t)\n",
        "print( \"h shape:\", h_t.shape)"
      ],
      "execution_count": null,
      "outputs": [
        {
          "output_type": "stream",
          "name": "stdout",
          "text": [
            "Our input vector with 2 elements:\n",
            " tensor([1., 2.], dtype=torch.float64)\n",
            "x shape: torch.Size([2])\n",
            "x type: torch.float64\n",
            "\n",
            " Our weight matrix, of shape 3x2:\n",
            " [[0.77395605 0.43887844]\n",
            " [0.85859792 0.69736803]\n",
            " [0.09417735 0.97562235]]\n",
            "W shape: torch.Size([3, 2])\n",
            "W type: float64\n",
            "\n",
            " Our h layer:\n",
            " tensor([2.6517, 3.2533, 3.0454], dtype=torch.float64)\n",
            "h shape: torch.Size([3])\n"
          ]
        }
      ]
    },
    {
      "cell_type": "markdown",
      "metadata": {
        "id": "na_tJOnfGDIz"
      },
      "source": [
        "**Note:** when multiplying matrices, we need to have the same data type, e.g. not **x** with *int* and **W** with *float*."
      ]
    },
    {
      "cell_type": "code",
      "metadata": {
        "colab": {
          "base_uri": "https://localhost:8080/"
        },
        "id": "lql9bH39G4Mw",
        "outputId": "d01c8db1-24e5-4cd9-fa03-0b8669893c13"
      },
      "source": [
        "# Other notes on tensors\n",
        "\n",
        "## Operations that have a _ suffix are in-place. For example: x.copy_(y), x.t_(), will change x.\n",
        "print(tensor, \"\\n\")\n",
        "tensor.add_(5)\n",
        "print(tensor)"
      ],
      "execution_count": null,
      "outputs": [
        {
          "output_type": "stream",
          "name": "stdout",
          "text": [
            "tensor([[1., 0., 1., 1.],\n",
            "        [2., 0., 1., 1.],\n",
            "        [3., 0., 1., 1.],\n",
            "        [4., 0., 1., 1.]], device='cuda:0') \n",
            "\n",
            "tensor([[6., 5., 6., 6.],\n",
            "        [7., 5., 6., 6.],\n",
            "        [8., 5., 6., 6.],\n",
            "        [9., 5., 6., 6.]], device='cuda:0')\n"
          ]
        }
      ]
    },
    {
      "cell_type": "markdown",
      "metadata": {
        "id": "DGmy-dtuOtiw"
      },
      "source": [
        "# Part 2: Feedforward Neural Network\n",
        "\n",
        "In this practical session, we will explore a simple neural network architecture for NLP applications ; specifically, we will train a feedforward neural network for sentiment analysis, using the same dataset of reviews as in the previous session.  We will also keep the bag of words representation. \n",
        "\n",
        "\n",
        "Sources:\n",
        "* This TP is inspired by a TP by Tim van de Cruys\n",
        "* https://www.deeplearningwizard.com/deep_learning/practical_pytorch/pytorch_feedforward_neuralnetwork/\n",
        "* https://pytorch.org/tutorials/beginner/text_sentiment_ngrams_tutorial.html\n",
        "* https://medium.com/swlh/sentiment-classification-using-feed-forward-neural-network-in-pytorch-655811a0913f \n",
        "* https://www.deeplearningwizard.com/deep_learning/practical_pytorch/pytorch_feedforward_neuralnetwork/"
      ]
    },
    {
      "cell_type": "markdown",
      "metadata": {
        "id": "wdSyhJqpVczO"
      },
      "source": [
        "## 2.1 Read and load the data\n",
        "\n",
        "First, we need to understand how to use text data. Here we will keep the bag of word representation, as in the previous session. \n",
        "\n",
        "You can find different ways of dealing with the input data. The simplest solution is to use the DataLoader from PyTorch:    \n",
        "* the doc here https://pytorch.org/docs/stable/data.html and here https://pytorch.org/tutorials/beginner/basics/data_tutorial.html\n",
        "* an example of use, with numpy array: https://www.kaggle.com/arunmohan003/sentiment-analysis-using-lstm-pytorch\n",
        "\n",
        "\n",
        "\n",
        "\n",
        "\n",
        "\n",
        "You can also find many datasets for text ready to load in pytorch on: https://pytorch.org/text/stable/datasets.html"
      ]
    },
    {
      "cell_type": "markdown",
      "metadata": {
        "id": "CxRbwziSV_BY"
      },
      "source": [
        "#### 2.1.1 Build BoW vectors\n",
        "\n",
        "The code below allows to use scikit methods you already know to generate the bag of word representation."
      ]
    },
    {
      "cell_type": "code",
      "metadata": {
        "colab": {
          "base_uri": "https://localhost:8080/"
        },
        "id": "SoVJ18s_oxkn",
        "outputId": "64cb8b6f-3a74-46cb-9a9c-feff8013e569"
      },
      "source": [
        "import pandas as pd\n",
        "import numpy as np\n",
        "import re\n",
        "import sklearn\n",
        "\n",
        "from sklearn.feature_extraction.text import CountVectorizer\n",
        "\n",
        "# This will be the size of the vectors reprensenting the input\n",
        "MAX_FEATURES = 5000 \n",
        "\n",
        "# Load train and test set\n",
        "train = pd.read_csv(\"allocine_train.tsv\", header=0,\n",
        "                    delimiter=\"\\t\", quoting=3)\n",
        "test = pd.read_csv(\"allocine_test.tsv\", header=0,\n",
        "                   delimiter=\"\\t\", quoting=3)\n",
        "\n",
        "print(\"Creating features from bag of words...\")\n",
        "\n",
        "# Initialize the \"CountVectorizer\" object, which is scikit-learn's\n",
        "# bag of words tool.  \n",
        "vectorizer = CountVectorizer(\n",
        "    analyzer = \"word\",\n",
        "    max_features = MAX_FEATURES\n",
        ") \n",
        "\n",
        "# fit_transform() performs two operations; first, it fits the model\n",
        "# and learns the vocabulary; second, it transforms our training data\n",
        "# into feature vectors. The input to fit_transform should be a list of\n",
        "# strings.\n",
        "train_data_features = vectorizer.fit_transform(train[\"review\"])\n",
        "\n",
        "# output from vectorizer is a sparse array; our classifier needs a\n",
        "# dense array\n",
        "x_train = train_data_features.toarray()\n",
        "\n",
        "# construct a matrix of two columns (one for positive class, one for\n",
        "# negative class) where the correct class is indicated with 1 and the\n",
        "# incorrect one with 0\n",
        "y_train = np.asarray(train[\"sentiment\"])\n",
        "\n",
        "print( \"TRAIN:\", x_train.shape )\n",
        "count_train = x_train.shape[0]"
      ],
      "execution_count": null,
      "outputs": [
        {
          "output_type": "stream",
          "name": "stdout",
          "text": [
            "Creating features from bag of words...\n",
            "TRAIN: (5027, 5000)\n"
          ]
        }
      ]
    },
    {
      "cell_type": "markdown",
      "metadata": {
        "id": "Mt00MaMmW1_P"
      },
      "source": [
        "#### 2.1.2 Transform to tensors\n",
        "\n",
        "Now we need to transform our data to tensors, to provide them as input to PyTorch.\n",
        "\n",
        "* **torch.utils.data.TensorDataset(*tensors)**: Dataset wrapping tensors. Take tensors as inputs, obtained via **torch.from_numpy( an numpy array )**. Note: don't forget to transform tensor type to float, with **to(torch.float)** (or cryptic error saying it was expecting long...).\n",
        "* **DataLoader**: \n",
        "\n",
        "```\n",
        "DataLoader(\n",
        "    dataset,\n",
        "    batch_size=1,\n",
        "    shuffle=False,\n",
        "    num_workers=0,\n",
        "    collate_fn=None,\n",
        "    pin_memory=False,\n",
        " )\n",
        " ```\n"
      ]
    },
    {
      "cell_type": "code",
      "metadata": {
        "id": "JMLPp3vnoxnG"
      },
      "source": [
        "import torch\n",
        "from torch.utils.data import TensorDataset, DataLoader\n",
        "\n",
        "# create Tensor dataset\n",
        "train_data = TensorDataset(torch.from_numpy(x_train).to(torch.float), torch.from_numpy(y_train))\n",
        "\n",
        "# dataloaders\n",
        "batch_size = 1 #no batch, or batch = 1\n",
        "\n",
        "# make sure to SHUFFLE your data\n",
        "train_loader = DataLoader(train_data, shuffle=True, batch_size=batch_size)"
      ],
      "execution_count": null,
      "outputs": []
    },
    {
      "cell_type": "markdown",
      "metadata": {
        "id": "zOeZCY09o6CV"
      },
      "source": [
        "## 2.2 Neural Network\n",
        "\n",
        "Now we can build our learning model.\n",
        "\n",
        "For this TP, we're going to walk through the code of a simple feedforward neural network, with one hidden layer.\n",
        "\n",
        "This network takes as input bag of words vectors, exactly as our 'classic' models: each review is represented by a vector of the size the number of tokens in the vocabulary with '1' when a word is present and '0' for the other words. \n",
        "\n",
        "▶▶ **What is the input dimension?** \n",
        "\n",
        "▶▶ **What is the output dimension?** "
      ]
    },
    {
      "cell_type": "code",
      "metadata": {
        "id": "Kvmc-_zqoxvF"
      },
      "source": [
        "import torch\n",
        "import torch.nn as nn\n",
        "\n",
        "class FeedforwardNeuralNetModel(nn.Module):\n",
        "    def __init__(self, input_dim, hidden_dim, output_dim):\n",
        "        super(FeedforwardNeuralNetModel, self).__init__()\n",
        "        # Linear function ==> W1\n",
        "        self.fc1 = nn.Linear(input_dim, hidden_dim)\n",
        "\n",
        "        # Non-linearity ==> g\n",
        "        self.sigmoid = nn.Sigmoid()\n",
        "\n",
        "        # Linear function (readout) ==> W2\n",
        "        self.fc2 = nn.Linear(hidden_dim, output_dim)  \n",
        "\n",
        "    def forward(self, x):\n",
        "        '''\n",
        "        y = g(x.W1+b).W2\n",
        "        '''\n",
        "        # Linear function  # LINEAR ==> x.W1+b\n",
        "        out = self.fc1(x)\n",
        "\n",
        "        # Non-linearity  # NON-LINEAR ==> h1 = g(x.W1+b)\n",
        "        out = self.sigmoid(out) \n",
        "\n",
        "        # Linear function (readout)  # LINEAR ==> y = h1.W2\n",
        "        out = self.fc2(out)\n",
        "        return out"
      ],
      "execution_count": null,
      "outputs": []
    },
    {
      "cell_type": "markdown",
      "metadata": {
        "id": "BSK0j8YASriA"
      },
      "source": [
        "▶▶ **What is the input dimension?** --> MAX FEATURES = 5000\n",
        "\n",
        "▶▶ **What is the output dimension?** --> number of classes = 2"
      ]
    },
    {
      "cell_type": "markdown",
      "metadata": {
        "id": "oWLDfLGxpBvn"
      },
      "source": [
        "We need to set up the values for the hyper-parameters, and define the form of the loss and the optimization methods.\n",
        "\n",
        "▶▶ **What is the hidden dimension?** "
      ]
    },
    {
      "cell_type": "code",
      "metadata": {
        "id": "fcGyjXbUoxx9"
      },
      "source": [
        "# Many choices here!\n",
        "VOCAB_SIZE = MAX_FEATURES\n",
        "input_dim = VOCAB_SIZE \n",
        "hidden_dim = 4\n",
        "output_dim = 2\n",
        "\n",
        "learning_rate = 0.1\n",
        "num_epochs = 5\n",
        "\n",
        "criterion = nn.CrossEntropyLoss()"
      ],
      "execution_count": null,
      "outputs": []
    },
    {
      "cell_type": "markdown",
      "metadata": {
        "id": "44c5TPBGSxSJ"
      },
      "source": [
        "▶▶ **What is the hidden dimension?**  --> 4"
      ]
    },
    {
      "cell_type": "code",
      "metadata": {
        "id": "15WR_Jdtoxze"
      },
      "source": [
        "# Initialization of the model\n",
        "model = FeedforwardNeuralNetModel(input_dim, hidden_dim, output_dim)\n",
        "\n",
        "optimizer = torch.optim.SGD(model.parameters(), lr=learning_rate)"
      ],
      "execution_count": null,
      "outputs": []
    },
    {
      "cell_type": "markdown",
      "metadata": {
        "id": "OPt_VbCMqoD2"
      },
      "source": [
        "### Training the network\n",
        "\n",
        "▶▶ **Look at the loss after each training step.** "
      ]
    },
    {
      "cell_type": "code",
      "metadata": {
        "colab": {
          "base_uri": "https://localhost:8080/"
        },
        "id": "OnNx8hZJox3v",
        "outputId": "833b1899-6454-4f2a-b6d6-d357520330c4"
      },
      "source": [
        "# Start training\n",
        "for epoch in range(num_epochs):\n",
        "    train_loss, total_acc, total_count = 0, 0, 0\n",
        "    for input, label in train_loader:\n",
        "\n",
        "        # Clearing the accumulated gradients\n",
        "        # torch *accumulates* gradients. Before passing in a\n",
        "        # new instance, you need to zero out the gradients from the old\n",
        "        # instance\n",
        "        # Clear gradients w.r.t. parameters\n",
        "        optimizer.zero_grad()\n",
        "\n",
        "        # Forward pass to get output/logits \n",
        "        # = apply all our functions: y = g(x.W1+b).W2\n",
        "        outputs = model( input )\n",
        "\n",
        "        # Calculate Loss: softmax --> cross entropy loss\n",
        "        loss = criterion(outputs, label)\n",
        "\n",
        "        # Getting gradients w.r.t. parameters\n",
        "        # Here is the way to find how to modify the parameters in\n",
        "        # order to lower the loss\n",
        "        loss.backward()\n",
        "\n",
        "        # Updating parameters\n",
        "        optimizer.step()\n",
        "\n",
        "        # -- a useful print\n",
        "        # Accumulating the loss over time\n",
        "        train_loss += loss.item()\n",
        "        total_acc += (outputs.argmax(1) == label).sum().item()\n",
        "        total_count += label.size(0)\n",
        "\n",
        "    # Compute accuracy on train set at each epoch\n",
        "    print('Epoch: {}. Loss: {}. ACC {} '.format(epoch, train_loss/count_train, total_acc/count_train))\n",
        "        \n",
        "    total_acc, total_count = 0, 0\n",
        "    train_loss = 0"
      ],
      "execution_count": null,
      "outputs": [
        {
          "output_type": "stream",
          "name": "stdout",
          "text": [
            "Epoch: 0. Loss: 0.5302336635336692. ACC 0.7306544658842252 \n",
            "Epoch: 1. Loss: 0.37574898928052036. ACC 0.834692659637955 \n",
            "Epoch: 2. Loss: 0.3053986730219786. ACC 0.8708971553610503 \n",
            "Epoch: 3. Loss: 0.2752747689059537. ACC 0.8874079968171872 \n",
            "Epoch: 4. Loss: 0.2564912591494419. ACC 0.8961607320469465 \n"
          ]
        }
      ]
    },
    {
      "cell_type": "markdown",
      "metadata": {
        "id": "tzMl5wdnqtCW"
      },
      "source": [
        "### Evaluate the model "
      ]
    },
    {
      "cell_type": "code",
      "metadata": {
        "id": "E81LmpAJq2ic",
        "colab": {
          "base_uri": "https://localhost:8080/"
        },
        "outputId": "b3856774-72ed-486d-f2c8-d80a463bca77"
      },
      "source": [
        "# ---------------------------------------------\n",
        "# TODO: Process the Test data\n",
        "# ---------------------------------------------\n",
        "\n",
        "#test = pd.read_csv(\"allocine_test.tsv\", header=0,\n",
        "#                   delimiter=\"\\t\", quoting=3)\n",
        "\n",
        "test_data_features = vectorizer.transform(test[\"review\"])\n",
        "x_test = test_data_features.toarray()\n",
        "y_test = np.asarray(test[\"sentiment\"])\n",
        "\n",
        "print( \"TEST:\", x_test.shape )\n",
        "\n",
        "# create Tensor datasets\n",
        "valid_data = TensorDataset(torch.from_numpy(x_test).to(torch.float), torch.from_numpy(y_test))\n",
        "valid_loader = DataLoader(valid_data, shuffle=True, batch_size=batch_size)"
      ],
      "execution_count": null,
      "outputs": [
        {
          "output_type": "stream",
          "name": "stdout",
          "text": [
            "TEST: (544, 5000)\n"
          ]
        }
      ]
    },
    {
      "cell_type": "code",
      "metadata": {
        "colab": {
          "base_uri": "https://localhost:8080/"
        },
        "id": "ldDubAPDox5K",
        "outputId": "b2e463e9-f3fb-409e-eca4-44e702791e3c"
      },
      "source": [
        "from sklearn.metrics import classification_report\n",
        "predictions = []\n",
        "gold = []\n",
        "\n",
        "# Disabling gradient calculation is useful for inference, \n",
        "# when you are sure that you will not call Tensor.backward(). \n",
        "with torch.no_grad():\n",
        "    for input, label in valid_loader:\n",
        "        probs = model(input)\n",
        "        predictions.append( torch.argmax(probs, dim=1).cpu().numpy()[0] )\n",
        "        gold.append(int(label))\n",
        "\n",
        "print(classification_report(gold, predictions))"
      ],
      "execution_count": null,
      "outputs": [
        {
          "output_type": "stream",
          "name": "stdout",
          "text": [
            "              precision    recall  f1-score   support\n",
            "\n",
            "           0       0.88      0.89      0.88       272\n",
            "           1       0.89      0.88      0.88       272\n",
            "\n",
            "    accuracy                           0.88       544\n",
            "   macro avg       0.88      0.88      0.88       544\n",
            "weighted avg       0.88      0.88      0.88       544\n",
            "\n"
          ]
        }
      ]
    },
    {
      "cell_type": "markdown",
      "metadata": {
        "id": "Hq-jspmLL387"
      },
      "source": [
        "## 3. Move to GPU"
      ]
    },
    {
      "cell_type": "code",
      "metadata": {
        "colab": {
          "base_uri": "https://localhost:8080/"
        },
        "id": "pydK_h3QLZfO",
        "outputId": "eb200895-f801-4e90-d162-db2044032f5c"
      },
      "source": [
        "## 1- Define the device to be used\n",
        "\n",
        "# CUDA for PyTorch\n",
        "use_cuda = torch.cuda.is_available()\n",
        "device = torch.device(\"cuda\" if use_cuda else \"cpu\")\n",
        "print(device)"
      ],
      "execution_count": null,
      "outputs": [
        {
          "output_type": "stream",
          "name": "stdout",
          "text": [
            "cuda\n"
          ]
        }
      ]
    },
    {
      "cell_type": "code",
      "metadata": {
        "id": "PuV1OjAdMHOX"
      },
      "source": [
        "## 2- No change here\n",
        "\n",
        "import torch\n",
        "import torch.nn as nn\n",
        "\n",
        "class FeedforwardNeuralNetModel(nn.Module):\n",
        "    def __init__(self, input_dim, hidden_dim, output_dim):\n",
        "        super(FeedforwardNeuralNetModel, self).__init__()\n",
        "        # Linear function ==> W1\n",
        "        self.fc1 = nn.Linear(input_dim, hidden_dim)\n",
        "\n",
        "        # Non-linearity ==> g\n",
        "        self.sigmoid = nn.Sigmoid()\n",
        "\n",
        "        # Linear function (readout) ==> W2\n",
        "        self.fc2 = nn.Linear(hidden_dim, output_dim)  \n",
        "\n",
        "    def forward(self, x):\n",
        "        '''\n",
        "        y = g(x.W1+b).W2\n",
        "        '''\n",
        "        # Linear function  # LINEAR ==> x.W1+b\n",
        "        out = self.fc1(x)\n",
        "\n",
        "        # Non-linearity  # NON-LINEAR ==> h1 = g(x.W1+b)\n",
        "        out = self.sigmoid(out) \n",
        "\n",
        "        # Linear function (readout)  # LINEAR ==> y = h1.W2\n",
        "        out = self.fc2(out)\n",
        "        return out"
      ],
      "execution_count": null,
      "outputs": []
    },
    {
      "cell_type": "code",
      "metadata": {
        "id": "K7mmAyoPMziY"
      },
      "source": [
        "## 3- Move your model to the GPU\n",
        "\n",
        "# Initialization of the model\n",
        "model = FeedforwardNeuralNetModel(input_dim, hidden_dim, output_dim)\n",
        "\n",
        "optimizer = torch.optim.SGD(model.parameters(), lr=learning_rate)\n",
        "\n",
        "model = model.to(device)"
      ],
      "execution_count": null,
      "outputs": []
    },
    {
      "cell_type": "code",
      "metadata": {
        "colab": {
          "base_uri": "https://localhost:8080/"
        },
        "id": "ANibLgnhL9jU",
        "outputId": "ff06480b-6016-48af-efd5-705467f4680f"
      },
      "source": [
        "## 4- Move your data to GPU\n",
        "\n",
        "# Start training\n",
        "for epoch in range(num_epochs):\n",
        "    train_loss, total_acc, total_count = 0, 0, 0\n",
        "    for input, label in train_loader:\n",
        "        ## ------------ CHANGE HERE -----------------\n",
        "        input = input.to(device)\n",
        "        label = label.to(device)\n",
        "\n",
        "        # Clear gradients w.r.t. parameters\n",
        "        optimizer.zero_grad()\n",
        "\n",
        "        # Forward pass to get output/logits\n",
        "        outputs = model( input )\n",
        "\n",
        "        # Calculate Loss: softmax --> cross entropy loss\n",
        "        loss = criterion(outputs, label)\n",
        "\n",
        "        # Getting gradients w.r.t. parameters\n",
        "        loss.backward()\n",
        "\n",
        "        # Updating parameters\n",
        "        optimizer.step()\n",
        "\n",
        "        # Accumulating the loss over time\n",
        "        train_loss += loss.item()\n",
        "        total_acc += (outputs.argmax(1) == label).sum().item()\n",
        "        total_count += label.size(0)\n",
        "\n",
        "    # Compute accuracy on train set at each epoch\n",
        "    print('Epoch: {}. Loss: {}. ACC {} '.format(epoch, train_loss/count_train, total_acc/count_train))\n",
        "        \n",
        "    total_acc, total_count = 0, 0\n",
        "    train_loss = 0"
      ],
      "execution_count": null,
      "outputs": [
        {
          "output_type": "stream",
          "name": "stdout",
          "text": [
            "Epoch: 0. Loss: 0.41117278576548644. ACC 0.8093480934809348 \n",
            "Epoch: 1. Loss: 0.33078268146318346. ACC 0.8663386633866339 \n",
            "Epoch: 2. Loss: 0.3004303043457857. ACC 0.8712587125871258 \n",
            "Epoch: 3. Loss: 0.25682551275738624. ACC 0.8970889708897088 \n",
            "Epoch: 4. Loss: 0.22718892477737973. ACC 0.9122591225912259 \n"
          ]
        }
      ]
    },
    {
      "cell_type": "code",
      "metadata": {
        "colab": {
          "base_uri": "https://localhost:8080/"
        },
        "id": "dSXQF-ViNUH4",
        "outputId": "8fc6eaf8-e751-45ef-ba83-d073d1097cb8"
      },
      "source": [
        "# -- 5- Again, move your data to GPU\n",
        "\n",
        "#test = pd.read_csv(\"allocine_test.tsv\", header=0,\n",
        "#                   delimiter=\"\\t\", quoting=3)\n",
        "\n",
        "test_data_features = vectorizer.transform(test[\"review\"])\n",
        "x_test = test_data_features.toarray()\n",
        "y_test = np.asarray(test[\"sentiment\"])\n",
        "\n",
        "print( \"TEST:\", x_test.shape )\n",
        "\n",
        "# create Tensor datasets\n",
        "valid_data = TensorDataset(torch.from_numpy(x_test).to(torch.float), torch.from_numpy(y_test))\n",
        "valid_loader = DataLoader(valid_data, shuffle=True, batch_size=batch_size)\n",
        "\n",
        "\n",
        "from sklearn.metrics import classification_report\n",
        "predictions = []\n",
        "gold = []\n",
        "\n",
        "with torch.no_grad():\n",
        "    for input, label in valid_loader:\n",
        "        ## ------------ CHANGE HERE -----------------\n",
        "        input = input.to(device)\n",
        "        \n",
        "\n",
        "        probs = model(input)\n",
        "        #Here, we need CPU: else, it will generate the following error\n",
        "        # can't convert cuda:0 device type tensor to numpy. \n",
        "        # Use Tensor.cpu() to copy the tensor to host memory first.\n",
        "        # (if we need a numpy array)\n",
        "        predictions.append( torch.argmax(probs, dim=1).cpu().numpy()[0] )\n",
        "        #print( probs )\n",
        "        #print( torch.argmax(probs, dim=1) ) # Return the index of the max value\n",
        "        #print( torch.argmax(probs, dim=1).cpu().numpy()[0] )\n",
        "        gold.append(int(label))\n",
        "\n",
        "print(classification_report(gold, predictions))"
      ],
      "execution_count": null,
      "outputs": [
        {
          "output_type": "stream",
          "name": "stdout",
          "text": [
            "TEST: (544, 5000)\n",
            "              precision    recall  f1-score   support\n",
            "\n",
            "           0       0.88      0.67      0.76       272\n",
            "           1       0.73      0.90      0.81       272\n",
            "\n",
            "    accuracy                           0.79       544\n",
            "   macro avg       0.80      0.79      0.79       544\n",
            "weighted avg       0.80      0.79      0.79       544\n",
            "\n"
          ]
        }
      ]
    }
  ]
}