{
  "nbformat": 4,
  "nbformat_minor": 0,
  "metadata": {
    "colab": {
      "name": "TP1_masterLiTL_2122_WSOL.ipynb",
      "provenance": [],
      "collapsed_sections": []
    },
    "kernelspec": {
      "name": "python3",
      "display_name": "Python 3"
    },
    "language_info": {
      "name": "python"
    }
  },
  "cells": [
    {
      "cell_type": "markdown",
      "metadata": {
        "id": "lmulT50Qopks"
      },
      "source": [
        "# TP1: Machine learning (reminder)\n",
        "Master LiTL - 2021-2022\n",
        "\n",
        "## Requirements\n",
        "In this practical session, we will explore machine learning models for NLP applications ; specifically, we will train a classifier for sentiment analysis on a French dataset of movie reviews. \n",
        "For these exercises, we will make use of Python (v3.*), and a number of modules for data processing and machine learning: *numpy*, *scipy*, *scikit-learn*, *pandas* and *spacy* . \n",
        "They are all already available within colab. \n",
        "If  you  want  to  use  your  own  computer  you  will  need  to  make  sure  these  are  installed  (e.g.  using  the command *pip*). If you’re using *Miniconda*, you can use the command\n",
        "```\n",
        "conda install <modulename>\n",
        "```\n",
        "\n",
        "\n",
        "First,  download  the  archive  for  the  practical  session  from  the  course  page  to  an  appropriate working directory, and unzip it. Under linux, you can issue the following commands :\n",
        "```\n",
        "$ unzip tp3.zip \n",
        "$ cd tp3\n",
        "```\n"
      ]
    },
    {
      "cell_type": "code",
      "metadata": {
        "colab": {
          "base_uri": "https://localhost:8080/"
        },
        "id": "wf3lJWgabkfB",
        "outputId": "d774e9e8-02a2-4f42-b617-6316de3affe9"
      },
      "source": [
        "from google.colab import drive\n",
        "drive.mount('/content/drive')"
      ],
      "execution_count": null,
      "outputs": [
        {
          "output_type": "stream",
          "name": "stdout",
          "text": [
            "Drive already mounted at /content/drive; to attempt to forcibly remount, call drive.mount(\"/content/drive\", force_remount=True).\n"
          ]
        }
      ]
    },
    {
      "cell_type": "markdown",
      "metadata": {
        "id": "D4dW8cDBpG2v"
      },
      "source": [
        "## Task and dataset\n",
        "\n",
        "We’ll go through the following stages of an NLP machine learning pipeline, using sentiment classification as an application:\n",
        "* data preprocessing (tokenization) \n",
        "* feature extraction\n",
        "* model training\n",
        "* evaluation\n",
        "\n",
        "As a dataset, we’ll be using a set of reviews for television series in French, extracted from the website allocine.fr. \n",
        "The dataset consists of the text of the review, as well as a sentiment label (positive or negative).\n",
        "\n",
        "The training set is divided into a training part (for training, 5576 reviews, ± 90%) and test part (for evaluation, 544 reviews, ± 10%). \n",
        "The dataset is balanced, which means positive and negative instances are evenly distributed. \n",
        "Additionally, training and test set contain reviews about different TV series (in order to avoid possible bias when evaluating)."
      ]
    },
    {
      "cell_type": "markdown",
      "metadata": {
        "id": "PKlLeW1Rp3Hl"
      },
      "source": [
        "## Exercise 1: Preprocessing (code given)\n",
        "\n",
        "First, we’ll load the training set and axplore the dataset.\n",
        "\n"
      ]
    },
    {
      "cell_type": "code",
      "metadata": {
        "colab": {
          "base_uri": "https://localhost:8080/"
        },
        "id": "vjWd_ZWYj9i0",
        "outputId": "e8d5f3ba-348e-4429-b44d-8c2c39a9548c"
      },
      "source": [
        "import pandas as pd\n",
        "\n",
        "train_path = \"allocine_train.tsv\"\n",
        "dev_path = \"allocine_dev.tsv\"\n",
        "test_path = \"allocine_test.tsv\"\n",
        "\n",
        "train = pd.read_csv(train_path, header=0, delimiter='\\t', quoting=3) \n",
        "print(\"TRAIN:\", train.shape)\n",
        "print(train.columns.values)\n",
        "print(train['sentiment'][0], train['review'][0])\n",
        "print()\n",
        "\n",
        "dev = pd.read_csv(dev_path, header=0, delimiter='\\t', quoting=3) \n",
        "print(\"DEV:\", dev.shape)\n",
        "print()\n",
        "\n",
        "test = pd.read_csv(test_path, header=0, delimiter='\\t', quoting=3) \n",
        "print(\"TEST:\", test.shape)"
      ],
      "execution_count": null,
      "outputs": [
        {
          "output_type": "stream",
          "name": "stdout",
          "text": [
            "TRAIN: (5027, 4)\n",
            "['movie_id' 'user_id' 'sentiment' 'review']\n",
            "0 Stephen King doit bien ricaner en constatant cette navrante histoire de disparus, les scénaristes semblent s'être inspirés de ses oeuvres mais ont bien moins son talent que celui du business. Quel perte de temps que de regarder ces personnages perdus au centre d'une histoire sans fin et sans intérêt, où 2 ou 3 épisodes suffisent pour décrocher, à l'inverse d'une série comme Desperate housewives dont les dialogues, les scénarii et les personnages contribuent sans cesse à relancer l'intérêt et le plaisir au fil des épisodes. Pourtant mes goûts initiaux m'auraient porté davantage du côté de la série fantastique. Il ne faut préjuger de rien! A bon entendeur...\n",
            "\n",
            "DEV: (549, 4)\n",
            "\n",
            "TEST: (544, 4)\n"
          ]
        }
      ]
    },
    {
      "cell_type": "markdown",
      "metadata": {
        "id": "smVT_Vt1qA-W"
      },
      "source": [
        "We need to preprocess the dataset to be able to properly extract features from it.\n",
        "In order to do so, we’ll create a function that makes use of spacy’s preprocessing pipeline. \n",
        "\n",
        "You need to import the Spacy model for French. Two options (second not tested): \n",
        "\n",
        "```\n",
        "!python -m spacy download en_core_web_lg\n",
        "# or\n",
        "import spacy.cli\n",
        "spacy.cli.download(\"fr_core_news_sm\")\n",
        "```"
      ]
    },
    {
      "cell_type": "code",
      "metadata": {
        "colab": {
          "base_uri": "https://localhost:8080/"
        },
        "id": "fJJpf5la8cFd",
        "outputId": "e3b5c946-b7b5-4b3f-ec4d-c8c14277431d"
      },
      "source": [
        "import spacy.cli\n",
        "spacy.cli.download(\"fr_core_news_sm\")"
      ],
      "execution_count": null,
      "outputs": [
        {
          "output_type": "stream",
          "name": "stdout",
          "text": [
            "\u001b[38;5;2m✔ Download and installation successful\u001b[0m\n",
            "You can now load the model via spacy.load('fr_core_news_sm')\n"
          ]
        }
      ]
    },
    {
      "cell_type": "code",
      "metadata": {
        "id": "vANVT9eOqBMz",
        "colab": {
          "base_uri": "https://localhost:8080/"
        },
        "outputId": "ebf95989-3087-4b6c-932f-8d47031f584f"
      },
      "source": [
        "# Preprocessing = tokenize data\n",
        "import spacy\n",
        "nlp = spacy.load('fr_core_news_sm', disable=['tagger', 'parser', 'ner'])\n",
        "\n",
        "\n",
        "def preprocess_data( dataset ):\n",
        "  num_reviews = dataset['review'].size\n",
        "  print(\"#Reviews =\", num_reviews)\n",
        "  dataset_tok = []\n",
        "  for i in range(num_reviews):\n",
        "      clean_review = review_to_tokens(dataset['review'][i])\n",
        "      dataset_tok.append(clean_review)\n",
        "  for i, r in enumerate(dataset_tok[:2]):\n",
        "      print('\\n', i, r) \n",
        "  return dataset_tok\n",
        "\n",
        "def review_to_tokens(raw_review):\n",
        "    doc = nlp(raw_review)\n",
        "    tokenList = [token.text for token in doc]\n",
        "    tokenized_string = ' '.join(tokenList)\n",
        "    tokenized_string_lowercase = tokenized_string.lower()\n",
        "    return tokenized_string_lowercase\n",
        "\n",
        "print(\"-- Preprocess TRAIN:\")\n",
        "train_tok = preprocess_data( train )\n",
        "\n",
        "print(\"\\n-- Preprocess DEV:\")\n",
        "dev_tok = preprocess_data( dev )\n",
        "\n",
        "print(\"\\n-- Preprocess TEST:\")\n",
        "test_tok = preprocess_data( test )"
      ],
      "execution_count": null,
      "outputs": [
        {
          "output_type": "stream",
          "name": "stdout",
          "text": [
            "-- Preprocess TRAIN:\n",
            "#Reviews = 5027\n",
            "\n",
            " 0 stephen king doit bien ricaner en constatant cette navrante histoire de disparus , les scénaristes semblent s' être inspirés de ses oeuvres mais ont bien moins son talent que celui du business . quel perte de temps que de regarder ces personnages perdus au centre d' une histoire sans fin et sans intérêt , où 2 ou 3 épisodes suffisent pour décrocher , à l' inverse d' une série comme desperate housewives dont les dialogues , les scénarii et les personnages contribuent sans cesse à relancer l' intérêt et le plaisir au fil des épisodes . pourtant mes goûts initiaux m' auraient porté davantage du côté de la série fantastique . il ne faut préjuger de rien ! a bon entendeur ...\n",
            "\n",
            " 1 excellentissime ! une série à l' apparence toute calme et lisse , qui se révèle être un véritable noeud de problèmes , de secrets , de mensonges ... les actrices sont vraiment toutes très bonnes dans leurs rôles , avec une petite préférence pour bree , qui pète complètement un câble à la fin de la saison 2 !\n",
            "\n",
            "-- Preprocess DEV:\n",
            "#Reviews = 549\n",
            "\n",
            " 0 avant cette série , je ne connaissais que urgence et grey' s anatomy comme série médicale . si la première ne m' intéressait pas , j' étais accro à la seconde . mais quel choc en découvrant house ! la série traite un cas médical très intéressant par épisode , mais elle est surtout fantastique pour son personnage de house : on croit avoir serner le personnage , mais non , il réussit toujours à nous surprendre et il lance répliques cultes sur répliques cultes . je suis accroc à cette série , l' une des meilleurs du moment . vivement la saison 4 !\n",
            "\n",
            " 1 encore une série qui semble vouloir promouvoir le vide cérébral de ses spectateurs . sorte de santa barbara version ado , la série est creuse , dénuée d' un quelconque intérêt . elle semble condamnée à enchaîner les clichés et stéréotypes , les acteurs avec des tronches de premiers de la classe . le scénario est inexistant , la réalisation conformiste , rien qui puisse repousser le spectateur en manque de lessive pour laver son cerveau . la série vantant le mode de vie américain et assénant de la morale caricaturale aux spectateurs pour parfaire leur éducation de petits pauvres : le gentil pauvre très intelligent et vachement rebelle , les fils de riches prétentieux , les filles de riches du genre peste insupportable et égocentriques . et tout le monde il est beau et il est gentil , est tout est bien dans ce monde , le système marche et il n' y a pas besoin que l' état fédéral s' en mêle et tente de réparer les injustices , car au fond , seuls les plus forts ( et surtout les plus riches ) s' en sortent et c' est mieux pour tout le monde .\n",
            "\n",
            "-- Preprocess TEST:\n",
            "#Reviews = 544\n",
            "\n",
            " 0 une grosse daube . la premiere saison etait pas mal , bon y' avait pas mal d' incohérences , mais bon les téléspectateurs sont pas trop regardant donc ça passe ... mais alors la 2e saison ! ! l' intérêt de l' intrigue de départ s' est envolée forcément , mais on se dit qu' ils vont peut etre trouver une idée qui donne un quelconque intéret à l' histoire . meme si on emploie des procédés extremes , comme tuer des personnages centraux de la saison 1 pour ne pas s' en encombrer par la suite ... comme rien ne choque personne on est plus à ça pres ! tout le long de la saison 2 on se demande où ça va aller , on se dit \" mais qu' est ce que c' est que ce truc ? ? \" , des épisodes font carrément marrer , tellement les scénaristes ont cherché des situations tarabiscotées pour aller là où ils avaient envie d' aller ... le pompon pour le dernier épisode parce que c' est enorme ! ! ! a la fin de l' épisode , une phrase m' est sortie spontanément , c' est \" quel gros caca vraiment \" . donc voilà la saison 3 ce sera sans moi , je me demande comment j' ai tenu toute la saison 2 dis donc ... quand je vois que des séries avec un vrai scénario comme day break s' arretent faute d' audimat , et que des bouses pareilles survivent parce que plein de gens regardent , je trouve ça triste ... enfin bon je m' en fais pas trop , prison break finira surement comme alias , une fin en grand n' importe quoi à la moitié de la derniere saison , pour stopper le ridicule ...\n",
            "\n",
            " 1 je me force à regarder cette série soi disant extraordinaire tous les samedis espérant qu' elle va décoller , mais je la trouve complétement tarte , gnangnan et souffrant de saucissonnage . pas de suspens , rythme abscon . seul le générique a un intéret .\n"
          ]
        }
      ]
    },
    {
      "cell_type": "markdown",
      "metadata": {
        "id": "90iwyLkc9hw8"
      },
      "source": [
        "### Exercise 2: Feature extraction \n",
        "\n",
        "Now it’s time to decide which features to use in our classifier. We’ll start with simple bag of words features.\n",
        "\n",
        "▶▶ **TODO: write the code to vectorize the dev set.**"
      ]
    },
    {
      "cell_type": "code",
      "metadata": {
        "colab": {
          "base_uri": "https://localhost:8080/"
        },
        "id": "ZGnHRsH_9jtk",
        "outputId": "12de8a65-44e3-495c-a4ef-eeb9b79be6f8"
      },
      "source": [
        "# Vectorizing data: BOW representation\n",
        "from sklearn.feature_extraction.text import CountVectorizer\n",
        "\n",
        "vectorizer_bow = CountVectorizer( analyzer = 'word', max_features = 500 )\n",
        "\n",
        "print(\"Vectorize TRAIN:\")\n",
        "train_feats_bow = vectorizer_bow.fit_transform( train_tok )\n",
        "print(train_feats_bow.shape)\n",
        "\n",
        "vocab = vectorizer_bow.get_feature_names()\n",
        "print(\"Vocabulary:\", vocab[:20])\n",
        "\n",
        "# --------------------------------------------------------\n",
        "# TODO: Write the code to vectorize the DEV set\n",
        "# --------------------------------------------------------\n",
        "print(\"\\nVectorize DEV:\")\n",
        "dev_feats_bow = vectorizer_bow.transform( dev_tok )\n",
        "print(dev_feats_bow.shape)\n",
        "\n",
        "# Vocabulary should remain the same!\n",
        "print(\"Vocabulary:\", vocab[:20])"
      ],
      "execution_count": null,
      "outputs": [
        {
          "output_type": "stream",
          "name": "stdout",
          "text": [
            "Vectorize TRAIN:\n",
            "(5027, 500)\n",
            "Vocabulary: ['10', '24', 'absolument', 'accroché', 'acteur', 'acteurs', 'action', 'actrice', 'actrices', 'adore', 'ados', 'ah', 'ai', 'ailleurs', 'aime', 'ainsi', 'ait', 'alias', 'alors', 'ambiance']\n",
            "\n",
            "Vectorize DEV:\n",
            "(549, 500)\n",
            "Vocabulary: ['10', '24', 'absolument', 'accroché', 'acteur', 'acteurs', 'action', 'actrice', 'actrices', 'adore', 'ados', 'ah', 'ai', 'ailleurs', 'aime', 'ainsi', 'ait', 'alias', 'alors', 'ambiance']\n"
          ]
        }
      ]
    },
    {
      "cell_type": "markdown",
      "metadata": {
        "id": "u3VCUNqZ9ohj"
      },
      "source": [
        "### Exercise 3: Classification (Code given)\n",
        "\n",
        "We’ll start with the simplest classifier, yet often performing well: Naive Bayes.\n",
        "Train the classifier et report its performance on the dev set.\n",
        "\n"
      ]
    },
    {
      "cell_type": "code",
      "metadata": {
        "id": "CssLBO2SBPMN",
        "colab": {
          "base_uri": "https://localhost:8080/"
        },
        "outputId": "5c8c3ce2-1e2a-4bd4-beaf-0926c8340276"
      },
      "source": [
        "## Classification with NAIVE BAYES\n",
        "\n",
        "# Train the classifier\n",
        "from sklearn.naive_bayes import MultinomialNB, BernoulliNB\n",
        "classifier = MultinomialNB()\n",
        "classifier.fit(train_feats_bow, train['sentiment'])"
      ],
      "execution_count": null,
      "outputs": [
        {
          "output_type": "execute_result",
          "data": {
            "text/plain": [
              "MultinomialNB(alpha=1.0, class_prior=None, fit_prior=True)"
            ]
          },
          "metadata": {},
          "execution_count": 7
        }
      ]
    },
    {
      "cell_type": "code",
      "metadata": {
        "colab": {
          "base_uri": "https://localhost:8080/"
        },
        "id": "IKuY2GrsKv3R",
        "outputId": "b47c1729-0271-4edd-f2c2-70b8db4d3a19"
      },
      "source": [
        "# Compute the performance on the dev set\n",
        "score = classifier.score( dev_feats_bow, dev['sentiment'] )\n",
        "print(score)"
      ],
      "execution_count": null,
      "outputs": [
        {
          "output_type": "stream",
          "name": "stdout",
          "text": [
            "0.8178506375227687\n"
          ]
        }
      ]
    },
    {
      "cell_type": "markdown",
      "metadata": {
        "id": "0KdSuShTBQ00"
      },
      "source": [
        "#### Exercise 3-b (code given)\n",
        "* What does the score represent ?\n",
        "* Look at the instances that were classified badly. Do you see why the review was misclassified ? "
      ]
    },
    {
      "cell_type": "markdown",
      "metadata": {
        "id": "6OIafBdU9080"
      },
      "source": [
        "## TO REMOVE\n",
        "\n",
        "* What does the score represent ?\n",
        "https://scikit-learn.org/stable/modules/generated/sklearn.naive_bayes.MultinomialNB.html#sklearn.naive_bayes.MultinomialNB.score\n",
        "\n",
        "```score(X, y, sample_weight=None)```\n",
        "Return the mean accuracy on the given test data and labels."
      ]
    },
    {
      "cell_type": "code",
      "metadata": {
        "colab": {
          "base_uri": "https://localhost:8080/"
        },
        "id": "0fek-bze96bp",
        "outputId": "39e5e565-39d9-42c3-b594-1a907cacd0e4"
      },
      "source": [
        "## Look at misclassified instances\n",
        "pred = classifier.predict( dev_feats_bow )\n",
        "print(pred) # = matrix, illisible\n",
        "#print(test['sentiment']) #gold - y_test\n",
        "print()\n",
        "\n",
        "print('Misclassified examples: ')\n",
        "count_err = 0\n",
        "for i in range(len(pred)):\n",
        "    if pred[i] != dev['sentiment'][i]:\n",
        "        print( \"\\nGOLD=\", dev['sentiment'][i], \"PRED=\",pred[i] , i, dev['review'][i])\n",
        "        count_err += 1\n",
        "        \n",
        "print( \"CHECK: \", \"#Total=\", len(pred), \"#Errors=\", count_err, \"Acc=\", (len(pred)-count_err)/len(pred))"
      ],
      "execution_count": null,
      "outputs": [
        {
          "output_type": "stream",
          "name": "stdout",
          "text": [
            "[1 0 1 1 1 0 0 0 1 0 1 1 1 0 0 0 1 1 0 0 1 0 1 1 0 1 0 1 1 0 1 0 1 0 1 0 1\n",
            " 0 0 1 1 1 1 0 1 1 1 1 0 0 0 1 0 1 0 1 0 0 0 0 1 0 1 1 0 0 1 1 1 1 1 1 0 0\n",
            " 1 1 0 1 0 0 1 0 0 0 1 0 1 0 1 1 1 1 1 1 1 0 1 1 0 0 1 1 0 0 1 1 1 0 1 1 0\n",
            " 1 0 1 1 0 1 0 0 1 0 1 1 0 0 1 0 1 0 1 0 0 0 0 0 0 1 0 0 0 1 0 1 0 1 0 1 1\n",
            " 1 1 0 1 1 0 1 1 1 0 1 1 1 0 1 0 1 0 0 1 0 1 1 0 0 0 0 0 0 1 0 0 0 1 0 0 1\n",
            " 1 1 1 0 1 0 0 0 0 1 0 0 1 1 1 0 0 1 1 0 1 1 1 1 0 0 1 1 0 1 1 1 1 1 1 1 0\n",
            " 0 0 1 0 0 1 1 0 1 1 1 1 0 1 1 1 1 0 0 0 0 0 0 1 1 0 1 1 1 1 1 1 1 1 1 0 0\n",
            " 1 1 1 1 0 0 0 1 1 1 0 1 1 1 1 0 0 1 1 1 0 0 1 0 1 0 0 0 0 0 1 1 0 1 1 1 1\n",
            " 1 1 1 0 1 0 1 1 1 0 1 1 1 0 0 0 0 0 1 0 1 1 0 1 1 1 0 1 1 0 0 1 1 1 1 1 0\n",
            " 1 1 1 0 1 1 0 0 0 1 0 1 0 0 0 0 1 0 1 1 1 1 1 1 0 1 0 0 0 0 0 0 0 1 1 1 1\n",
            " 0 1 1 1 1 0 0 1 0 1 1 1 0 1 1 1 0 1 0 0 1 1 0 1 1 1 1 0 0 1 1 0 0 0 1 1 1\n",
            " 1 1 0 0 1 1 1 1 0 1 0 0 1 1 0 1 0 0 0 1 1 1 0 1 1 0 0 0 1 1 1 1 1 0 0 1 0\n",
            " 0 1 0 0 1 1 1 1 1 1 0 1 0 0 1 1 0 0 0 0 1 0 0 0 1 0 1 1 0 0 0 0 1 0 0 1 1\n",
            " 1 1 1 0 1 0 1 1 1 1 1 1 0 0 0 1 1 0 1 1 0 1 1 1 0 0 1 1 0 1 1 0 1 1 1 1 1\n",
            " 1 0 1 1 1 1 0 0 1 1 0 1 1 1 0 1 1 0 1 1 1 0 0 1 1 1 1 1 1 1 1]\n",
            "\n",
            "Misclassified examples: \n",
            "\n",
            "GOLD= 0 PRED= 1 3 Newport beach est une série à découvrir d'urgence, cette série raconte les déboires de 4 amis et de leur entourage. Dommage que les diffusions soient rares et que la france n'en soit qu'à la première saison. Les personnages sont attachants, chacun avec sa personnalité bien à lui. La saison 2 est vraiment géniale est j'ai hâte de pouvoir voir la 3ème car la fin de la saison 2 nous laisse sans voix. Si vous aimez Les frères Scott vous aimerez Newport Beach.\n",
            "\n",
            "GOLD= 1 PRED= 0 6 Vu la qualité des séries françaises, il semblait apparement impossible de faire quelque chose de différent et de beau en France....et puis, Greco est arrivé ! Il y a peut-être des défauts, oui, mais quand on pense à Navarro, Joséphine ange gardien, ou louis la brocante, Greco en devient un chef d'oeuvre , non ??!!! On sent que les scénarios sont écrits, on ne prend pas les spectateurs pour des \"cons\", la mise en scène est travaillée , là aussi ça nous change ! Même si les américains font encore mieux, n'oublions pas qu'ils ont les moyens, et des chaînes ( HBO ) qui ont elles des couilles ( Sex & the city , Profit, Six feet under , et dernièrement Dexter , Heroes ) Alors, Greco ressemble à Haunted ....et alors, pour une fois on a une série qui tient la route...J'espère seulement qu'elle fera des petits !!!\n",
            "\n",
            "GOLD= 1 PRED= 0 7 Profit, ou le destin d'un homme Jim Profit prêt à tout pour arriver jusqu'au sommet de la société Gracen & Gracen , symbole du Capitalisme triomphant du milieu des années 90'. Une Satyre à la fois du monde Capitaliste (comme Wall street pouvait l'être en son temps pour la finance) et de l'avidité des Hommes,Jim Profit est \"monstrueusement humain\" et l'on se se délecte de ses manoeuvres pour courcicuité l'un de ses associés, Profit en est le narrateur de cette histoire, il nous met dans la confidence, nous sommes complice de ses actes. La Psychologie du personnage est poussé loin et on est toujours \"admiratif\" des \"efforts\" que cette homme qui plus jeune dormait dans une boite en carton, maltraité par un père alcoolique a pu faire pour en arriver là . Une a voire absolument !\n",
            "\n",
            "GOLD= 1 PRED= 0 9 j'adore cette serie . je ne peux plus m'en passer mais malheuresement je n'ai pas tf6 alors je suis obligé d'aller la regarder chez un ami . j'espere que france 2 va recommencer la diffusion\n",
            "\n",
            "GOLD= 1 PRED= 0 14 Damages est, à mon avis, LA série évènement de 2008 (en attendant The Tudors peut-être!). Des personnages plus pourris les uns que les autres, une intrigue qui promet d'être complexe et Glenn Close au top. Le premier épisode a suffit à me rendre accro et les suivants ne m'ont pas déçu. En bref une série qui fait mal!!!\n",
            "\n",
            "GOLD= 1 PRED= 0 19 Ayant lu et relu les livres de Cecily von Ziegesar, quelle surprise de voir qu'ils ont été adaptés à la télé. Certes l'histoire et le caractère des personnages ne sont pas les mêmes, mais cela n'est pas vraiment gênant. On y découvre des jeunes acteurs encore inconnus en France, qui jouent très bien leurs rôle et surtout que le fait d'être riche et beau n'exclu pas le fait d'avoir des problèmes et d'être heureux.\n",
            "\n",
            "GOLD= 1 PRED= 0 24 Voici une série que je viens à peine de découvrir que j'ai commencé à apprécier. Le tout premier épisode m'a marqué, et j'ai flashé dessus. J'ai l'impression de regarder les experts alors que ce début de série est pratiquement similaire. David Boréanaz et Emily Deschanel forment un couple d'enfer avec leurs rôles respectifs.\n",
            "\n",
            "GOLD= 0 PRED= 1 28 J'abandonne cette serie a l'episode 6. Je l'ai trouvé tres decevante. Je m'attendais a un newport beach dans new york, et je me retrouve avec une histoire plate entre une poignée d'adolescents sans convictions. Loin, tres loin de mes esperances.\n",
            "\n",
            "GOLD= 1 PRED= 0 35 Pour moi cette série est la série policière du moment. Pour moi cette série détrône avec habileté Les Experts et compagnie. Dans le rôle du héros, le très talentueux David Boreanaz, nous offre après le rôle d'Angel, celui de L'Agent Booth. Un rôle qu'il maîtrise encore à la perfection. Pour moi personne ne pourrais prendre la relève d'un acteur comme lui. Pour le rôle du Docteur Temperance, je n'ai pas d'autre mot que la plus Frenchie des Amerloques. Cette femme donne une image de son personnage qui colle à la perfection du terme : Fouine. Les scénario parfois interessant avec l'enquête qui ne laisse aucune preuve d'avance. Dans cette série personne ne peut deviner qui est le tueur avant la fin de l'épisode. Mais il y a parfois l'épisode de trop. Celui-ci n'arrive qu'une fois par saison, mais c'est l'épisode ou rien ne se passe et ou seul le jeu des acteurs rend l'épisode intérressant. En tout cas cette série marqueras à jamais l'acteur David Boreanaz et son talent. Il montre qu'il ne sait pas faire que le rôle du célèbre vampire : Angel.\n",
            "\n",
            "GOLD= 1 PRED= 0 48 les experts pour moi c'est comme de la drogue, je peux pas m'endormir le soire sans voire une autopsy :)\n",
            "\n",
            "GOLD= 1 PRED= 0 49 Alors que dire de cette série qui n'ait pas encore été dit !!!!! Je crois moi aussi que c'est l'une des meilleures séries du moment !!!! Tout est excellent, acteurs, scénarii et humour sont omniprésents, il n'y a rien de moins bien et cette série ne se regarde pas, elle se savoure ! Hugh Laurie est quand même le facteur principal de ce show, il donne une dimension exceptionnelle à son personnage fétiche :D Une amie m'en avait parlé et m'avait dit dès que TF1 se décide à la diffuser, ne loupe pas ça !!! Alors, j'ai regardé en me disant que je verrais bien et dès le premier épisode,je suis tombé sous le charme de ce médecin totalement irracible,irrévérencieux et qu'on a envie de baffer tellement il est énervant mais il est aussi terriblement craquant :D Voilà, j'ai hâte de le découvrir en DVD afin de savourer la VO et de voir les épisodes que TF1 n' pas jugé bon de diffuser !!!!!\n",
            "\n",
            "GOLD= 0 PRED= 1 51 Absolument décevant... Les Effets Spéciaux avec les morts sont vraiment horribles, Le personnage, le concept, etc... Rappellent étrangement la série \"Haunted\"... Bref, à quand une série Française Réussie?\n",
            "\n",
            "GOLD= 1 PRED= 0 52  Vous me direz encore une série médicale, pas la peine de regarder ce ne sera qu'une pâle copie de urgence ou grey's anatomy. Mais vous auriez tord de passer à côté! En effet sur bien des plans Dr House dépasse largemment Grey's Anatomy. Le côté dramatique de cette série dépasse en qualité les petites tribulations amoureuses des internes du Seattle Grace. Impossible de détester Dr House malgré son caractère antipathique et sa philosophie clairement pessimiste \"Tout le monde ment\". Alors n'hésitez pas à regarder vous resterez scotché devant votre écran comme moi!!\n",
            "\n",
            "GOLD= 0 PRED= 1 53 Trucages \"cheap\", jeu d'acteur très mauvais surtout pour le Docteur Who. Scénario probablement écrits entre deux rails et un pétard. Je mets une etoile parce que je suis mort de rire à chaque fois que je tombe sur un épisode. Bref une très mauvaise série mais une excellente série nanarde.\n",
            "\n",
            "GOLD= 1 PRED= 0 54 Un seul mot : GENIAL\n",
            "\n",
            "GOLD= 1 PRED= 0 57 Bienvenido à Miami, qui abrite en plus de chirurgiens plastique un expert en forensics nommé Dexter, accessoirement serial killer la nuit... Délicieusement morbide, cette série met en scène un personnage qui ne déparerait pas de l'univers en papier glacé de Brett Easton Ellis, royalement interprété par notre David Fisher (Six feet under, rest in peace) adoré. Cette 1ère saison repose sur des mindgames avec ''the ice truck killer'' sur fond de musique cubaine, de dialogues hispanophones et d'études de caractères réussies pour nous concocter un divertissement intelligent pour adultes qui savent rire de tout. Encore une fois le constat de la nullité comparative de la production télévisuelle française interloque...\n",
            "\n",
            "GOLD= 1 PRED= 0 61 Cette série m'enthousiasme. Pour une fois, le personnage principal est cynique, irrascible, asocial, etc. bref, tous les défauts possibles pour pratiquer la médecine. Et cette série n'a pas de morale, ce qui change chez les ricains. C'est extrèmement drôle et très bien fait (montage, jeu d'acteur, mise en scène, etc.) Bref, la série que je préfère regarder.\n",
            "\n",
            "GOLD= 0 PRED= 1 63 ouais j'ai trouver cette serie dans ma liste de Recommandations c'est bizarre ma copine c'est fait preter une saison et je ne suis vraiment pas le public viser ce systeme de Recommandations et bizarre parfoisenfin bon pour resumer c'est des histoires de riches beaux jeunes gens a ny et ils leurs arrivent des trucs voila passionnant hein\n",
            "\n",
            "GOLD= 1 PRED= 0 64 Cette série est actuellement et de loin la meilleure série policière. Les épisodes sont divers et variés, quasiment aucuns ne se ressemblent. Cependant j'ai deux critiques(négatives) à faire, la première c'est qu'il manquerait peut être des nouveaux personnages, mais ce n'est qu'un avis... La deuxième c'est que le jeu des acteurs secondaires est plus que médiocre, du genre \"-(Grissom)Votre fille a été enlevée puis sauvagement battues à mort. -(le père)Tiens donc? C'est plus qu'embêtant ça... Bon c'est pas tout mais j'ai une femme qui m'attend\" Et c'est comme ça même si ce ne sont pas les parents les assassins ! A part ça cette série déchire tout !!! Immanquable!\n",
            "\n",
            "GOLD= 1 PRED= 0 65 elfine3 - le 13/05/2007\n",
            "\n",
            "GOLD= 0 PRED= 1 86 J'avais adoré la première saison. Par contre, la 2è...pas géniale. J'espère quand même que la 3è (que je n'ai pas encore vue) relèvera le niveau.\n",
            "\n",
            "GOLD= 0 PRED= 1 90 Le principal atout de Commissaire Moulin sont les enquêtes souvent plus noires et plus musclées(bien que pas toujours originales). Néanmoins, ca vire souvent au culte de la personnalité: en l'occurence Yves Rénier qui se la pète beaucoup trop avec sa moto, son flingue et son langage violent. Ca vire aussi à la mièvrerie habituelle avec le personnage complétement inutile de Natacha Amal. Enfin comme toutes les séries de faible niveau, cette série s'essoufle vite par manque de création entre les épisodes.\n",
            "\n",
            "GOLD= 0 PRED= 1 91 Enquêtes super cheap, humour pour neuneus, des acteurs aux regards de bovins... Si elle a l'air d'une anthropologue et lui d'un agent du FBI, moi suis crédible en physicien ventriloque...\n",
            "\n",
            "GOLD= 1 PRED= 0 95 Bon, je comprends qu'on puisse ne pas aimer cette série pour beaucoup de choses: trop gore, trop de sexe, trop bizarre, trop dur à suivre mais que l'on dise pas très original... Là faut qu'on m'explique! Parce que même en suivant tous les vendredi on s'y perd! Alors merci aux scénaristes de me tenir en haleine à chaque épisode même si on sent parfois qu'ils veulent en faire trop dans le trash.\n",
            "\n",
            "GOLD= 0 PRED= 1 96 Franchement je suis très déçue de cette série!Je m'ennuie totalement devant! On est très loin de ce que Josh Schwartz nous avait proposé avec New port Beach!\n",
            "\n",
            "GOLD= 0 PRED= 1 100 Nip tuck je trouve pas sa intérréssant, loin de la, c'est pas trés original et puis je ne trouve pas l'intérét de cette série tout simplement. Bon j'en ais vus qu'un, donc j'éssayré d'en regardé un autre pour voir, et on verra bien si mon opinion changeras.\n",
            "\n",
            "GOLD= 0 PRED= 1 104 aie aie , enfermé dans mon mobil home j'ai subis une térrible torture ... coeur océan !!!!\n",
            "\n",
            "GOLD= 1 PRED= 0 118 Vraiment une série originale qui défie toutes les lois de la morale!! on se prend à aimer un \"gentil\" sérial killer qui passe le plus clair de son temps à faire son introspection.... quand il ne découpe pas les méchants (encore qu'il le fait également pendant!!). L'accroche est rapide et redoutable. Certains pourraient penser que c'est \"ammoral\", etc... mais il faut prendre cette série au 2ème DEGRE!!!! En conclusion : des acteurs qui jouent bien, un thème peu ordinaire et de l'humour noir à revendre. Bref à ne rater sous aucun prétexte.\n",
            "\n",
            "GOLD= 0 PRED= 1 119 Des series ds le secteur hospitalier qui se ressemblent toutes et qui ennuient..\n",
            "\n",
            "GOLD= 0 PRED= 1 122 Désolé je n'arrive pas a accrocher a cette serie (personnages peu credibles), enquetes ininteressantes, coup de masses technologiques...\n",
            "\n",
            "GOLD= 1 PRED= 0 123 Une série à découvrir rapidement si vous ne la connaissez pas encore...\n",
            "\n",
            "GOLD= 0 PRED= 1 127 Série qui se veut peut-être provocante mais qui n'est que vulgaire, scabreuse, tordue et sale !!!Tout est prétexte à coucheries et goujateries. Les personnages sont aussi immondes les uns que les autres. Lamentable !Zéro pointé !!!\n",
            "\n",
            "GOLD= 1 PRED= 0 138 Le plus grand \"méchant\" de l'histoire de la télévision : aucune moralité, sans scrupules. Je t'aime Jim Profit !\n",
            "\n",
            "GOLD= 1 PRED= 0 139 Cette série est vraiment une bonne surprise! Au début je pensais qu'il s'agissait d'une de ces séries qui poussent aujourd'hui comme des champignons sur nos écrans et qui n'apportent rien de nouveau au petit monde de la TV. Quoiqu'il en soit, il n'en est rien et cette série est un véritable vent de fraîcheur. Elle est marrante, variée, touchante et elle permet de voir les avocats d'habitude si pédants sous un nouvel angle. Ah! si seulement tous les avocats pouvaient être comme ceux de ce cabinet! Cette série m'a agréablement surpris et aujourd'hui j'en redemande même si ça ne vaut pas un bon Nip/tuck mais on ne peut pas comparer l'incomparable!\n",
            "\n",
            "GOLD= 1 PRED= 0 153 Qui peut mettre 0 étoile à une série comme ça? Pas moi, je l'ai découverte depuis 2 mois maintenant et j'adore de plus en plus, même si je ne fais que regarder les deux premières saisons, ça ne me lasse pas... J'ai même pleuré au départ d'Anna alors que ça fait 4 fois que je vois l'épisode, et ça pas beaucoup de séries sont capables de le faire, garder leurs émotions même après que l'on ait vu maintes et maintes fois l'épisode.\n",
            "\n",
            "GOLD= 0 PRED= 1 156 Sans vouloir faire de promotion, M6 a fait un choix intéressant on nous proposant cette série; comme d'autres (Supernatural et Tru Calling entre autre dommage pour la 1ére qu'elle est fait le choix peu judicieux de ne pas diffuser la 2nde saison) enfin je m'égare ! Cette série part d'un postulat de départ original et à fort potentiel. Le pilote plutôt décevant pour ma part est comblé par la suite et surtout par le dernier épisode. Toutefois cette série souffre de divers handicaps: - On ne va pas au bout de l'intrigue, ni n'exploite assez son coté proche de Sliders mine de rien, et qui aurait put apporter une souplesse et des intrigues intéressantes -A part Juliette Margulies les autres acteurs du casting sont peu crédibles -Enfin même si les scènes et la conclusion reste convenu, cette série aurait mérité que l'on approfondisse plus son sujet ainsi que la personnalités des différents rôles. Ainsi cette série reste un divertissement original qui sort du lot mais qui demeure bien en deçà de ses possibilités réelles et aurait méritée d'être plus creusée.\n",
            "\n",
            "GOLD= 0 PRED= 1 160 Super, cela nous change un peu, des héros avec la science infuse, un couple vedette qui nous la joue je t'aime moi non plus et tout un tas de raccourcis plus ou moins subtils pour nous faire tenir debout un semblant de scénario ( comme le fameux hologramme ). Enfin j'adore l'heroine qui n'est autre qu'un croisement entre Bruce Lee ( paix a son âme), Einstein (paix a l'âme d'Henri Poincaré) et mon Schnauzer Nain qui a un caractère épouvantable.\n",
            "\n",
            "GOLD= 1 PRED= 0 161 DEXTER impossible a éxpliquer en quelques lignes.....un personnage vascinant!!! Vous êtes Dexter,seul vous connaissaiez vraiment qui il est.... Des dialogues magnifiquements écrits parafaitements joués. Pas besoin de vous en dire plus,vous avez qu'a regarder !!!!\n",
            "\n",
            "GOLD= 1 PRED= 0 165 The OC, alias Newport Beach, se pose comme le Beverly Hills des années 2000. C'est le carton du PAF américain depuis deux ans et la saison 3 s'apprête déjà à débarquer sur la Fox. Mais The OC se démarque sur de nombreux points des séries pour ados habituelles trop aseptisées, et ce de manière très intelligente. Tout d'abord il faut noter la réalisation très classieuse de cette série, qui n'hésite pas à enchaîner scènes intimes, dialogues caustiques et percutants, et plans panomaras superbes et mis en musique de la côte californienne. Le casting constitue la seconde réussite majeure de cette série, avec de jeunes espoirs pétris de talent, excellant chacun dans leurs registres respectifs: Adam Brody en nerd sarcastique, Benjamin McKenzie en ex-tolard solitaire et introverti, la sublime Mischa Barton en jeune fille fragile et sensible, Rachel Bilson en bimbo pétillante et susceptible, et Chris Carmack dans le rôle du branleur plutôt beau gosse. D'autres acteurs confirmés soutiennent également ce casting, tels Tate Donovan, Peter Gallagher et surtout la délicieuse Kelly Rowan que j'aurais mieux vue dans le rôle de la mère de Marissa en lieu et place de cette peste de Melinda Clarke qui semble tout droit sortie d'un épisode des Feux de l'Amour. The OC n'évite malheureusement pas bon nombre de clichés inhérents au genre mais parvient toujours à reprendre son souffle et à ne pas sombrer dans le mélo grâce à la fluidite de la réalisation et la percussion des dialogues. Captivant.\n",
            "\n",
            "GOLD= 1 PRED= 0 168 C'est pour moi l'une des meilleurs surprise de 2007. Un thème plutôt originale et surtout d'excellents acteurs aidé par une réalisation à la hauteur... Avec son scénario prenant, on ne s'ennuie pas une seule seconde et on devient accroc immédiatement... Pas étonnant que cette série fasse autant de bruit sur la toile! Du grand Showtime!\n",
            "\n",
            "GOLD= 1 PRED= 0 174 Cette série est vraiment trop forte. On est vraiment fasciné par le personnage principal. Après toutes ces séries policières , on a enfin l'occasion de voir ce qui peut se passer de l'autre côté de la barrière. Les monologues fréquents de Dexter nous permettent de cerner totalement ce qui peut se passer dans la tête d'un tueur en série avant, pendant et après sa traque. On en arrive même à avoir de la compassion...\n",
            "\n",
            "GOLD= 0 PRED= 1 185 Je viens de lire dans une critique \"une série qui fait réfléchir sur la société\".... Oui, c'est sûr avec un gros plan sur des fesses toutes les 5 minutes, je réfléchis beaucoup, presque autant que devant Alerte à Malibu. Ce n'est qu'une vulgaire alternance de plans érotiques (sous prétexte de la chirurgie) et de plans trash et sanguinolants. Enfin, si la vie de chirurgien c'est se taper une bombasse à chaque consultation je signe tout de suite...\n",
            "\n",
            "GOLD= 0 PRED= 1 197 Mais si quelques objets font parfois sourire le reste est sans interêt... Un bien piètre successeur de Kaamelott( heureusement de retour à la rentrée!)\n",
            "\n",
            "GOLD= 0 PRED= 1 202 Des series ds le secteur hospitalier qui se ressemblent toutes et qui ennuient..\n",
            "\n",
            "GOLD= 0 PRED= 1 206 Une série bien lamentable à oublier très vite !!\n",
            "\n",
            "GOLD= 0 PRED= 1 219 vu le 1 er épisode,encore une super serie qui nous démontre que dans une certaine contrée , on aime pas le sexe, on s'en méfie, mais par contre, on est séduit par les serials killers, on voue un culte aux armes a feux, pour moi... ça va un peu! trés malsain\n",
            "\n",
            "GOLD= 0 PRED= 1 220 Je trouve que cette série est du plagiat pur et simple de la série Un dos tres... Et puis elle n'est vraiment pas terrible, je n'ai vraiment pas accroché... Je ne la conseille à personne !\n",
            "\n",
            "GOLD= 0 PRED= 1 227 Les experts est une série mettant en scéne des acteurs et actrices canons,tres intelligents, sur un scénario basique et plat qui se répete au fil des épisodes.En somme le schéma classique des séries policières americaine du moment, ennuyeux a mourir et connaissant un succé disproportionné.\n",
            "\n",
            "GOLD= 0 PRED= 1 236 Encore une série linéaire : une personne ayant une maladie inconnue est internée. Dr. House cherche la solution, en choisit une (souvent au hasard ou selon l'intuition), il se plante, rectifie le tiret trouve la bonne solution grace à un infime détail que Dr.house avait occulté jusque là. Le malade est sauvé. Fin de l'épisode. Alors oui son personnage est détestable et certaines répliques sont géniales. Mais c'est trop répétitif : regardez un épisodes, vous les aurez tous vus !\n",
            "\n",
            "GOLD= 1 PRED= 0 243 Voici une série que je viens à peine de découvrir que j'ai commencé à apprécier. Le tout premier épisode m'a marqué, et j'ai flashé dessus. J'ai l'impression de regarder les experts alors que ce début de série est pratiquement similaire. David Boréanaz et Emily Deschanel forment un couple d'enfer avec leurs rôles respectifs.\n",
            "\n",
            "GOLD= 0 PRED= 1 245 C'est rare de voir une série aussi pourrie. Cette série française est une daube. Les acteurs sont minables, le scénario pas du tout intéressant. Cette série fait honte à la filmographie française!\n",
            "\n",
            "GOLD= 0 PRED= 1 251 Un 'Un, dos, tres' italien, sauf que cette fois-ci, les acteurs sont fades, les musiques nulles, l'ambiance terne et désagréable!\n",
            "\n",
            "GOLD= 0 PRED= 1 259 Cette série ou les héros ont tous l'air de sortir d'\" HEC \" est lisse, totalement insipide sinon simplement débile !\n",
            "\n",
            "GOLD= 0 PRED= 1 276 Série policière américaine aux acteurs navrants et à la propagande idéologique au ras des paquerettes. Je supportai difficilement les 2 épisodes à la suite...\n",
            "\n",
            "GOLD= 1 PRED= 0 280 Les experts, c'est excellent, mais j'ai trouvé extrêmement nul l'adaptation française de cette série. Manhattan et miami ne valent pas las vegas. Grisom est le mieux de tous je trouve. Vive les experts.\n",
            "\n",
            "GOLD= 1 PRED= 0 299 Bon je ne suis peut être pas très objectif car même si cette série était débile je donnerais une bonne note rien que pour la présence de Courteney Cox que j'adore depuis déjà plusieurs années. Cela dit le pilot était vraiment très intéressant et la trame dramatique est bien prenante. Même si je me demande comment les scénaristes vont réussir à nous tenir pendant 13 épisodes, j'ai hâte de voir comment la série va évoluer. En plus Courteney en garce, c'est un régal.\n",
            "\n",
            "GOLD= 1 PRED= 0 301 Tombée par hasard sur cette série la semaine dernière (le 22.09.07)j'aurais aimé en savoir plus et regarder d'autres épisodes; Mais j'entend à la pubTV que samedi 29, c'est les derniers épisodes ...domages! :( Pourquoi cela n'a-t-il pas duré plus lontemps? Manque d'audimate? Pourtant, l'histoire des objets \"magique\" est vraiment prenante!! Je ne suis pas une enfant mais je me suis tout de même demandé \"et si c'était possible?!!\"\n",
            "\n",
            "GOLD= 0 PRED= 1 304 C'est une série qui est vraiment surréaliste et ennuyante à mourir. C'est plat, les personnages sont plats.\n",
            "\n",
            "GOLD= 0 PRED= 1 306 Pour moi les experts et peu importe lesqu'elle est une série qui est toujours pareille, regarder des résolutions d'enquête plus invraisemblable les unes que les autres n'est pour moi pas très intéressent.\n",
            "\n",
            "GOLD= 1 PRED= 0 310 Un jeu des acteurs qui s'affine de plus en plus au cours des épisodes, un synopsis intéressant, voilà un bon résumé de cette série à suivre.\n",
            "\n",
            "GOLD= 1 PRED= 0 312 THRILLER DRAMATIQUE DECAPANT !!\n",
            "\n",
            "GOLD= 0 PRED= 1 324 Trop de ressemblance avec 'Un, dos, tres'. L'histoire n'est pas très bien recherchée. Je pensais que ça serait mieux que cela.\n",
            "\n",
            "GOLD= 0 PRED= 1 327 Et voici une série ayant pour base le voyage dans le temps. On revisite ainsi la petite comme la Grande Histoire des États-Unis à travers le personnage du Dr. Beckett et son inséparable compagnon Al. La série s'avère donc ludique et recèle d'un peu d'humour. Néanmoins, Code Quantum a pris un sacré coup de vieux, et touts les situations cocasses ne sont pas toujours très drôles, les acteurs font vraiment pitié par moment. La faute également à l'acteur principal Scott Bakula qui manque réellement de charisme et s'avère incapable de s'imposer, même s'il a le mérite de porter une série \"casse-gueule\" sur ses frêles épaules. Dans le même genre, mais infiniment plus réussit, regarder la cultissime trilogie Retour vers le Futur.\n",
            "\n",
            "GOLD= 0 PRED= 1 331 Rares sont les séries de ce genre qui me plaisent, c'est mon père qui adore cette série.\n",
            "\n",
            "GOLD= 1 PRED= 0 336 Y a pas mieux. J'ai été obligé de me relever pour continuer à regarder des épisodes.\n",
            "\n",
            "GOLD= 1 PRED= 0 343 Cette série est tout simplement déjantée. Aux premiers abords, la série paraît vraiment superficielle, c'est sûr : deux riches chirurgiens plastiques à Miami, avec des allures de mannequins pour eaux de toilette, des seins à la Pamela Anderson toutes les 20 minutes et des filles qu'on pourrait voir en couverture de Vogue... cela nous laisse de glace. Mais en creusant un peu plus, on y découvre une véritable psychologie travaillée, entre autres : un Dr Troy (Julian McMahon) qui excelle dans le rôle du quarantenaire courreur de jupons tout en se trouvant pathétique face à cette triste situation de solitude extrême. D'autre part, le Dr MacNamara, marié, deux enfants, à énormément de mal à passer le cap de la quarantaine, ce qui se finit par un divorce difficile. Mais le coup de théâtre revient à M.Murphy, il a fait d'un sujet banal qui aurait pu finir en soap américain de base avec des histoires à trois sous avec des beautées plastiques à tout bout de champ, une série totalement délurée, basée sur le paradoxe Troy/MacNamara, mélangée avec des scènes d'érotisme, du suspense, et qui s'enfonce de plus en plus dans le glauque et le sordide avec le personnage du \"découpeur\", le tout agrémenté de scènes opératoires qui n'envient rien à urgences, bien au contraire, elles sont tout simplement impressionnantes. Le tout relevé par un humour, quelques fois noir, notamment dû au charme du Dr Troy. Sans oublier que cette série reflette une Amérique déchirée, creusant un peu plus le fossé Nord/Sud.\n",
            "\n",
            "GOLD= 1 PRED= 0 346 j adore totalement je sais pas trop pourquoi mais j'ai vus le premier épisode comme sa sur france2 et j ai étais marquer j'ai recentis le jeu de lacteur je sais pas mais c'est comme sa on aime ou on aime pas\n",
            "\n",
            "GOLD= 1 PRED= 0 347 Je n'arrive pas à concevoir qu'on puisse juger cette série comme \" une simple série de chirurgien esthétique\". Je plains les gens qui pensent cela Nip/Tuck ce n'est pas seulement sexe drogue et chirurgie, c'est aussi une série riche en émotion. Voilà ce que je dirais c'est que certes cette série peut sembler obscène et bête au premier abords, mais il faut passer outre cette aspect. Car derriere on trouve tout les éléments clés d'une série a succés : une musique incroyable ( avec des artistes comme rufus wainwright, the engine Room...) qui colle parfaitement à l'esprit de la série, ainsi qu'une intense émotion vis à vis des personnages confrontés à des situations les unes plus touchantes que les autres. Comment ne pas s'émouvoir devant une série qui en nous montrant une opération de chirurgie esthétique, nous fait ressentir une forte intensité poétique. Ne passez pas à coté, cette série dérangeante est en meme temps la plus touchante de cette année.\n",
            "\n",
            "GOLD= 1 PRED= 0 360 une série très bien faite. et pour une fois je suis d'accord avec les critiques TV (c'est tellement rare que ça mérite d'être souligné). une série qui sans a su être assez originale. 6 épisodes donc il y a moins de chances d'être lassé. cependant, j'ai eu un peu de mal à suivre: qui était méchant, qui ne l'était pas? bref toute cette histoire autour d'une clef que tout le monde veut, soit pour son intérêt, soit pour la détruire. et puis la fin était un peu bizarre. mais bon, cette série se laisser suivre. personnellement j'attendait la suite avec impatience.\n",
            "\n",
            "GOLD= 1 PRED= 0 363 Certainement l'une des seules bonnes séries passant en ce moment puisqu'elle n'a aucun des défauts de tous ces résidus de fosse sceptique dont on nous bombarde à longueur de journée et de soirée : on peut suivre chaque épisode séparément et l'importance accordée aux coucheries des membres de l'équipe est quasi-nulle (triple ouf, ce n'est pas un condensé des Feux de l'amour et de Hercule Poirot). Il s'agit d'une vraie série policière mais tout à fait originale nous faisant découvrir la police scientifique (avec une rigueur dont on peut parfois douter mais trop de rigueur éventerait sans doute l'intérêt des enquêtes). Tout ceci ne justifierait pas une telle note si \"Les experts\" ne possédait pas d'autres qualités rares. Les acteurs sont particulièrement bons et quel plaisir de retrouver William Petersen. L'équipe est plus attachante que celle des experts Miami. C'est aussi une des rares séries à ne pas être montée comme un kaléidoscope tourné à la vitesse d'un TGV, bref à bénéficier d'une réalisation correcte. L'intérêt des intrigues est toujours très grand. Enfin les musiques sont généralement bien choisies. Cette série se déguste comme un verre de vin au milieu de verres de vinaigre... mais sans modération!\n",
            "\n",
            "GOLD= 1 PRED= 0 365 Du sang neuf dans le monde des séries de premier ordre. Plus humain qu'il ne le dit le gentil Dexter doit faire preuve d'un grand sang-froid lorsqu'il s'adonne à ses pulsions de mort mais le fait marquant de ce personnage hors norme est sa simulation constante des émotions humaines. On entre pas dans la tête d'un serial killer mais dans celle d'un homme seul qui tant bien que mal essaye de s'intégrer à un monde qui lui est étranger. Petite remarque qui peut vous sauver la vie : bien qu'il soit en fait un gentil toutou, il est tout de même préférable de garder ses distances !\n",
            "\n",
            "GOLD= 0 PRED= 1 371 Une entrée en fanfare avec une superbe saison 1...mais alors quelle décrépitude depuis...c'est très très dommage!\n",
            "\n",
            "GOLD= 1 PRED= 0 378 Cette série m'a surpris! Je m'attendais à quelque chose de la même trempe qu'Amour Gloire et Beauté ou Les Feux de l'Amour, mais ce n'est pas du tout ça! D'accord la situation des personnages est \"un peu\" la même, c'est à dire qu'à la base, ils vivent aisément pour la plupart! Mais la psychologie de certains personnages et le charisme d'autres rend très bien! De plus l'histoire en général est captivante!\n",
            "\n",
            "GOLD= 0 PRED= 1 380 Cette série est le véhicule des idées puritaines et conservatrices de l'amérique qui offre le temps de chaque épisode, un regard moralisateur sur tous les possibles écarts de ces jeunes bourgeois de haute catégorie. On dirait JAG, les uniformes et l'action en moins.\n",
            "\n",
            "GOLD= 1 PRED= 0 388 C'est une des meilleurs série pour jeune que je connaisse, pas niaise pour un sou, ne tombant pas dans la caricature, j'aimerais beaucoup qu'il la diffuse sur un chaîne^publique.\n",
            "\n",
            "GOLD= 0 PRED= 1 391 Très mauvaise imitation de 'Un, dos, tres' avec des acteurs bien moins bons. L'intrigue est pâlote et ça m'étonnerait que j'en regarde plus de 5 épisodes!\n",
            "\n",
            "GOLD= 0 PRED= 1 396 Pour ceux qui veulent savoir, nip tuck c'est des chirurgiens, éffectuant des chirurgie, voila, vous avez vus ses trés trés original, non ?\n",
            "\n",
            "GOLD= 0 PRED= 1 399 Grosse déception que cette série qui promettait beaucoup. En vrai, des gags pas toujours drôle, des acteurs insupportables (surtout leur voix, c'est fait exprès ou quoi ???) et des objets... heu comment dire... qui se voudraient décalés : certains sont marrants, d'autres complètement cons et d'autres mal exploités. Pas géniale, pauvre au niveau de l'humour et desservie par le jeu d'acteur.\n",
            "\n",
            "GOLD= 1 PRED= 0 401 passionnant!\n",
            "\n",
            "GOLD= 1 PRED= 0 403 Une programmation initiale qui aurait pu tuer cette série dans l'oeuf dans notre pays. Mais rien ne peut tuer la qualité dit-on... CSI en est l'exemple. Fan depuis la première heure, je suis étonnée de la constance de cette série qui au bout de 7 ans maintenant, a su garder sa ligne directrice et n'est pas tombée dans le \"sopori-soap\" (i.e. les personnages finissent toujours par coucher les uns avec les autres...). Le succès fût tel, qu'elle a fait des petits (versions Miami et Manhattan) mais qui n'ont pour le moment pas réussi à atteindre sa qualité.\n",
            "\n",
            "GOLD= 0 PRED= 1 404 rien d'original, deux chirurgiens éfféctuant des chirurgies esthétique. Voila vous savez tout, c'est bien vous avez vus, voila nip tuck. ha j'ai oublié, les acteurs ne sont pas trés credibles .\n",
            "\n",
            "GOLD= 0 PRED= 1 411 Les intrigues sont nulles, l'atrice principe aussi et les scénarios à peine croyables (je pense à la scene de la discotheque dans le 4eme épisode). Son role n'est absolument pas plausible sorte de mélange entre un scientifique et une tortue ninja on n'y croit pas une seconde! Son équipe n'est pas non plus crédible, moyenne d'age 19 ans et demi et ils utilisent des mots que la plupart des personnes n'utilisent jamais de leur vie. Boreanaz portant quand à lui très bien la deuxième partie de son nom... Cette série nous fais perdre notre temps.\n",
            "\n",
            "GOLD= 1 PRED= 0 415 C'est qui notre sociopathe préféré ... DEXTER ... Cette serie est tout bonnement incroyable ... Il tue des gens et on approuve ... on a peur qu'il se fasse coincé ... detestons les gens qui le deteste ... prions pour qu'il tue le vilain flic qui risque de l'arrété ... on est du coté obscur et on le sens meme pas ... pour nous c' limit un super héro ... Dexter a reveillé le sociopathe qui someil en chacun de nous ... parie difficil mais parie tenue ... Seul défaut de cette serie ... elle n'est pas quotidienne :(\n",
            "\n",
            "GOLD= 1 PRED= 0 417 3 etoiles, car la série n'est pas parfaite. Je crois que c'est du au jeu d'acteur qui est parfois faible. Critique qui ne touche pas Michael C. Hall qui joue à la perfection. On voit que la série est réalisée avec soin (les décors, les dialogues...), car le grand risque était de tomber dans des lieux communs, et de traiter le thème avec banalité malgré l'originalité du scenario. D'autre part, je tiens à parler du générique et du thème de musique récurrent qui sont vraiment bien, dans le sens où le générique est juste, et le thème adéquat. Bref, c'est un grand moment de série télé, mais la prochaine saison va peut-être décevoir. Aux réalisateurs de ne pas donner dans les sentiers battus ! Comme d'habitude, je m'insurge contre les chaines françaises qui ne donnent pas dans la vo sous-titrée. Car la voix, fait partie du jeu d'acteur, et en plus il y'a certaines répliques jeux de mots, etc qui peuvent nous échapper. (Imaginons un film français doublé en anglais !) Heureusement pour Dexter que cette série est diffusée sur canal, car sur tf1 cela eut été insupportable (diffusions à minuit, hachée de pubs...)\n",
            "\n",
            "GOLD= 1 PRED= 0 423 Mysterieux,intrigant voire effrayant tels sont les mots qui qualifient ce Dexter. J'ai rarement eu l'occase de regarder une serie aussi passionnante depuis \"six feet under\" dans laquelle jouait deja Michael C Hall qui a le don pour bien choisir ses personnages.Il y a encore qques années il aurait été impensable de voir une série qui fait valser toute forme de morale.Bref c'est puissant et à ne manquer sous aucun pretexte !!!\n",
            "\n",
            "GOLD= 1 PRED= 0 425 serie ENORME rien à dire, quand on connait pas on peut ce dire bof des chirurgiens on va voir que des opérations mais rien d'autre en ben non ceux qui disent ça je leurs conseille de regarder au moins un episode pour ce rendre compte que ce n'est pas du tout ce qu'ils croient certes il y a des opération, c'est bien normal mais il y a un paquets d'histoires et de rebondissements c'est ce qui fait de nip tuck une serie culte!!\n",
            "\n",
            "GOLD= 0 PRED= 1 435 Sujet niais pour serie niaise.\n",
            "\n",
            "GOLD= 0 PRED= 1 438 Une série bien lourde. Un policier qui devrait penser à la retraite, il n'est plus vraiment dans le coup.\n",
            "\n",
            "GOLD= 0 PRED= 1 439 Mouais... J'ai vu toute la première saison et je suis vraiment déçu. A part le pseudo politiquement incorrect, il n'y a rien. Cette série est bien faible face à 6 feet under à laquelle on la compare souvent. Psychologie des personnages très simpliste, scénario abracadabrant... 3 intrigues différentes à chaque épisode... C'est peut-être hype, mais ça ne soutient pas du tout la comparaison avec des séries aussi fines que 6 feet under ou the Sopranos.\n",
            "\n",
            "GOLD= 0 PRED= 1 445 Une idée de départ intéressante, mais qui tourne rapidement en rond. Par contre Michael Hall est vraiment très impressionnant, tout comme Jennifer Carpenter qui confirme après \"L'exorcisme d'Emily Rose\".\n",
            "\n",
            "GOLD= 1 PRED= 0 454 quatres étoiles pour ma série policière préférée. superbes enquêtes à pratiquement tt les épisodes. Dans un épisode on demande à grissom quel est la dernière chose qu'il voudrait faire avant de mourir. \" lire une dernière fois moby dick \" la classe.\n",
            "\n",
            "GOLD= 1 PRED= 0 456 J'ai beaucoup aimé les 3 premiers épisodes de cette série, et je trouve bien qu'il n'y en ai que 6 ... au moins c'est clair, net et précis ! On est sûr de ne pas partir sur des bases à la 4400 !\n",
            "\n",
            "GOLD= 1 PRED= 0 472 Les premiers et seuls et uniques experts qui tiennent la route. A privilégier face aux Experts Manathan et que sais-je encore...\n",
            "\n",
            "GOLD= 0 PRED= 1 481 Bon alors la c'est une énorme déception. La façon dont sont représenté les personnage en leur donnant des caractères un peu fou s'est bien épuisé depuis Ally McBeal. Sans parlé des nombreuses affaires que ses avocats mannequins, défendent, qui sont toutes plus débiles et improbables les unes que les autres. Je le répète on est bien loin du cabinet fou d'Ally McBeal et la ou Ally innovait, Boston Legale, en fait trop et s'enfonce. Je met quand même une étoile car je suis sur qu'en VO le jeu des comédiens est excellent.\n",
            "\n",
            "GOLD= 0 PRED= 1 491 Les acteurs sont convaincants comme des mouches, l'histoire... Elle me rappelle une série espagnole nommée \"Un, dos, tres\"... Trop nulle, zappez de suite cette série!\n",
            "\n",
            "GOLD= 1 PRED= 0 494 A mourir de rire!! Une vraie bonne série comique que seuls les américains savent faire, du pur bonheur et des acteurs excellents... L'histoire d'une famille éclatée, ça colle bien à la réalité d'aujourd'hui, contrairement à ces séries puritaines complètement déphasées du style 'sept à la maison'...\n",
            "\n",
            "GOLD= 0 PRED= 1 502 Je suis une fan de la série Les Experts et de ses spin-off. Je trouve le principe de montrer le côté scientifique des enquêtes policières très intéressant. Les personnages sont très attachants, même si la série est axée principalement sur les enquêtes et non sur la vie des personnages. On en sait suffisamment pour les comprendre. Cependant je trouve dommage que les épisodes ne soient pas diffusés dans l'ordre... Ca enlève un peu de cachet...\n",
            "\n",
            "GOLD= 1 PRED= 0 505 extra! extra!! extra!!!\n",
            "\n",
            "GOLD= 0 PRED= 1 533 je trouve cette série géniale on se met facilement dans la peau des personnages on recent bien les émotions bref j'ador cette série. vivement la saison 2. ju\n",
            "\n",
            "GOLD= 1 PRED= 0 539 Je ne sais pas pourquoi, mais je suis tombée carrément sous le charme de cette série! Je suis extrêmement triste de ne pas l'avoir découverte plus tôt! Le seul point négatif que je trouve à cette série, c'est que je trouve globalement l'histoire très stéréotypée et peu originale! Mais les scénarii sont assez bien et les personnages ont leur caractère!\n",
            "CHECK:  #Total= 549 #Errors= 100 Acc= 0.8178506375227687\n"
          ]
        }
      ]
    },
    {
      "cell_type": "markdown",
      "metadata": {
        "id": "LBe-8okB-9oc"
      },
      "source": [
        "### Exercise 4: Experiment with different feature sets.\n",
        "\n",
        "Here, we'll just try bi-grams.\n",
        "\n",
        "▶▶ **TODO: write the code to vectorize the data into bigrams. Keep 'max_features = 500'. Then retrain and evaluate the classifier.**\n",
        "\n",
        "We could also have tried to:\n",
        "  * Exclude a list of stopwords (high-frequency words that are considered too general to be meaningful, such as une or le)\n",
        "  * Experiment with n-grams with n>2 \n",
        "  * Combine features (e.g. BOW + bi-grams)\n",
        "  * Can you think of other features to include?"
      ]
    },
    {
      "cell_type": "code",
      "metadata": {
        "id": "SkyrhwGx-jYz",
        "colab": {
          "base_uri": "https://localhost:8080/"
        },
        "outputId": "e20434e3-c738-4891-9ef7-9ee132374061"
      },
      "source": [
        "# --------------------------------------------------------\n",
        "# TODO: Write the code to vectorize to extract bigrams\n",
        "# --------------------------------------------------------\n",
        "\n",
        "vectorizer_big = CountVectorizer( analyzer = 'word', max_features = 500, ngram_range=(2,2) )\n",
        "\n",
        "# --------------------------------------------------------\n",
        "# TODO: Vectorize the train and dev sets\n",
        "# --------------------------------------------------------\n",
        "print(\"Vectorize TRAIN:\")\n",
        "train_feats_big = vectorizer_big.fit_transform( train_tok )\n",
        "print(train_feats_big.shape)\n",
        "\n",
        "print(\"\\nVectorize DEV:\")\n",
        "dev_feats_big = vectorizer_big.transform( dev_tok )\n",
        "print(dev_feats_big.shape)\n",
        "\n",
        "vocab = vectorizer_big.get_feature_names()\n",
        "print(\"\\nVocabulary:\", vocab[:20])\n",
        "\n",
        "# --------------------------------------------------------\n",
        "# TODO: Train a Naive Bayes classifier and evaluate on dev\n",
        "# --------------------------------------------------------\n",
        "print(\"\\nTraining classifier\")\n",
        "classifier_big = MultinomialNB()\n",
        "classifier_big.fit(train_feats_big, train['sentiment'])\n",
        "\n",
        "# Compute the performance on the dev set\n",
        "score = classifier_big.score( dev_feats_big, dev['sentiment']\n",
        ")\n",
        "print(score)"
      ],
      "execution_count": null,
      "outputs": [
        {
          "output_type": "stream",
          "name": "stdout",
          "text": [
            "Vectorize TRAIN:\n",
            "(5027, 500)\n",
            "\n",
            "Vectorize DEV:\n",
            "(549, 500)\n",
            "\n",
            "Vocabulary: ['acteurs et', 'acteurs jouent', 'acteurs ne', 'acteurs qui', 'acteurs sont', 'adore cette', 'ai jamais', 'ai pas', 'ai regardé', 'ai vu', 'ai été', 'aime pas', 'alors que', 'arrive pas', 'au bout', 'au début', 'au fil', 'au final', 'au moins', 'aujourd hui']\n",
            "\n",
            "Training classifier\n",
            "0.7085610200364298\n"
          ]
        }
      ]
    },
    {
      "cell_type": "markdown",
      "metadata": {
        "id": "-rFwwod5_gXI"
      },
      "source": [
        "### Exercise 5\n",
        "\n",
        "Experiment with different classifiers, compare:\n",
        "* Naive Bayes \n",
        "* MaxEnt\n",
        "\n",
        "▶▶ **Compare the results obtained with NB to the ones obtained with MaxEnt.**\n",
        "\n",
        "▶▶ **When you're done, try what happens if you remove 'max_features = 500'. What do you conclude?**"
      ]
    },
    {
      "cell_type": "code",
      "metadata": {
        "id": "kHrZ3vI-_9zE",
        "colab": {
          "base_uri": "https://localhost:8080/"
        },
        "outputId": "a88a3022-da37-4bde-ce87-3078ef341720"
      },
      "source": [
        "# --------------------------------------------------------\n",
        "# TODO: Train a MaxEnt classifier and evaluate on dev, using the best features\n",
        "# --------------------------------------------------------\n",
        "\n",
        "from sklearn.linear_model import LogisticRegression\n",
        "classifier_lr = LogisticRegression()\n",
        "\n",
        "classifier_lr.fit(train_feats_big, train['sentiment'])\n",
        "\n",
        "# Compute the performance on the dev set\n",
        "score = classifier_lr.score( dev_feats_big, dev['sentiment'])\n",
        "print(score)"
      ],
      "execution_count": null,
      "outputs": [
        {
          "output_type": "stream",
          "name": "stdout",
          "text": [
            "0.7158469945355191\n"
          ]
        }
      ]
    },
    {
      "cell_type": "markdown",
      "metadata": {
        "id": "FiYLw-M5WdnF"
      },
      "source": [
        "-- TO REMOVE\n",
        "\n",
        "We don't have time here, but we would need to tune our model. Tuning would probably lead to MaxEnt giving better results that NB in both cases. "
      ]
    },
    {
      "cell_type": "markdown",
      "metadata": {
        "id": "BEMs98mR_-AG"
      },
      "source": [
        "### Exercise 6\n",
        "\n",
        "You’ve determined the best feature set and classification algorithm (missing: the best set of hyper-parameters). \n",
        "\n",
        "▶▶ **compute the performance on the test set**."
      ]
    },
    {
      "cell_type": "code",
      "metadata": {
        "id": "YJYV84q6_-o0",
        "colab": {
          "base_uri": "https://localhost:8080/"
        },
        "outputId": "da2c9ab8-ef8d-480a-cdac-30a8e019d3dc"
      },
      "source": [
        "# --------------------------------------------------------\n",
        "# TODO: Compute the final results on the TEST set\n",
        "# --------------------------------------------------------\n",
        "\n",
        "test_feats_big = vectorizer_big.transform( test_tok )\n",
        "score = classifier_lr.score( test_feats_big, test['sentiment'])\n",
        "print(score)"
      ],
      "execution_count": null,
      "outputs": [
        {
          "output_type": "stream",
          "name": "stdout",
          "text": [
            "0.7757352941176471\n"
          ]
        }
      ]
    },
    {
      "cell_type": "markdown",
      "metadata": {
        "id": "y71z29pK-jwS"
      },
      "source": [
        "## Intrinsic model evaluation (code given)\n",
        "\n",
        "Some models allow us to look at the most informative features. \n",
        "\n",
        "▶▶ **Examine both the top and the bottom of the list. Which features are most informative ?**"
      ]
    },
    {
      "cell_type": "code",
      "metadata": {
        "id": "U4mRULuT-TQi",
        "colab": {
          "base_uri": "https://localhost:8080/"
        },
        "outputId": "ddb72946-a840-43e7-8018-83004797fcc7"
      },
      "source": [
        "classifier_lr_bow = LogisticRegression()\n",
        "classifier_lr_bow.fit(train_feats_bow, train['sentiment'])\n",
        "\n",
        "vocab = vectorizer_bow.get_feature_names()\n",
        "\n",
        "allCoefficients = [(classifier_lr_bow.coef_[0,i], vocab[i]) for i in range(len(vocab))]\n",
        "allCoefficients.sort()\n",
        "allCoefficients.reverse()"
      ],
      "execution_count": null,
      "outputs": [
        {
          "output_type": "stream",
          "name": "stderr",
          "text": [
            "/usr/local/lib/python3.7/dist-packages/sklearn/linear_model/_logistic.py:940: ConvergenceWarning: lbfgs failed to converge (status=1):\n",
            "STOP: TOTAL NO. of ITERATIONS REACHED LIMIT.\n",
            "\n",
            "Increase the number of iterations (max_iter) or scale the data as shown in:\n",
            "    https://scikit-learn.org/stable/modules/preprocessing.html\n",
            "Please also refer to the documentation for alternative solver options:\n",
            "    https://scikit-learn.org/stable/modules/linear_model.html#logistic-regression\n",
            "  extra_warning_msg=_LOGISTIC_SOLVER_CONVERGENCE_MSG)\n"
          ]
        }
      ]
    },
    {
      "cell_type": "code",
      "metadata": {
        "id": "in907YQ4-oXv",
        "colab": {
          "base_uri": "https://localhost:8080/"
        },
        "outputId": "c37c161a-4eea-4041-a75e-932357c6610d"
      },
      "source": [
        "print(\"Top features for positive class:\")\n",
        "print( '\\n'.join( [ f+':\\t'+str((round(w,3))) for (w,f) in allCoefficients[:50]] ) )"
      ],
      "execution_count": null,
      "outputs": [
        {
          "output_type": "stream",
          "name": "stdout",
          "text": [
            "Top features for positive class:\n",
            "excellent:\t2.491\n",
            "adore:\t2.428\n",
            "génial:\t2.107\n",
            "bravo:\t2.021\n",
            "meilleure:\t1.878\n",
            "géniale:\t1.835\n",
            "superbe:\t1.798\n",
            "excellente:\t1.68\n",
            "plaisir:\t1.448\n",
            "magnifique:\t1.403\n",
            "espère:\t1.387\n",
            "tres:\t1.371\n",
            "attachants:\t1.361\n",
            "meilleur:\t1.359\n",
            "fantastique:\t1.329\n",
            "super:\t1.327\n",
            "merci:\t1.318\n",
            "étoiles:\t1.305\n",
            "fan:\t1.25\n",
            "meilleures:\t1.177\n",
            "vivement:\t1.172\n",
            "drôle:\t1.157\n",
            "bonne:\t1.155\n",
            "coeur:\t1.125\n",
            "jack:\t1.086\n",
            "vrai:\t1.082\n",
            "suspense:\t1.082\n",
            "petit:\t1.039\n",
            "culte:\t0.999\n",
            "doute:\t0.947\n",
            "moment:\t0.944\n",
            "mes:\t0.893\n",
            "bons:\t0.888\n",
            "charme:\t0.882\n",
            "mélange:\t0.857\n",
            "fil:\t0.853\n",
            "ait:\t0.853\n",
            "revoir:\t0.846\n",
            "ambiance:\t0.822\n",
            "suite:\t0.792\n",
            "certaines:\t0.774\n",
            "rôle:\t0.76\n",
            "grande:\t0.756\n",
            "rebondissements:\t0.754\n",
            "ceux:\t0.724\n",
            "surtout:\t0.713\n",
            "enfin:\t0.711\n",
            "voix:\t0.706\n",
            "simple:\t0.702\n",
            "voir:\t0.698\n"
          ]
        }
      ]
    },
    {
      "cell_type": "code",
      "metadata": {
        "id": "AdrYsRJ7-rMf",
        "colab": {
          "base_uri": "https://localhost:8080/"
        },
        "outputId": "a35ae06f-0151-420e-d97e-24c2ea97248b"
      },
      "source": [
        "print(\"Top features for negative class:\")\n",
        "print( '\\n'.join( [ f+':'+str((round(w,3))) for (w,f) in allCoefficients[-50:]] ) )"
      ],
      "execution_count": null,
      "outputs": [
        {
          "output_type": "stream",
          "name": "stdout",
          "text": [
            "Top features for negative class:\n",
            "minutes:-0.615\n",
            "etre:-0.628\n",
            "départ:-0.634\n",
            "complètement:-0.65\n",
            "pu:-0.663\n",
            "demande:-0.664\n",
            "sens:-0.664\n",
            "arrive:-0.703\n",
            "nom:-0.71\n",
            "vont:-0.722\n",
            "scénarios:-0.798\n",
            "femme:-0.806\n",
            "force:-0.819\n",
            "maison:-0.825\n",
            "quelle:-0.836\n",
            "ah:-0.861\n",
            "veut:-0.868\n",
            "bout:-0.877\n",
            "rien:-0.899\n",
            "père:-0.902\n",
            "sentiments:-0.926\n",
            "dialogues:-0.942\n",
            "mal:-0.967\n",
            "ennuie:-0.98\n",
            "manque:-0.997\n",
            "truc:-1.046\n",
            "chez:-1.056\n",
            "aucun:-1.15\n",
            "malheureusement:-1.158\n",
            "comprends:-1.177\n",
            "morale:-1.182\n",
            "gros:-1.195\n",
            "mauvais:-1.203\n",
            "jouer:-1.212\n",
            "feux:-1.232\n",
            "personne:-1.25\n",
            "image:-1.28\n",
            "aucune:-1.36\n",
            "pathétique:-1.368\n",
            "déçu:-1.382\n",
            "idée:-1.429\n",
            "nulle:-1.633\n",
            "nullité:-1.664\n",
            "intérêt:-1.716\n",
            "nul:-1.781\n",
            "copie:-2.009\n",
            "pire:-2.066\n",
            "ridicule:-2.162\n",
            "mauvaise:-2.206\n",
            "étoile:-2.537\n"
          ]
        }
      ]
    },
    {
      "cell_type": "markdown",
      "metadata": {
        "id": "zq7Rj5S8-DQi"
      },
      "source": [
        "TO REMOVE\n",
        "\n",
        "### Exercise 3: Tuning \n",
        "\n",
        "#### K-fold cross validation\n",
        "\n",
        "Usually, we will want to try out different parameters, in order to see what works best for our task. As such, we might experiment with:\n",
        "\n",
        "* Different features\n",
        "* Different classification algorithms \n",
        "* Different model parameters\n",
        "\n",
        "However, we have to be careful: we cannot use our test set over and over again, as we’ll be optimizing our parameters for that particular test set (and run the risk of overfitting, which means we are not able to properly generalize to data we haven’t trained on). \n",
        "For this reason, we need to make use of a validation set. \n",
        "However, our training set is already quite small; creating a separate validation set would give us even less training data. \n",
        "\n",
        "Fortunately, we don’t have to create a separate set: we can use k-fold cross validation. \n",
        "The idea is the following:\n",
        "* Break up data into k (e.g. 10) parts (folds) \n",
        "* For each fold\n",
        "     * Current fold is used as temporary test set – Use other 9 folds as training data\n",
        "     * Performance is computed on test fold\n",
        "* Average performance over 10 runs\n",
        "\n",
        "Note that, again, we want to make sure that the movies that are reviewed in our training set are different from the ones that appear in our validation set. Scikit- learn has a function for this:"
      ]
    },
    {
      "cell_type": "code",
      "metadata": {
        "id": "LhP92GvH-3Ht"
      },
      "source": [
        "# Code to fit a classifier using kfold - print score on kfold\n",
        "\n",
        "from sklearn.model_selection import GroupKFold\n",
        "group_kfold = GroupKFold(n_splits=10)\n",
        "score_kfold = []\n",
        "for train_index, test_index in group_kfold.split(train_data_features, train['sentiment'], train['movie_id']):\n",
        "    X_train, X_test = train_data_features[train_index], train_data_features[test_index]\n",
        "    y_train, y_test = train['sentiment'][train_index], train['sentiment'][test_index]\n",
        "    classifier.fit(X_train, y_train)\n",
        "    score_kfold.append(classifier.score(X_test, y_test))\n",
        "print(sum(score_kfold) / len(score_kfold))"
      ],
      "execution_count": null,
      "outputs": []
    },
    {
      "cell_type": "markdown",
      "metadata": {
        "id": "7tkdr-uW9kst"
      },
      "source": [
        ""
      ]
    }
  ]
}